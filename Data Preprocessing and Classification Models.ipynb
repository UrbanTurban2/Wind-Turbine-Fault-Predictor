{
  "nbformat": 4,
  "nbformat_minor": 0,
  "metadata": {
    "kernelspec": {
      "display_name": "Python 3",
      "language": "python",
      "name": "python3"
    },
    "language_info": {
      "codemirror_mode": {
        "name": "ipython",
        "version": 3
      },
      "file_extension": ".py",
      "mimetype": "text/x-python",
      "name": "python",
      "nbconvert_exporter": "python",
      "pygments_lexer": "ipython3",
      "version": "3.7.6"
    },
    "colab": {
      "name": "Untitled1.ipynb",
      "provenance": [],
      "collapsed_sections": [
        "_Cgwh12wSh2O",
        "X-zyDCFlBVj1",
        "wyK14Ml1rHKC",
        "S3kQqT0jK9iJ",
        "k6dZynnaaDlV",
        "jvBY1eAFGv5X",
        "HoPbzH6iRF_O",
        "xRT_dfxUTAmP",
        "P2RM0chxXGiz",
        "FiEoioKYh8tj"
      ]
    }
  },
  "cells": [
    {
      "cell_type": "code",
      "metadata": {
        "id": "2wcMZt4UaDht"
      },
      "source": [
        "import numpy as np\n",
        "import pandas as pd \n",
        "import matplotlib.pyplot as plt\n",
        "import seaborn as sns\n",
        "sns.set(rc={'figure.figsize':(20,20)})\n",
        "import random \n",
        "from datetime import datetime, timedelta\n",
        "from bisect import *\n",
        "from collections import defaultdict\n",
        "\n",
        "%matplotlib inline"
      ],
      "execution_count": null,
      "outputs": []
    },
    {
      "cell_type": "code",
      "metadata": {
        "id": "rBlVeJi3Hzp5"
      },
      "source": [
        "from sklearn.linear_model import LogisticRegression\n",
        "from sklearn.svm import SVC\n",
        "from sklearn.neighbors import KNeighborsClassifier\n",
        "from sklearn.tree import DecisionTreeClassifier\n",
        "from sklearn.ensemble import RandomForestClassifier, GradientBoostingClassifier"
      ],
      "execution_count": null,
      "outputs": []
    },
    {
      "cell_type": "code",
      "metadata": {
        "id": "JZOZs_jjbmFf",
        "colab": {
          "base_uri": "https://localhost:8080/"
        },
        "outputId": "1a787249-ee75-4126-b665-74bec0f230bc"
      },
      "source": [
        "from google.colab import drive\n",
        "drive.mount('/content/drive')"
      ],
      "execution_count": null,
      "outputs": [
        {
          "output_type": "stream",
          "text": [
            "Mounted at /content/drive\n"
          ],
          "name": "stdout"
        }
      ]
    },
    {
      "cell_type": "code",
      "metadata": {
        "id": "h63j4B3jaDh0"
      },
      "source": [
        "df_fault_data = pd.read_csv('/content/drive/My Drive/fault_data.csv')\n",
        "df_scada_data = pd.read_csv('/content/drive/My Drive/scada_data.csv')"
      ],
      "execution_count": null,
      "outputs": []
    },
    {
      "cell_type": "markdown",
      "metadata": {
        "id": "_Cgwh12wSh2O"
      },
      "source": [
        "# Data Cleaning and Pre-processing"
      ]
    },
    {
      "cell_type": "code",
      "metadata": {
        "id": "Wr1eWbwbaDh8",
        "colab": {
          "base_uri": "https://localhost:8080/"
        },
        "outputId": "43477d5a-cc14-4c6e-bdb9-9be1054e23fb"
      },
      "source": [
        "df_fault_data.shape"
      ],
      "execution_count": null,
      "outputs": [
        {
          "output_type": "execute_result",
          "data": {
            "text/plain": [
              "(553, 3)"
            ]
          },
          "metadata": {
            "tags": []
          },
          "execution_count": 5
        }
      ]
    },
    {
      "cell_type": "code",
      "metadata": {
        "id": "OGH8AXmfaDiB",
        "colab": {
          "base_uri": "https://localhost:8080/"
        },
        "outputId": "33d4a0be-c6e6-4e26-b071-fde46274108c"
      },
      "source": [
        "df_scada_data.shape"
      ],
      "execution_count": null,
      "outputs": [
        {
          "output_type": "execute_result",
          "data": {
            "text/plain": [
              "(49027, 66)"
            ]
          },
          "metadata": {
            "tags": []
          },
          "execution_count": 6
        }
      ]
    },
    {
      "cell_type": "code",
      "metadata": {
        "id": "baadwa1kaDiN",
        "colab": {
          "base_uri": "https://localhost:8080/",
          "height": 195
        },
        "outputId": "3922fcff-cada-4408-9f10-1104ad548ea1"
      },
      "source": [
        "df_fault_data.head()"
      ],
      "execution_count": null,
      "outputs": [
        {
          "output_type": "execute_result",
          "data": {
            "text/html": [
              "<div>\n",
              "<style scoped>\n",
              "    .dataframe tbody tr th:only-of-type {\n",
              "        vertical-align: middle;\n",
              "    }\n",
              "\n",
              "    .dataframe tbody tr th {\n",
              "        vertical-align: top;\n",
              "    }\n",
              "\n",
              "    .dataframe thead th {\n",
              "        text-align: right;\n",
              "    }\n",
              "</style>\n",
              "<table border=\"1\" class=\"dataframe\">\n",
              "  <thead>\n",
              "    <tr style=\"text-align: right;\">\n",
              "      <th></th>\n",
              "      <th>DateTime</th>\n",
              "      <th>Time</th>\n",
              "      <th>Fault</th>\n",
              "    </tr>\n",
              "  </thead>\n",
              "  <tbody>\n",
              "    <tr>\n",
              "      <th>0</th>\n",
              "      <td>2014-05-14 14:39:44</td>\n",
              "      <td>1.400096e+09</td>\n",
              "      <td>GF</td>\n",
              "    </tr>\n",
              "    <tr>\n",
              "      <th>1</th>\n",
              "      <td>2014-05-14 14:50:24</td>\n",
              "      <td>1.400097e+09</td>\n",
              "      <td>GF</td>\n",
              "    </tr>\n",
              "    <tr>\n",
              "      <th>2</th>\n",
              "      <td>2014-05-14 14:58:56</td>\n",
              "      <td>1.400098e+09</td>\n",
              "      <td>GF</td>\n",
              "    </tr>\n",
              "    <tr>\n",
              "      <th>3</th>\n",
              "      <td>2014-05-14 15:09:36</td>\n",
              "      <td>1.400098e+09</td>\n",
              "      <td>GF</td>\n",
              "    </tr>\n",
              "    <tr>\n",
              "      <th>4</th>\n",
              "      <td>2014-05-14 15:20:16</td>\n",
              "      <td>1.400099e+09</td>\n",
              "      <td>GF</td>\n",
              "    </tr>\n",
              "  </tbody>\n",
              "</table>\n",
              "</div>"
            ],
            "text/plain": [
              "              DateTime          Time Fault\n",
              "0  2014-05-14 14:39:44  1.400096e+09    GF\n",
              "1  2014-05-14 14:50:24  1.400097e+09    GF\n",
              "2  2014-05-14 14:58:56  1.400098e+09    GF\n",
              "3  2014-05-14 15:09:36  1.400098e+09    GF\n",
              "4  2014-05-14 15:20:16  1.400099e+09    GF"
            ]
          },
          "metadata": {
            "tags": []
          },
          "execution_count": 7
        }
      ]
    },
    {
      "cell_type": "code",
      "metadata": {
        "id": "WGyTye3faDiY",
        "colab": {
          "base_uri": "https://localhost:8080/",
          "height": 467
        },
        "outputId": "b554a864-dce1-4fda-a63a-18f05bc4de2d"
      },
      "source": [
        "df_scada_data.head()"
      ],
      "execution_count": null,
      "outputs": [
        {
          "output_type": "execute_result",
          "data": {
            "text/html": [
              "<div>\n",
              "<style scoped>\n",
              "    .dataframe tbody tr th:only-of-type {\n",
              "        vertical-align: middle;\n",
              "    }\n",
              "\n",
              "    .dataframe tbody tr th {\n",
              "        vertical-align: top;\n",
              "    }\n",
              "\n",
              "    .dataframe thead th {\n",
              "        text-align: right;\n",
              "    }\n",
              "</style>\n",
              "<table border=\"1\" class=\"dataframe\">\n",
              "  <thead>\n",
              "    <tr style=\"text-align: right;\">\n",
              "      <th></th>\n",
              "      <th>DateTime</th>\n",
              "      <th>Time</th>\n",
              "      <th>Error</th>\n",
              "      <th>WEC: ava. windspeed</th>\n",
              "      <th>WEC: max. windspeed</th>\n",
              "      <th>WEC: min. windspeed</th>\n",
              "      <th>WEC: ava. Rotation</th>\n",
              "      <th>WEC: max. Rotation</th>\n",
              "      <th>WEC: min. Rotation</th>\n",
              "      <th>WEC: ava. Power</th>\n",
              "      <th>WEC: max. Power</th>\n",
              "      <th>WEC: min. Power</th>\n",
              "      <th>WEC: ava. Nacel position including cable twisting</th>\n",
              "      <th>WEC: Operating Hours</th>\n",
              "      <th>WEC: Production kWh</th>\n",
              "      <th>WEC: Production minutes</th>\n",
              "      <th>WEC: ava. reactive Power</th>\n",
              "      <th>WEC: max. reactive Power</th>\n",
              "      <th>WEC: min. reactive Power</th>\n",
              "      <th>WEC: ava. available P from wind</th>\n",
              "      <th>WEC: ava. available P technical reasons</th>\n",
              "      <th>WEC: ava. Available P force majeure reasons</th>\n",
              "      <th>WEC: ava. Available P force external reasons</th>\n",
              "      <th>WEC: ava. blade angle A</th>\n",
              "      <th>Sys 1 inverter 1 cabinet temp.</th>\n",
              "      <th>Sys 1 inverter 2 cabinet temp.</th>\n",
              "      <th>Sys 1 inverter 3 cabinet temp.</th>\n",
              "      <th>Sys 1 inverter 4 cabinet temp.</th>\n",
              "      <th>Sys 1 inverter 5 cabinet temp.</th>\n",
              "      <th>Sys 1 inverter 6 cabinet temp.</th>\n",
              "      <th>Sys 1 inverter 7 cabinet temp.</th>\n",
              "      <th>Sys 2 inverter 1 cabinet temp.</th>\n",
              "      <th>Sys 2 inverter 2 cabinet temp.</th>\n",
              "      <th>Sys 2 inverter 3 cabinet temp.</th>\n",
              "      <th>Sys 2 inverter 4 cabinet temp.</th>\n",
              "      <th>Sys 2 inverter 5 cabinet temp.</th>\n",
              "      <th>Sys 2 inverter 6 cabinet temp.</th>\n",
              "      <th>Sys 2 inverter 7 cabinet temp.</th>\n",
              "      <th>Spinner temp.</th>\n",
              "      <th>Front bearing temp.</th>\n",
              "      <th>Rear bearing temp.</th>\n",
              "      <th>Pitch cabinet blade A temp.</th>\n",
              "      <th>Pitch cabinet blade B temp.</th>\n",
              "      <th>Pitch cabinet blade C temp.</th>\n",
              "      <th>Blade A temp.</th>\n",
              "      <th>Blade B temp.</th>\n",
              "      <th>Blade C temp.</th>\n",
              "      <th>Rotor temp. 1</th>\n",
              "      <th>Rotor temp. 2</th>\n",
              "      <th>Stator temp. 1</th>\n",
              "      <th>Stator temp. 2</th>\n",
              "      <th>Nacelle ambient temp. 1</th>\n",
              "      <th>Nacelle ambient temp. 2</th>\n",
              "      <th>Nacelle temp.</th>\n",
              "      <th>Nacelle cabinet temp.</th>\n",
              "      <th>Main carrier temp.</th>\n",
              "      <th>Rectifier cabinet temp.</th>\n",
              "      <th>Yaw inverter cabinet temp.</th>\n",
              "      <th>Fan inverter cabinet temp.</th>\n",
              "      <th>Ambient temp.</th>\n",
              "      <th>Tower temp.</th>\n",
              "      <th>Control cabinet temp.</th>\n",
              "      <th>Transformer temp.</th>\n",
              "      <th>RTU: ava. Setpoint 1</th>\n",
              "      <th>Inverter averages</th>\n",
              "      <th>Inverter std dev</th>\n",
              "    </tr>\n",
              "  </thead>\n",
              "  <tbody>\n",
              "    <tr>\n",
              "      <th>0</th>\n",
              "      <td>05-01-2014 00:00</td>\n",
              "      <td>1398920448</td>\n",
              "      <td>0</td>\n",
              "      <td>6.9</td>\n",
              "      <td>9.4</td>\n",
              "      <td>2.9</td>\n",
              "      <td>0.0</td>\n",
              "      <td>0.02</td>\n",
              "      <td>0.0</td>\n",
              "      <td>0</td>\n",
              "      <td>0</td>\n",
              "      <td>0</td>\n",
              "      <td>640</td>\n",
              "      <td>881</td>\n",
              "      <td>939053</td>\n",
              "      <td>6</td>\n",
              "      <td>0</td>\n",
              "      <td>0</td>\n",
              "      <td>0</td>\n",
              "      <td>838</td>\n",
              "      <td>0</td>\n",
              "      <td>838</td>\n",
              "      <td>838</td>\n",
              "      <td>91.959999</td>\n",
              "      <td>24</td>\n",
              "      <td>26</td>\n",
              "      <td>25</td>\n",
              "      <td>24</td>\n",
              "      <td>26</td>\n",
              "      <td>25</td>\n",
              "      <td>25</td>\n",
              "      <td>27</td>\n",
              "      <td>27</td>\n",
              "      <td>25</td>\n",
              "      <td>24</td>\n",
              "      <td>-14</td>\n",
              "      <td>0</td>\n",
              "      <td>-50</td>\n",
              "      <td>13</td>\n",
              "      <td>13</td>\n",
              "      <td>13</td>\n",
              "      <td>27</td>\n",
              "      <td>38</td>\n",
              "      <td>26</td>\n",
              "      <td>166</td>\n",
              "      <td>166</td>\n",
              "      <td>167</td>\n",
              "      <td>15</td>\n",
              "      <td>15</td>\n",
              "      <td>15</td>\n",
              "      <td>15</td>\n",
              "      <td>11</td>\n",
              "      <td>11</td>\n",
              "      <td>14</td>\n",
              "      <td>22</td>\n",
              "      <td>13</td>\n",
              "      <td>24</td>\n",
              "      <td>20</td>\n",
              "      <td>25</td>\n",
              "      <td>12</td>\n",
              "      <td>14</td>\n",
              "      <td>24</td>\n",
              "      <td>34</td>\n",
              "      <td>2501</td>\n",
              "      <td>25.272728</td>\n",
              "      <td>1.103713</td>\n",
              "    </tr>\n",
              "    <tr>\n",
              "      <th>1</th>\n",
              "      <td>05-01-2014 00:09</td>\n",
              "      <td>1398920960</td>\n",
              "      <td>0</td>\n",
              "      <td>5.3</td>\n",
              "      <td>8.9</td>\n",
              "      <td>1.6</td>\n",
              "      <td>0.0</td>\n",
              "      <td>0.01</td>\n",
              "      <td>0.0</td>\n",
              "      <td>0</td>\n",
              "      <td>0</td>\n",
              "      <td>0</td>\n",
              "      <td>640</td>\n",
              "      <td>881</td>\n",
              "      <td>939053</td>\n",
              "      <td>6</td>\n",
              "      <td>0</td>\n",
              "      <td>0</td>\n",
              "      <td>0</td>\n",
              "      <td>443</td>\n",
              "      <td>0</td>\n",
              "      <td>443</td>\n",
              "      <td>443</td>\n",
              "      <td>91.959999</td>\n",
              "      <td>24</td>\n",
              "      <td>26</td>\n",
              "      <td>25</td>\n",
              "      <td>24</td>\n",
              "      <td>26</td>\n",
              "      <td>25</td>\n",
              "      <td>25</td>\n",
              "      <td>27</td>\n",
              "      <td>27</td>\n",
              "      <td>25</td>\n",
              "      <td>24</td>\n",
              "      <td>-14</td>\n",
              "      <td>0</td>\n",
              "      <td>-50</td>\n",
              "      <td>13</td>\n",
              "      <td>13</td>\n",
              "      <td>13</td>\n",
              "      <td>27</td>\n",
              "      <td>38</td>\n",
              "      <td>26</td>\n",
              "      <td>166</td>\n",
              "      <td>166</td>\n",
              "      <td>167</td>\n",
              "      <td>15</td>\n",
              "      <td>15</td>\n",
              "      <td>15</td>\n",
              "      <td>15</td>\n",
              "      <td>11</td>\n",
              "      <td>11</td>\n",
              "      <td>13</td>\n",
              "      <td>21</td>\n",
              "      <td>13</td>\n",
              "      <td>24</td>\n",
              "      <td>20</td>\n",
              "      <td>25</td>\n",
              "      <td>12</td>\n",
              "      <td>14</td>\n",
              "      <td>24</td>\n",
              "      <td>34</td>\n",
              "      <td>2501</td>\n",
              "      <td>25.272728</td>\n",
              "      <td>1.103713</td>\n",
              "    </tr>\n",
              "    <tr>\n",
              "      <th>2</th>\n",
              "      <td>05-01-2014 00:20</td>\n",
              "      <td>1398921600</td>\n",
              "      <td>0</td>\n",
              "      <td>5.0</td>\n",
              "      <td>9.5</td>\n",
              "      <td>1.4</td>\n",
              "      <td>0.0</td>\n",
              "      <td>0.04</td>\n",
              "      <td>0.0</td>\n",
              "      <td>0</td>\n",
              "      <td>0</td>\n",
              "      <td>0</td>\n",
              "      <td>640</td>\n",
              "      <td>881</td>\n",
              "      <td>939053</td>\n",
              "      <td>6</td>\n",
              "      <td>0</td>\n",
              "      <td>0</td>\n",
              "      <td>0</td>\n",
              "      <td>525</td>\n",
              "      <td>0</td>\n",
              "      <td>525</td>\n",
              "      <td>525</td>\n",
              "      <td>91.940002</td>\n",
              "      <td>24</td>\n",
              "      <td>26</td>\n",
              "      <td>25</td>\n",
              "      <td>24</td>\n",
              "      <td>26</td>\n",
              "      <td>25</td>\n",
              "      <td>25</td>\n",
              "      <td>27</td>\n",
              "      <td>27</td>\n",
              "      <td>25</td>\n",
              "      <td>24</td>\n",
              "      <td>-14</td>\n",
              "      <td>0</td>\n",
              "      <td>-50</td>\n",
              "      <td>13</td>\n",
              "      <td>13</td>\n",
              "      <td>13</td>\n",
              "      <td>26</td>\n",
              "      <td>37</td>\n",
              "      <td>27</td>\n",
              "      <td>166</td>\n",
              "      <td>166</td>\n",
              "      <td>167</td>\n",
              "      <td>15</td>\n",
              "      <td>15</td>\n",
              "      <td>15</td>\n",
              "      <td>15</td>\n",
              "      <td>11</td>\n",
              "      <td>11</td>\n",
              "      <td>13</td>\n",
              "      <td>21</td>\n",
              "      <td>13</td>\n",
              "      <td>24</td>\n",
              "      <td>20</td>\n",
              "      <td>25</td>\n",
              "      <td>12</td>\n",
              "      <td>14</td>\n",
              "      <td>24</td>\n",
              "      <td>34</td>\n",
              "      <td>2501</td>\n",
              "      <td>25.272728</td>\n",
              "      <td>1.103713</td>\n",
              "    </tr>\n",
              "    <tr>\n",
              "      <th>3</th>\n",
              "      <td>05-01-2014 00:30</td>\n",
              "      <td>1398922240</td>\n",
              "      <td>0</td>\n",
              "      <td>4.4</td>\n",
              "      <td>8.3</td>\n",
              "      <td>1.3</td>\n",
              "      <td>0.0</td>\n",
              "      <td>0.08</td>\n",
              "      <td>0.0</td>\n",
              "      <td>0</td>\n",
              "      <td>0</td>\n",
              "      <td>0</td>\n",
              "      <td>641</td>\n",
              "      <td>881</td>\n",
              "      <td>939053</td>\n",
              "      <td>6</td>\n",
              "      <td>0</td>\n",
              "      <td>0</td>\n",
              "      <td>0</td>\n",
              "      <td>250</td>\n",
              "      <td>0</td>\n",
              "      <td>250</td>\n",
              "      <td>250</td>\n",
              "      <td>91.949997</td>\n",
              "      <td>24</td>\n",
              "      <td>26</td>\n",
              "      <td>25</td>\n",
              "      <td>24</td>\n",
              "      <td>26</td>\n",
              "      <td>25</td>\n",
              "      <td>25</td>\n",
              "      <td>27</td>\n",
              "      <td>27</td>\n",
              "      <td>25</td>\n",
              "      <td>24</td>\n",
              "      <td>-14</td>\n",
              "      <td>0</td>\n",
              "      <td>-50</td>\n",
              "      <td>13</td>\n",
              "      <td>13</td>\n",
              "      <td>13</td>\n",
              "      <td>26</td>\n",
              "      <td>33</td>\n",
              "      <td>31</td>\n",
              "      <td>166</td>\n",
              "      <td>166</td>\n",
              "      <td>167</td>\n",
              "      <td>15</td>\n",
              "      <td>15</td>\n",
              "      <td>15</td>\n",
              "      <td>15</td>\n",
              "      <td>11</td>\n",
              "      <td>11</td>\n",
              "      <td>13</td>\n",
              "      <td>20</td>\n",
              "      <td>13</td>\n",
              "      <td>23</td>\n",
              "      <td>21</td>\n",
              "      <td>25</td>\n",
              "      <td>12</td>\n",
              "      <td>14</td>\n",
              "      <td>24</td>\n",
              "      <td>34</td>\n",
              "      <td>2501</td>\n",
              "      <td>25.272728</td>\n",
              "      <td>1.103713</td>\n",
              "    </tr>\n",
              "    <tr>\n",
              "      <th>4</th>\n",
              "      <td>05-01-2014 00:39</td>\n",
              "      <td>1398922752</td>\n",
              "      <td>0</td>\n",
              "      <td>5.7</td>\n",
              "      <td>9.7</td>\n",
              "      <td>1.2</td>\n",
              "      <td>0.0</td>\n",
              "      <td>0.05</td>\n",
              "      <td>0.0</td>\n",
              "      <td>0</td>\n",
              "      <td>0</td>\n",
              "      <td>0</td>\n",
              "      <td>633</td>\n",
              "      <td>881</td>\n",
              "      <td>939053</td>\n",
              "      <td>6</td>\n",
              "      <td>0</td>\n",
              "      <td>0</td>\n",
              "      <td>0</td>\n",
              "      <td>549</td>\n",
              "      <td>0</td>\n",
              "      <td>549</td>\n",
              "      <td>549</td>\n",
              "      <td>91.940002</td>\n",
              "      <td>24</td>\n",
              "      <td>26</td>\n",
              "      <td>25</td>\n",
              "      <td>24</td>\n",
              "      <td>26</td>\n",
              "      <td>25</td>\n",
              "      <td>25</td>\n",
              "      <td>27</td>\n",
              "      <td>27</td>\n",
              "      <td>25</td>\n",
              "      <td>24</td>\n",
              "      <td>-14</td>\n",
              "      <td>0</td>\n",
              "      <td>-50</td>\n",
              "      <td>13</td>\n",
              "      <td>13</td>\n",
              "      <td>13</td>\n",
              "      <td>28</td>\n",
              "      <td>29</td>\n",
              "      <td>34</td>\n",
              "      <td>166</td>\n",
              "      <td>166</td>\n",
              "      <td>167</td>\n",
              "      <td>15</td>\n",
              "      <td>15</td>\n",
              "      <td>15</td>\n",
              "      <td>15</td>\n",
              "      <td>11</td>\n",
              "      <td>11</td>\n",
              "      <td>13</td>\n",
              "      <td>20</td>\n",
              "      <td>13</td>\n",
              "      <td>23</td>\n",
              "      <td>21</td>\n",
              "      <td>25</td>\n",
              "      <td>12</td>\n",
              "      <td>14</td>\n",
              "      <td>23</td>\n",
              "      <td>34</td>\n",
              "      <td>2501</td>\n",
              "      <td>25.272728</td>\n",
              "      <td>1.103713</td>\n",
              "    </tr>\n",
              "  </tbody>\n",
              "</table>\n",
              "</div>"
            ],
            "text/plain": [
              "           DateTime        Time  ...  Inverter averages  Inverter std dev\n",
              "0  05-01-2014 00:00  1398920448  ...          25.272728          1.103713\n",
              "1  05-01-2014 00:09  1398920960  ...          25.272728          1.103713\n",
              "2  05-01-2014 00:20  1398921600  ...          25.272728          1.103713\n",
              "3  05-01-2014 00:30  1398922240  ...          25.272728          1.103713\n",
              "4  05-01-2014 00:39  1398922752  ...          25.272728          1.103713\n",
              "\n",
              "[5 rows x 66 columns]"
            ]
          },
          "metadata": {
            "tags": []
          },
          "execution_count": 8
        }
      ]
    },
    {
      "cell_type": "code",
      "metadata": {
        "id": "DwK0ebODB0Oz",
        "colab": {
          "base_uri": "https://localhost:8080/"
        },
        "outputId": "a0ccf055-3510-4288-996a-0990ed612b55"
      },
      "source": [
        "df_scada_data.columns"
      ],
      "execution_count": null,
      "outputs": [
        {
          "output_type": "execute_result",
          "data": {
            "text/plain": [
              "Index(['DateTime', 'Time', 'Error', 'WEC: ava. windspeed',\n",
              "       'WEC: max. windspeed', 'WEC: min. windspeed', 'WEC: ava. Rotation',\n",
              "       'WEC: max. Rotation', 'WEC: min. Rotation', 'WEC: ava. Power',\n",
              "       'WEC: max. Power', 'WEC: min. Power',\n",
              "       'WEC: ava. Nacel position including cable twisting',\n",
              "       'WEC: Operating Hours', 'WEC: Production kWh',\n",
              "       'WEC: Production minutes', 'WEC: ava. reactive Power',\n",
              "       'WEC: max. reactive Power', 'WEC: min. reactive Power',\n",
              "       'WEC: ava. available P from wind',\n",
              "       'WEC: ava. available P technical reasons',\n",
              "       'WEC: ava. Available P force majeure reasons',\n",
              "       'WEC: ava. Available P force external reasons',\n",
              "       'WEC: ava. blade angle A', 'Sys 1 inverter 1 cabinet temp.',\n",
              "       'Sys 1 inverter 2 cabinet temp.', 'Sys 1 inverter 3 cabinet temp.',\n",
              "       'Sys 1 inverter 4 cabinet temp.', 'Sys 1 inverter 5 cabinet temp.',\n",
              "       'Sys 1 inverter 6 cabinet temp.', 'Sys 1 inverter 7 cabinet temp.',\n",
              "       'Sys 2 inverter 1 cabinet temp.', 'Sys 2 inverter 2 cabinet temp.',\n",
              "       'Sys 2 inverter 3 cabinet temp.', 'Sys 2 inverter 4 cabinet temp.',\n",
              "       'Sys 2 inverter 5 cabinet temp.', 'Sys 2 inverter 6 cabinet temp.',\n",
              "       'Sys 2 inverter 7 cabinet temp.', 'Spinner temp.',\n",
              "       'Front bearing temp.', 'Rear bearing temp.',\n",
              "       'Pitch cabinet blade A temp.', 'Pitch cabinet blade B temp.',\n",
              "       'Pitch cabinet blade C temp.', 'Blade A temp.', 'Blade B temp.',\n",
              "       'Blade C temp.', 'Rotor temp. 1', 'Rotor temp. 2', 'Stator temp. 1',\n",
              "       'Stator temp. 2', 'Nacelle ambient temp. 1', 'Nacelle ambient temp. 2',\n",
              "       'Nacelle temp.', 'Nacelle cabinet temp.', 'Main carrier temp.',\n",
              "       'Rectifier cabinet temp.', 'Yaw inverter cabinet temp.',\n",
              "       'Fan inverter cabinet temp.', 'Ambient temp.', 'Tower temp.',\n",
              "       'Control cabinet temp.', 'Transformer temp.', 'RTU: ava. Setpoint 1',\n",
              "       'Inverter averages', 'Inverter std dev'],\n",
              "      dtype='object')"
            ]
          },
          "metadata": {
            "tags": []
          },
          "execution_count": 9
        }
      ]
    },
    {
      "cell_type": "code",
      "metadata": {
        "id": "mLkbLFcHBlwI"
      },
      "source": [
        "df_scada_data.drop(['WEC: Production minutes', 'Pitch cabinet blade A temp.', 'Pitch cabinet blade B temp.',\n",
        "       'Pitch cabinet blade C temp.', 'Main carrier temp.',\n",
        "       'Rectifier cabinet temp.', ],axis=1,inplace=True)\n",
        "df_scada_data.drop('WEC: max. windspeed',axis=1,inplace=True)\n",
        "df_scada_data.drop('WEC: min. windspeed',axis=1,inplace=True)\n",
        "df_scada_data.drop('WEC: max. Rotation',axis=1,inplace=True)\n",
        "df_scada_data.drop('WEC: min. Rotation',axis=1,inplace=True)\n",
        "df_scada_data.drop('WEC: max. Power',axis=1,inplace=True)\n",
        "df_scada_data.drop('WEC: min. Power',axis=1,inplace=True)\n",
        "df_scada_data.drop('WEC: Production kWh',axis=1,inplace=True)\n",
        "df_scada_data.drop(['WEC: ava. reactive Power',\n",
        "       'WEC: max. reactive Power', 'WEC: min. reactive Power',\n",
        "       'WEC: ava. available P from wind',\n",
        "       'WEC: ava. available P technical reasons',\n",
        "       'WEC: ava. Available P force majeure reasons',\n",
        "       'WEC: ava. Available P force external reasons'],axis=1,inplace=True)\n",
        "df_scada_data.drop(['Sys 1 inverter 1 cabinet temp.',\n",
        "       'Sys 1 inverter 2 cabinet temp.', 'Sys 1 inverter 3 cabinet temp.',\n",
        "       'Sys 1 inverter 4 cabinet temp.', 'Sys 1 inverter 5 cabinet temp.',\n",
        "       'Sys 1 inverter 6 cabinet temp.', 'Sys 1 inverter 7 cabinet temp.',\n",
        "       'Sys 2 inverter 1 cabinet temp.', 'Sys 2 inverter 2 cabinet temp.',\n",
        "       'Sys 2 inverter 3 cabinet temp.', 'Sys 2 inverter 4 cabinet temp.',\n",
        "       'Sys 2 inverter 5 cabinet temp.', 'Sys 2 inverter 6 cabinet temp.',\n",
        "       'Sys 2 inverter 7 cabinet temp.'],axis=1,inplace=True)\n",
        "df_scada_data.drop([ 'Blade A temp.', 'Blade C temp.', 'Rotor temp. 2',\n",
        "       'Stator temp. 2', 'Nacelle ambient temp. 1', 'Nacelle ambient temp. 2',\n",
        "       'Nacelle cabinet temp.', 'RTU: ava. Setpoint 1',\n",
        "       'Inverter averages', 'Inverter std dev'],axis=1,inplace=True)"
      ],
      "execution_count": null,
      "outputs": []
    },
    {
      "cell_type": "code",
      "metadata": {
        "id": "MA8MveRlEBJB",
        "colab": {
          "base_uri": "https://localhost:8080/"
        },
        "outputId": "baa83f19-048c-4023-af1e-c43d3193586c"
      },
      "source": [
        "df_scada_data.columns"
      ],
      "execution_count": null,
      "outputs": [
        {
          "output_type": "execute_result",
          "data": {
            "text/plain": [
              "Index(['DateTime', 'Time', 'Error', 'WEC: ava. windspeed',\n",
              "       'WEC: ava. Rotation', 'WEC: ava. Power',\n",
              "       'WEC: ava. Nacel position including cable twisting',\n",
              "       'WEC: Operating Hours', 'WEC: ava. blade angle A', 'Spinner temp.',\n",
              "       'Front bearing temp.', 'Rear bearing temp.', 'Blade B temp.',\n",
              "       'Rotor temp. 1', 'Stator temp. 1', 'Nacelle temp.',\n",
              "       'Yaw inverter cabinet temp.', 'Fan inverter cabinet temp.',\n",
              "       'Ambient temp.', 'Tower temp.', 'Control cabinet temp.',\n",
              "       'Transformer temp.'],\n",
              "      dtype='object')"
            ]
          },
          "metadata": {
            "tags": []
          },
          "execution_count": 11
        }
      ]
    },
    {
      "cell_type": "code",
      "metadata": {
        "id": "x998eE8XaDih",
        "colab": {
          "base_uri": "https://localhost:8080/",
          "height": 842
        },
        "outputId": "aedea65f-d5e8-4801-c7d2-6fa6e0090a8c"
      },
      "source": [
        "df_main = pd.merge(df_scada_data, df_fault_data, how='left')\n",
        "df_main"
      ],
      "execution_count": null,
      "outputs": [
        {
          "output_type": "execute_result",
          "data": {
            "text/html": [
              "<div>\n",
              "<style scoped>\n",
              "    .dataframe tbody tr th:only-of-type {\n",
              "        vertical-align: middle;\n",
              "    }\n",
              "\n",
              "    .dataframe tbody tr th {\n",
              "        vertical-align: top;\n",
              "    }\n",
              "\n",
              "    .dataframe thead th {\n",
              "        text-align: right;\n",
              "    }\n",
              "</style>\n",
              "<table border=\"1\" class=\"dataframe\">\n",
              "  <thead>\n",
              "    <tr style=\"text-align: right;\">\n",
              "      <th></th>\n",
              "      <th>DateTime</th>\n",
              "      <th>Time</th>\n",
              "      <th>Error</th>\n",
              "      <th>WEC: ava. windspeed</th>\n",
              "      <th>WEC: ava. Rotation</th>\n",
              "      <th>WEC: ava. Power</th>\n",
              "      <th>WEC: ava. Nacel position including cable twisting</th>\n",
              "      <th>WEC: Operating Hours</th>\n",
              "      <th>WEC: ava. blade angle A</th>\n",
              "      <th>Spinner temp.</th>\n",
              "      <th>Front bearing temp.</th>\n",
              "      <th>Rear bearing temp.</th>\n",
              "      <th>Blade B temp.</th>\n",
              "      <th>Rotor temp. 1</th>\n",
              "      <th>Stator temp. 1</th>\n",
              "      <th>Nacelle temp.</th>\n",
              "      <th>Yaw inverter cabinet temp.</th>\n",
              "      <th>Fan inverter cabinet temp.</th>\n",
              "      <th>Ambient temp.</th>\n",
              "      <th>Tower temp.</th>\n",
              "      <th>Control cabinet temp.</th>\n",
              "      <th>Transformer temp.</th>\n",
              "      <th>Fault</th>\n",
              "    </tr>\n",
              "  </thead>\n",
              "  <tbody>\n",
              "    <tr>\n",
              "      <th>0</th>\n",
              "      <td>05-01-2014 00:00</td>\n",
              "      <td>1398920448</td>\n",
              "      <td>0</td>\n",
              "      <td>6.9</td>\n",
              "      <td>0.00</td>\n",
              "      <td>0</td>\n",
              "      <td>640</td>\n",
              "      <td>881</td>\n",
              "      <td>91.959999</td>\n",
              "      <td>13</td>\n",
              "      <td>13</td>\n",
              "      <td>13</td>\n",
              "      <td>166</td>\n",
              "      <td>15</td>\n",
              "      <td>15</td>\n",
              "      <td>14</td>\n",
              "      <td>20</td>\n",
              "      <td>25</td>\n",
              "      <td>12</td>\n",
              "      <td>14</td>\n",
              "      <td>24</td>\n",
              "      <td>34</td>\n",
              "      <td>NaN</td>\n",
              "    </tr>\n",
              "    <tr>\n",
              "      <th>1</th>\n",
              "      <td>05-01-2014 00:09</td>\n",
              "      <td>1398920960</td>\n",
              "      <td>0</td>\n",
              "      <td>5.3</td>\n",
              "      <td>0.00</td>\n",
              "      <td>0</td>\n",
              "      <td>640</td>\n",
              "      <td>881</td>\n",
              "      <td>91.959999</td>\n",
              "      <td>13</td>\n",
              "      <td>13</td>\n",
              "      <td>13</td>\n",
              "      <td>166</td>\n",
              "      <td>15</td>\n",
              "      <td>15</td>\n",
              "      <td>13</td>\n",
              "      <td>20</td>\n",
              "      <td>25</td>\n",
              "      <td>12</td>\n",
              "      <td>14</td>\n",
              "      <td>24</td>\n",
              "      <td>34</td>\n",
              "      <td>NaN</td>\n",
              "    </tr>\n",
              "    <tr>\n",
              "      <th>2</th>\n",
              "      <td>05-01-2014 00:20</td>\n",
              "      <td>1398921600</td>\n",
              "      <td>0</td>\n",
              "      <td>5.0</td>\n",
              "      <td>0.00</td>\n",
              "      <td>0</td>\n",
              "      <td>640</td>\n",
              "      <td>881</td>\n",
              "      <td>91.940002</td>\n",
              "      <td>13</td>\n",
              "      <td>13</td>\n",
              "      <td>13</td>\n",
              "      <td>166</td>\n",
              "      <td>15</td>\n",
              "      <td>15</td>\n",
              "      <td>13</td>\n",
              "      <td>20</td>\n",
              "      <td>25</td>\n",
              "      <td>12</td>\n",
              "      <td>14</td>\n",
              "      <td>24</td>\n",
              "      <td>34</td>\n",
              "      <td>NaN</td>\n",
              "    </tr>\n",
              "    <tr>\n",
              "      <th>3</th>\n",
              "      <td>05-01-2014 00:30</td>\n",
              "      <td>1398922240</td>\n",
              "      <td>0</td>\n",
              "      <td>4.4</td>\n",
              "      <td>0.00</td>\n",
              "      <td>0</td>\n",
              "      <td>641</td>\n",
              "      <td>881</td>\n",
              "      <td>91.949997</td>\n",
              "      <td>13</td>\n",
              "      <td>13</td>\n",
              "      <td>13</td>\n",
              "      <td>166</td>\n",
              "      <td>15</td>\n",
              "      <td>15</td>\n",
              "      <td>13</td>\n",
              "      <td>21</td>\n",
              "      <td>25</td>\n",
              "      <td>12</td>\n",
              "      <td>14</td>\n",
              "      <td>24</td>\n",
              "      <td>34</td>\n",
              "      <td>NaN</td>\n",
              "    </tr>\n",
              "    <tr>\n",
              "      <th>4</th>\n",
              "      <td>05-01-2014 00:39</td>\n",
              "      <td>1398922752</td>\n",
              "      <td>0</td>\n",
              "      <td>5.7</td>\n",
              "      <td>0.00</td>\n",
              "      <td>0</td>\n",
              "      <td>633</td>\n",
              "      <td>881</td>\n",
              "      <td>91.940002</td>\n",
              "      <td>13</td>\n",
              "      <td>13</td>\n",
              "      <td>13</td>\n",
              "      <td>166</td>\n",
              "      <td>15</td>\n",
              "      <td>15</td>\n",
              "      <td>13</td>\n",
              "      <td>21</td>\n",
              "      <td>25</td>\n",
              "      <td>12</td>\n",
              "      <td>14</td>\n",
              "      <td>23</td>\n",
              "      <td>34</td>\n",
              "      <td>NaN</td>\n",
              "    </tr>\n",
              "    <tr>\n",
              "      <th>...</th>\n",
              "      <td>...</td>\n",
              "      <td>...</td>\n",
              "      <td>...</td>\n",
              "      <td>...</td>\n",
              "      <td>...</td>\n",
              "      <td>...</td>\n",
              "      <td>...</td>\n",
              "      <td>...</td>\n",
              "      <td>...</td>\n",
              "      <td>...</td>\n",
              "      <td>...</td>\n",
              "      <td>...</td>\n",
              "      <td>...</td>\n",
              "      <td>...</td>\n",
              "      <td>...</td>\n",
              "      <td>...</td>\n",
              "      <td>...</td>\n",
              "      <td>...</td>\n",
              "      <td>...</td>\n",
              "      <td>...</td>\n",
              "      <td>...</td>\n",
              "      <td>...</td>\n",
              "      <td>...</td>\n",
              "    </tr>\n",
              "    <tr>\n",
              "      <th>49022</th>\n",
              "      <td>04-08-2015 23:20</td>\n",
              "      <td>1428553216</td>\n",
              "      <td>0</td>\n",
              "      <td>3.9</td>\n",
              "      <td>6.75</td>\n",
              "      <td>147</td>\n",
              "      <td>148</td>\n",
              "      <td>7884</td>\n",
              "      <td>1.000000</td>\n",
              "      <td>18</td>\n",
              "      <td>24</td>\n",
              "      <td>29</td>\n",
              "      <td>165</td>\n",
              "      <td>46</td>\n",
              "      <td>46</td>\n",
              "      <td>16</td>\n",
              "      <td>23</td>\n",
              "      <td>28</td>\n",
              "      <td>9</td>\n",
              "      <td>17</td>\n",
              "      <td>27</td>\n",
              "      <td>35</td>\n",
              "      <td>NaN</td>\n",
              "    </tr>\n",
              "    <tr>\n",
              "      <th>49023</th>\n",
              "      <td>04-08-2015 23:30</td>\n",
              "      <td>1428553856</td>\n",
              "      <td>0</td>\n",
              "      <td>3.9</td>\n",
              "      <td>6.64</td>\n",
              "      <td>128</td>\n",
              "      <td>148</td>\n",
              "      <td>7884</td>\n",
              "      <td>1.000000</td>\n",
              "      <td>18</td>\n",
              "      <td>24</td>\n",
              "      <td>29</td>\n",
              "      <td>165</td>\n",
              "      <td>46</td>\n",
              "      <td>46</td>\n",
              "      <td>16</td>\n",
              "      <td>23</td>\n",
              "      <td>28</td>\n",
              "      <td>9</td>\n",
              "      <td>17</td>\n",
              "      <td>27</td>\n",
              "      <td>35</td>\n",
              "      <td>NaN</td>\n",
              "    </tr>\n",
              "    <tr>\n",
              "      <th>49024</th>\n",
              "      <td>04-08-2015 23:39</td>\n",
              "      <td>1428554368</td>\n",
              "      <td>0</td>\n",
              "      <td>4.2</td>\n",
              "      <td>7.18</td>\n",
              "      <td>163</td>\n",
              "      <td>149</td>\n",
              "      <td>7884</td>\n",
              "      <td>1.000000</td>\n",
              "      <td>18</td>\n",
              "      <td>24</td>\n",
              "      <td>29</td>\n",
              "      <td>165</td>\n",
              "      <td>46</td>\n",
              "      <td>46</td>\n",
              "      <td>16</td>\n",
              "      <td>23</td>\n",
              "      <td>28</td>\n",
              "      <td>9</td>\n",
              "      <td>18</td>\n",
              "      <td>27</td>\n",
              "      <td>34</td>\n",
              "      <td>NaN</td>\n",
              "    </tr>\n",
              "    <tr>\n",
              "      <th>49025</th>\n",
              "      <td>04-08-2015 23:50</td>\n",
              "      <td>1428555008</td>\n",
              "      <td>0</td>\n",
              "      <td>4.1</td>\n",
              "      <td>7.02</td>\n",
              "      <td>160</td>\n",
              "      <td>151</td>\n",
              "      <td>7884</td>\n",
              "      <td>1.000000</td>\n",
              "      <td>18</td>\n",
              "      <td>24</td>\n",
              "      <td>30</td>\n",
              "      <td>165</td>\n",
              "      <td>46</td>\n",
              "      <td>46</td>\n",
              "      <td>16</td>\n",
              "      <td>23</td>\n",
              "      <td>28</td>\n",
              "      <td>9</td>\n",
              "      <td>17</td>\n",
              "      <td>27</td>\n",
              "      <td>34</td>\n",
              "      <td>NaN</td>\n",
              "    </tr>\n",
              "    <tr>\n",
              "      <th>49026</th>\n",
              "      <td>04-09-2015 00:00</td>\n",
              "      <td>1428555648</td>\n",
              "      <td>0</td>\n",
              "      <td>4.8</td>\n",
              "      <td>8.39</td>\n",
              "      <td>284</td>\n",
              "      <td>152</td>\n",
              "      <td>7884</td>\n",
              "      <td>1.000000</td>\n",
              "      <td>18</td>\n",
              "      <td>24</td>\n",
              "      <td>30</td>\n",
              "      <td>165</td>\n",
              "      <td>46</td>\n",
              "      <td>46</td>\n",
              "      <td>16</td>\n",
              "      <td>22</td>\n",
              "      <td>28</td>\n",
              "      <td>9</td>\n",
              "      <td>17</td>\n",
              "      <td>27</td>\n",
              "      <td>34</td>\n",
              "      <td>NaN</td>\n",
              "    </tr>\n",
              "  </tbody>\n",
              "</table>\n",
              "<p>49027 rows × 23 columns</p>\n",
              "</div>"
            ],
            "text/plain": [
              "               DateTime        Time  ...  Transformer temp.  Fault\n",
              "0      05-01-2014 00:00  1398920448  ...                 34    NaN\n",
              "1      05-01-2014 00:09  1398920960  ...                 34    NaN\n",
              "2      05-01-2014 00:20  1398921600  ...                 34    NaN\n",
              "3      05-01-2014 00:30  1398922240  ...                 34    NaN\n",
              "4      05-01-2014 00:39  1398922752  ...                 34    NaN\n",
              "...                 ...         ...  ...                ...    ...\n",
              "49022  04-08-2015 23:20  1428553216  ...                 35    NaN\n",
              "49023  04-08-2015 23:30  1428553856  ...                 35    NaN\n",
              "49024  04-08-2015 23:39  1428554368  ...                 34    NaN\n",
              "49025  04-08-2015 23:50  1428555008  ...                 34    NaN\n",
              "49026  04-09-2015 00:00  1428555648  ...                 34    NaN\n",
              "\n",
              "[49027 rows x 23 columns]"
            ]
          },
          "metadata": {
            "tags": []
          },
          "execution_count": 12
        }
      ]
    },
    {
      "cell_type": "code",
      "metadata": {
        "id": "yANsPgucaDiq"
      },
      "source": [
        "dict=pd.Series(df_fault_data.Fault.values,index=df_fault_data.Time).to_dict()"
      ],
      "execution_count": null,
      "outputs": []
    },
    {
      "cell_type": "code",
      "metadata": {
        "id": "ZCFYfTUOaDiu",
        "colab": {
          "base_uri": "https://localhost:8080/"
        },
        "outputId": "15f113ab-132c-4abb-e95d-a3785b46d48f"
      },
      "source": [
        "len(dict)"
      ],
      "execution_count": null,
      "outputs": [
        {
          "output_type": "execute_result",
          "data": {
            "text/plain": [
              "446"
            ]
          },
          "metadata": {
            "tags": []
          },
          "execution_count": 15
        }
      ]
    },
    {
      "cell_type": "code",
      "metadata": {
        "id": "cQfege9xaDiy",
        "colab": {
          "base_uri": "https://localhost:8080/"
        },
        "outputId": "4b14ec5e-f0ed-4c95-cba1-52f02c98733c"
      },
      "source": [
        "dict"
      ],
      "execution_count": null,
      "outputs": [
        {
          "output_type": "execute_result",
          "data": {
            "text/plain": [
              "{1400096384.0: 'GF',\n",
              " 1400097024.0: 'GF',\n",
              " 1400097536.0: 'GF',\n",
              " 1400098176.0: 'GF',\n",
              " 1400098816.0: 'GF',\n",
              " 1400099456.0: 'GF',\n",
              " 1401887360.0: 'MF',\n",
              " 1401888000.0: 'MF',\n",
              " 1401919232.0: 'MF',\n",
              " 1402001408.0: 'MF',\n",
              " 1402008064.0: 'FF',\n",
              " 1402289408.0: 'AF',\n",
              " 1402290048.0: 'MF',\n",
              " 1402290560.0: 'MF',\n",
              " 1402375808.0: 'AF',\n",
              " 1402376448.0: 'MF',\n",
              " 1402376960.0: 'MF',\n",
              " 1402462208.0: 'AF',\n",
              " 1402462848.0: 'MF',\n",
              " 1402463360.0: 'MF',\n",
              " 1402548608.0: 'AF',\n",
              " 1402549248.0: 'MF',\n",
              " 1402549760.0: 'MF',\n",
              " 1402681856.0: 'FF',\n",
              " 1403751040.0: 'AF',\n",
              " 1403751552.0: 'MF',\n",
              " 1403752192.0: 'MF',\n",
              " 1404417024.0: 'AF',\n",
              " 1404417536.0: 'MF',\n",
              " 1404418176.0: 'MF',\n",
              " 1405358976.0: 'FF',\n",
              " 1405359616.0: 'FF',\n",
              " 1405663744.0: 'FF',\n",
              " 1405664384.0: 'FF',\n",
              " 1405665024.0: 'FF',\n",
              " 1405665536.0: 'FF',\n",
              " 1405666176.0: 'EF',\n",
              " 1405666816.0: 'EF',\n",
              " 1405943424.0: 'AF',\n",
              " 1405944064.0: 'AF',\n",
              " 1405944576.0: 'AF',\n",
              " 1405945216.0: 'AF',\n",
              " 1406029824.0: 'AF',\n",
              " 1406030336.0: 'AF',\n",
              " 1406030976.0: 'AF',\n",
              " 1407448192.0: 'AF',\n",
              " 1407448832.0: 'AF',\n",
              " 1407449344.0: 'AF',\n",
              " 1407690624.0: 'FF',\n",
              " 1407691264.0: 'FF',\n",
              " 1408150144.0: 'AF',\n",
              " 1408150784.0: 'AF',\n",
              " 1408151424.0: 'AF',\n",
              " 1408152064.0: 'AF',\n",
              " 1408236544.0: 'AF',\n",
              " 1408237184.0: 'AF',\n",
              " 1408237824.0: 'AF',\n",
              " 1408313344.0: 'FF',\n",
              " 1408313984.0: 'FF',\n",
              " 1408314624.0: 'EF',\n",
              " 1408322944.0: 'AF',\n",
              " 1408323584.0: 'AF',\n",
              " 1408324224.0: 'AF',\n",
              " 1408409344.0: 'AF',\n",
              " 1408409984.0: 'AF',\n",
              " 1408410624.0: 'AF',\n",
              " 1408495744.0: 'AF',\n",
              " 1408496384.0: 'AF',\n",
              " 1408497024.0: 'AF',\n",
              " 1408582144.0: 'AF',\n",
              " 1408582784.0: 'AF',\n",
              " 1408583424.0: 'AF',\n",
              " 1408668544.0: 'AF',\n",
              " 1408669184.0: 'AF',\n",
              " 1408669824.0: 'AF',\n",
              " 1408754944.0: 'AF',\n",
              " 1408755584.0: 'AF',\n",
              " 1408756224.0: 'AF',\n",
              " 1409243392.0: 'FF',\n",
              " 1409244032.0: 'FF',\n",
              " 1411058944.0: 'AF',\n",
              " 1411059584.0: 'AF',\n",
              " 1411060224.0: 'AF',\n",
              " 1412310656.0: 'FF',\n",
              " 1412311168.0: 'FF',\n",
              " 1412311808.0: 'FF',\n",
              " 1412314752.0: 'FF',\n",
              " 1412315392.0: 'FF',\n",
              " 1412316032.0: 'EF',\n",
              " 1412316544.0: 'EF',\n",
              " 1412545792.0: 'FF',\n",
              " 1412546432.0: 'FF',\n",
              " 1412549376.0: 'FF',\n",
              " 1412550016.0: 'FF',\n",
              " 1412552960.0: 'EF',\n",
              " 1412553600.0: 'EF',\n",
              " 1412556544.0: 'FF',\n",
              " 1412557184.0: 'FF',\n",
              " 1412558336.0: 'FF',\n",
              " 1412558976.0: 'FF',\n",
              " 1412769536.0: 'MF',\n",
              " 1412770176.0: 'MF',\n",
              " 1412792960.0: 'MF',\n",
              " 1412793600.0: 'MF',\n",
              " 1413346176.0: 'FF',\n",
              " 1413346816.0: 'FF',\n",
              " 1413360000.0: 'FF',\n",
              " 1413360640.0: 'FF',\n",
              " 1413361152.0: 'FF',\n",
              " 1413387648.0: 'FF',\n",
              " 1413388160.0: 'FF',\n",
              " 1413391744.0: 'EF',\n",
              " 1413392384.0: 'EF',\n",
              " 1413564544.0: 'GF',\n",
              " 1413565184.0: 'GF',\n",
              " 1413565824.0: 'GF',\n",
              " 1413571200.0: 'FF',\n",
              " 1413571840.0: 'FF',\n",
              " 1413592192.0: 'FF',\n",
              " 1413592832.0: 'FF',\n",
              " 1413684608.0: 'EF',\n",
              " 1413685248.0: 'EF',\n",
              " 1413685760.0: 'EF',\n",
              " 1413704960.0: 'FF',\n",
              " 1413705600.0: 'FF',\n",
              " 1413717632.0: 'FF',\n",
              " 1413718144.0: 'FF',\n",
              " 1413718784.0: 'EF',\n",
              " 1413719424.0: 'FF',\n",
              " 1413720064.0: 'FF',\n",
              " 1413728384.0: 'FF',\n",
              " 1413729024.0: 'FF',\n",
              " 1413731968.0: 'FF',\n",
              " 1413732608.0: 'FF',\n",
              " 1413744640.0: 'EF',\n",
              " 1413745152.0: 'EF',\n",
              " 1413852032.0: 'FF',\n",
              " 1413852544.0: 'FF',\n",
              " 1413884416.0: 'FF',\n",
              " 1413885056.0: 'FF',\n",
              " 1413885568.0: 'FF',\n",
              " 1413886208.0: 'FF',\n",
              " 1413888000.0: 'FF',\n",
              " 1413888640.0: 'FF',\n",
              " 1413900032.0: 'EF',\n",
              " 1413900544.0: 'EF',\n",
              " 1413902336.0: 'FF',\n",
              " 1413902976.0: 'FF',\n",
              " 1413905408.0: 'FF',\n",
              " 1413906048.0: 'FF',\n",
              " 1413912576.0: 'EF',\n",
              " 1413913216.0: 'EF',\n",
              " 1413915008.0: 'FF',\n",
              " 1413915648.0: 'FF',\n",
              " 1413919232.0: 'FF',\n",
              " 1413919744.0: 'FF',\n",
              " 1413924608.0: 'FF',\n",
              " 1413925248.0: 'FF',\n",
              " 1413925760.0: 'EF',\n",
              " 1413929344.0: 'FF',\n",
              " 1413929984.0: 'FF',\n",
              " 1414365056.0: 'GF',\n",
              " 1414365568.0: 'GF',\n",
              " 1414366208.0: 'GF',\n",
              " 1414366848.0: 'GF',\n",
              " 1414367360.0: 'GF',\n",
              " 1414368000.0: 'GF',\n",
              " 1414368640.0: 'GF',\n",
              " 1414369152.0: 'GF',\n",
              " 1414455040.0: 'FF',\n",
              " 1414455552.0: 'FF',\n",
              " 1414456192.0: 'EF',\n",
              " 1414457984.0: 'FF',\n",
              " 1414458624.0: 'FF',\n",
              " 1414463360.0: 'EF',\n",
              " 1414464000.0: 'EF',\n",
              " 1414465792.0: 'FF',\n",
              " 1414466432.0: 'FF',\n",
              " 1414478976.0: 'FF',\n",
              " 1414479616.0: 'FF',\n",
              " 1414486144.0: 'FF',\n",
              " 1414486784.0: 'FF',\n",
              " 1414492800.0: 'FF',\n",
              " 1414493440.0: 'FF',\n",
              " 1414495232.0: 'FF',\n",
              " 1414495744.0: 'FF',\n",
              " 1414502400.0: 'EF',\n",
              " 1414503040.0: 'EF',\n",
              " 1414503552.0: 'EF',\n",
              " 1414774144.0: 'EF',\n",
              " 1414774784.0: 'EF',\n",
              " 1414859392.0: 'FF',\n",
              " 1414860032.0: 'FF',\n",
              " 1414864768.0: 'FF',\n",
              " 1414865408.0: 'FF',\n",
              " 1414869632.0: 'EF',\n",
              " 1414870144.0: 'EF',\n",
              " 1414881024.0: 'FF',\n",
              " 1414881536.0: 'FF',\n",
              " 1414882176.0: 'FF',\n",
              " 1415266176.0: 'FF',\n",
              " 1415266816.0: 'FF',\n",
              " 1415267456.0: 'FF',\n",
              " 1415267968.0: 'FF',\n",
              " 1415636992.0: 'FF',\n",
              " 1415637632.0: 'FF',\n",
              " 1415641216.0: 'FF',\n",
              " 1415641856.0: 'FF',\n",
              " 1415794176.0: 'EF',\n",
              " 1415794816.0: 'EF',\n",
              " 1415848832.0: 'EF',\n",
              " 1415849344.0: 'EF',\n",
              " 1415856640.0: 'EF',\n",
              " 1415857152.0: 'EF',\n",
              " 1415857792.0: 'EF',\n",
              " 1416224384.0: 'EF',\n",
              " 1416225024.0: 'EF',\n",
              " 1416225536.0: 'EF',\n",
              " 1416336000.0: 'EF',\n",
              " 1416336640.0: 'EF',\n",
              " 1416337792.0: 'EF',\n",
              " 1416338432.0: 'EF',\n",
              " 1416341376.0: 'EF',\n",
              " 1416342016.0: 'EF',\n",
              " 1416342656.0: 'EF',\n",
              " 1416343168.0: 'EF',\n",
              " 1416343808.0: 'EF',\n",
              " 1416351616.0: 'EF',\n",
              " 1416352256.0: 'EF',\n",
              " 1416357632.0: 'EF',\n",
              " 1416358144.0: 'EF',\n",
              " 1416358784.0: 'EF',\n",
              " 1416359424.0: 'EF',\n",
              " 1416360576.0: 'EF',\n",
              " 1416361216.0: 'EF',\n",
              " 1416546048.0: 'EF',\n",
              " 1416546560.0: 'EF',\n",
              " 1416548992.0: 'EF',\n",
              " 1416549632.0: 'EF',\n",
              " 1416550144.0: 'EF',\n",
              " 1416550784.0: 'EF',\n",
              " 1416557440.0: 'EF',\n",
              " 1416557952.0: 'EF',\n",
              " 1416564608.0: 'EF',\n",
              " 1416565248.0: 'EF',\n",
              " 1417076352.0: 'FF',\n",
              " 1417076992.0: 'FF',\n",
              " 1417080064.0: 'FF',\n",
              " 1417080576.0: 'FF',\n",
              " 1417081856.0: 'FF',\n",
              " 1417082368.0: 'FF',\n",
              " 1417083008.0: 'FF',\n",
              " 1417083648.0: 'FF',\n",
              " 1417084160.0: 'FF',\n",
              " 1417084800.0: 'FF',\n",
              " 1417095552.0: 'EF',\n",
              " 1417096192.0: 'EF',\n",
              " 1417097984.0: 'EF',\n",
              " 1417098624.0: 'EF',\n",
              " 1417112448.0: 'EF',\n",
              " 1417112960.0: 'EF',\n",
              " 1417114752.0: 'EF',\n",
              " 1417115392.0: 'EF',\n",
              " 1417116032.0: 'EF',\n",
              " 1417116544.0: 'EF',\n",
              " 1417213184.0: 'EF',\n",
              " 1417213824.0: 'EF',\n",
              " 1417761024.0: 'FF',\n",
              " 1417761536.0: 'FF',\n",
              " 1417762176.0: 'FF',\n",
              " 1417763456.0: 'FF',\n",
              " 1417763968.0: 'FF',\n",
              " 1417764608.0: 'FF',\n",
              " 1417765248.0: 'FF',\n",
              " 1417765760.0: 'FF',\n",
              " 1417766400.0: 'FF',\n",
              " 1417767040.0: 'FF',\n",
              " 1417768192.0: 'FF',\n",
              " 1417768832.0: 'FF',\n",
              " 1417769344.0: 'FF',\n",
              " 1417771776.0: 'FF',\n",
              " 1417772416.0: 'FF',\n",
              " 1417773568.0: 'FF',\n",
              " 1417774208.0: 'FF',\n",
              " 1417800576.0: 'FF',\n",
              " 1417801216.0: 'FF',\n",
              " 1417801856.0: 'FF',\n",
              " 1417802368.0: 'FF',\n",
              " 1417803008.0: 'FF',\n",
              " 1418025600.0: 'FF',\n",
              " 1418026240.0: 'FF',\n",
              " 1418028544.0: 'FF',\n",
              " 1418029184.0: 'FF',\n",
              " 1418029824.0: 'FF',\n",
              " 1418031616.0: 'FF',\n",
              " 1418032256.0: 'FF',\n",
              " 1418032768.0: 'FF',\n",
              " 1418033408.0: 'FF',\n",
              " 1418034048.0: 'FF',\n",
              " 1418034560.0: 'FF',\n",
              " 1418040064.0: 'FF',\n",
              " 1418040576.0: 'FF',\n",
              " 1418041216.0: 'FF',\n",
              " 1418041856.0: 'FF',\n",
              " 1418042368.0: 'FF',\n",
              " 1418043008.0: 'FF',\n",
              " 1418044800.0: 'FF',\n",
              " 1418045440.0: 'FF',\n",
              " 1418072448.0: 'FF',\n",
              " 1418072960.0: 'FF',\n",
              " 1418111360.0: 'FF',\n",
              " 1418112000.0: 'FF',\n",
              " 1418115584.0: 'FF',\n",
              " 1418116224.0: 'FF',\n",
              " 1418116864.0: 'FF',\n",
              " 1418117376.0: 'FF',\n",
              " 1420155648.0: 'FF',\n",
              " 1420156160.0: 'FF',\n",
              " 1420156800.0: 'FF',\n",
              " 1420157440.0: 'FF',\n",
              " 1420157952.0: 'FF',\n",
              " 1420158592.0: 'FF',\n",
              " 1420159232.0: 'FF',\n",
              " 1420159744.0: 'FF',\n",
              " 1420160384.0: 'FF',\n",
              " 1420161024.0: 'FF',\n",
              " 1420161536.0: 'FF',\n",
              " 1420162176.0: 'FF',\n",
              " 1420162816.0: 'FF',\n",
              " 1420163456.0: 'FF',\n",
              " 1420163968.0: 'FF',\n",
              " 1420164608.0: 'FF',\n",
              " 1420165248.0: 'FF',\n",
              " 1420165760.0: 'FF',\n",
              " 1420166400.0: 'FF',\n",
              " 1420167040.0: 'FF',\n",
              " 1420167552.0: 'FF',\n",
              " 1420168192.0: 'FF',\n",
              " 1420168832.0: 'FF',\n",
              " 1420169344.0: 'FF',\n",
              " 1420169984.0: 'FF',\n",
              " 1420170624.0: 'FF',\n",
              " 1420171264.0: 'FF',\n",
              " 1420171776.0: 'FF',\n",
              " 1420172416.0: 'FF',\n",
              " 1420173056.0: 'FF',\n",
              " 1420173568.0: 'FF',\n",
              " 1420174208.0: 'FF',\n",
              " 1420174848.0: 'FF',\n",
              " 1420175360.0: 'FF',\n",
              " 1420176000.0: 'FF',\n",
              " 1420176640.0: 'FF',\n",
              " 1420177152.0: 'FF',\n",
              " 1420177792.0: 'FF',\n",
              " 1420178432.0: 'FF',\n",
              " 1420178944.0: 'FF',\n",
              " 1420179584.0: 'FF',\n",
              " 1420180224.0: 'FF',\n",
              " 1420180736.0: 'FF',\n",
              " 1420181376.0: 'FF',\n",
              " 1420182016.0: 'FF',\n",
              " 1420182656.0: 'FF',\n",
              " 1420183168.0: 'FF',\n",
              " 1420183808.0: 'FF',\n",
              " 1420184448.0: 'FF',\n",
              " 1420184960.0: 'FF',\n",
              " 1420185600.0: 'FF',\n",
              " 1420186240.0: 'FF',\n",
              " 1420186752.0: 'FF',\n",
              " 1420187392.0: 'FF',\n",
              " 1420188032.0: 'FF',\n",
              " 1420188544.0: 'FF',\n",
              " 1420189184.0: 'FF',\n",
              " 1420189824.0: 'FF',\n",
              " 1420190464.0: 'FF',\n",
              " 1420190976.0: 'FF',\n",
              " 1420191616.0: 'FF',\n",
              " 1420192256.0: 'FF',\n",
              " 1420192768.0: 'FF',\n",
              " 1420193408.0: 'FF',\n",
              " 1420194048.0: 'FF',\n",
              " 1420194560.0: 'FF',\n",
              " 1420195200.0: 'FF',\n",
              " 1420195840.0: 'FF',\n",
              " 1420196352.0: 'FF',\n",
              " 1420196992.0: 'FF',\n",
              " 1420197632.0: 'FF',\n",
              " 1420198144.0: 'FF',\n",
              " 1420198784.0: 'FF',\n",
              " 1420199424.0: 'FF',\n",
              " 1420199936.0: 'FF',\n",
              " 1420200576.0: 'FF',\n",
              " 1420201216.0: 'FF',\n",
              " 1420201856.0: 'FF',\n",
              " 1420202368.0: 'FF',\n",
              " 1420203008.0: 'FF',\n",
              " 1420203648.0: 'FF',\n",
              " 1420204160.0: 'FF',\n",
              " 1420204800.0: 'FF',\n",
              " 1420205440.0: 'FF',\n",
              " 1420205952.0: 'FF',\n",
              " 1420206592.0: 'FF',\n",
              " 1420207232.0: 'FF',\n",
              " 1420207744.0: 'FF',\n",
              " 1420208384.0: 'FF',\n",
              " 1420209024.0: 'FF',\n",
              " 1420209664.0: 'FF',\n",
              " 1420210176.0: 'FF',\n",
              " 1420210816.0: 'FF',\n",
              " 1420211456.0: 'FF',\n",
              " 1420211968.0: 'FF',\n",
              " 1420212608.0: 'FF',\n",
              " 1420213248.0: 'FF',\n",
              " 1420213760.0: 'FF',\n",
              " 1420675840.0: 'GF',\n",
              " 1420676352.0: 'GF',\n",
              " 1420676992.0: 'GF',\n",
              " 1420677632.0: 'GF',\n",
              " 1420678144.0: 'GF',\n",
              " 1420678784.0: 'GF',\n",
              " 1420679424.0: 'GF',\n",
              " 1420679936.0: 'GF',\n",
              " 1420680576.0: 'GF',\n",
              " 1420681216.0: 'GF',\n",
              " 1420681856.0: 'GF',\n",
              " 1420682368.0: 'GF',\n",
              " 1420683008.0: 'GF',\n",
              " 1420683648.0: 'GF',\n",
              " 1420684160.0: 'GF',\n",
              " 1420684800.0: 'GF',\n",
              " 1420685440.0: 'GF',\n",
              " 1420685952.0: 'GF',\n",
              " 1420686592.0: 'GF',\n",
              " 1420687232.0: 'GF',\n",
              " 1420687744.0: 'GF',\n",
              " 1420688384.0: 'GF',\n",
              " 1420689024.0: 'GF',\n",
              " 1420689664.0: 'GF',\n",
              " 1420690176.0: 'GF',\n",
              " 1420690816.0: 'GF',\n",
              " 1421297408.0: 'AF',\n",
              " 1421298048.0: 'AF',\n",
              " 1421298560.0: 'AF',\n",
              " 1421383808.0: 'AF',\n",
              " 1421384448.0: 'AF',\n",
              " 1421384960.0: 'AF'}"
            ]
          },
          "metadata": {
            "tags": []
          },
          "execution_count": 16
        }
      ]
    },
    {
      "cell_type": "code",
      "metadata": {
        "id": "jRMzzADWaDi5"
      },
      "source": [
        "for time in dict:\n",
        "    df_main.loc[df_main['Time']==time, 'Fault'] = dict[time]"
      ],
      "execution_count": null,
      "outputs": []
    },
    {
      "cell_type": "code",
      "metadata": {
        "id": "AiDf88kvaDjH",
        "colab": {
          "base_uri": "https://localhost:8080/",
          "height": 842
        },
        "outputId": "437b2e65-2772-4678-c337-ac596d44b45d"
      },
      "source": [
        "df_main['Fault']=df_main['Fault'].fillna(\"No Fault\")\n",
        "df_main"
      ],
      "execution_count": null,
      "outputs": [
        {
          "output_type": "execute_result",
          "data": {
            "text/html": [
              "<div>\n",
              "<style scoped>\n",
              "    .dataframe tbody tr th:only-of-type {\n",
              "        vertical-align: middle;\n",
              "    }\n",
              "\n",
              "    .dataframe tbody tr th {\n",
              "        vertical-align: top;\n",
              "    }\n",
              "\n",
              "    .dataframe thead th {\n",
              "        text-align: right;\n",
              "    }\n",
              "</style>\n",
              "<table border=\"1\" class=\"dataframe\">\n",
              "  <thead>\n",
              "    <tr style=\"text-align: right;\">\n",
              "      <th></th>\n",
              "      <th>DateTime</th>\n",
              "      <th>Time</th>\n",
              "      <th>Error</th>\n",
              "      <th>WEC: ava. windspeed</th>\n",
              "      <th>WEC: ava. Rotation</th>\n",
              "      <th>WEC: ava. Power</th>\n",
              "      <th>WEC: ava. Nacel position including cable twisting</th>\n",
              "      <th>WEC: Operating Hours</th>\n",
              "      <th>WEC: ava. blade angle A</th>\n",
              "      <th>Spinner temp.</th>\n",
              "      <th>Front bearing temp.</th>\n",
              "      <th>Rear bearing temp.</th>\n",
              "      <th>Blade B temp.</th>\n",
              "      <th>Rotor temp. 1</th>\n",
              "      <th>Stator temp. 1</th>\n",
              "      <th>Nacelle temp.</th>\n",
              "      <th>Yaw inverter cabinet temp.</th>\n",
              "      <th>Fan inverter cabinet temp.</th>\n",
              "      <th>Ambient temp.</th>\n",
              "      <th>Tower temp.</th>\n",
              "      <th>Control cabinet temp.</th>\n",
              "      <th>Transformer temp.</th>\n",
              "      <th>Fault</th>\n",
              "    </tr>\n",
              "  </thead>\n",
              "  <tbody>\n",
              "    <tr>\n",
              "      <th>0</th>\n",
              "      <td>05-01-2014 00:00</td>\n",
              "      <td>1398920448</td>\n",
              "      <td>0</td>\n",
              "      <td>6.9</td>\n",
              "      <td>0.00</td>\n",
              "      <td>0</td>\n",
              "      <td>640</td>\n",
              "      <td>881</td>\n",
              "      <td>91.959999</td>\n",
              "      <td>13</td>\n",
              "      <td>13</td>\n",
              "      <td>13</td>\n",
              "      <td>166</td>\n",
              "      <td>15</td>\n",
              "      <td>15</td>\n",
              "      <td>14</td>\n",
              "      <td>20</td>\n",
              "      <td>25</td>\n",
              "      <td>12</td>\n",
              "      <td>14</td>\n",
              "      <td>24</td>\n",
              "      <td>34</td>\n",
              "      <td>No Fault</td>\n",
              "    </tr>\n",
              "    <tr>\n",
              "      <th>1</th>\n",
              "      <td>05-01-2014 00:09</td>\n",
              "      <td>1398920960</td>\n",
              "      <td>0</td>\n",
              "      <td>5.3</td>\n",
              "      <td>0.00</td>\n",
              "      <td>0</td>\n",
              "      <td>640</td>\n",
              "      <td>881</td>\n",
              "      <td>91.959999</td>\n",
              "      <td>13</td>\n",
              "      <td>13</td>\n",
              "      <td>13</td>\n",
              "      <td>166</td>\n",
              "      <td>15</td>\n",
              "      <td>15</td>\n",
              "      <td>13</td>\n",
              "      <td>20</td>\n",
              "      <td>25</td>\n",
              "      <td>12</td>\n",
              "      <td>14</td>\n",
              "      <td>24</td>\n",
              "      <td>34</td>\n",
              "      <td>No Fault</td>\n",
              "    </tr>\n",
              "    <tr>\n",
              "      <th>2</th>\n",
              "      <td>05-01-2014 00:20</td>\n",
              "      <td>1398921600</td>\n",
              "      <td>0</td>\n",
              "      <td>5.0</td>\n",
              "      <td>0.00</td>\n",
              "      <td>0</td>\n",
              "      <td>640</td>\n",
              "      <td>881</td>\n",
              "      <td>91.940002</td>\n",
              "      <td>13</td>\n",
              "      <td>13</td>\n",
              "      <td>13</td>\n",
              "      <td>166</td>\n",
              "      <td>15</td>\n",
              "      <td>15</td>\n",
              "      <td>13</td>\n",
              "      <td>20</td>\n",
              "      <td>25</td>\n",
              "      <td>12</td>\n",
              "      <td>14</td>\n",
              "      <td>24</td>\n",
              "      <td>34</td>\n",
              "      <td>No Fault</td>\n",
              "    </tr>\n",
              "    <tr>\n",
              "      <th>3</th>\n",
              "      <td>05-01-2014 00:30</td>\n",
              "      <td>1398922240</td>\n",
              "      <td>0</td>\n",
              "      <td>4.4</td>\n",
              "      <td>0.00</td>\n",
              "      <td>0</td>\n",
              "      <td>641</td>\n",
              "      <td>881</td>\n",
              "      <td>91.949997</td>\n",
              "      <td>13</td>\n",
              "      <td>13</td>\n",
              "      <td>13</td>\n",
              "      <td>166</td>\n",
              "      <td>15</td>\n",
              "      <td>15</td>\n",
              "      <td>13</td>\n",
              "      <td>21</td>\n",
              "      <td>25</td>\n",
              "      <td>12</td>\n",
              "      <td>14</td>\n",
              "      <td>24</td>\n",
              "      <td>34</td>\n",
              "      <td>No Fault</td>\n",
              "    </tr>\n",
              "    <tr>\n",
              "      <th>4</th>\n",
              "      <td>05-01-2014 00:39</td>\n",
              "      <td>1398922752</td>\n",
              "      <td>0</td>\n",
              "      <td>5.7</td>\n",
              "      <td>0.00</td>\n",
              "      <td>0</td>\n",
              "      <td>633</td>\n",
              "      <td>881</td>\n",
              "      <td>91.940002</td>\n",
              "      <td>13</td>\n",
              "      <td>13</td>\n",
              "      <td>13</td>\n",
              "      <td>166</td>\n",
              "      <td>15</td>\n",
              "      <td>15</td>\n",
              "      <td>13</td>\n",
              "      <td>21</td>\n",
              "      <td>25</td>\n",
              "      <td>12</td>\n",
              "      <td>14</td>\n",
              "      <td>23</td>\n",
              "      <td>34</td>\n",
              "      <td>No Fault</td>\n",
              "    </tr>\n",
              "    <tr>\n",
              "      <th>...</th>\n",
              "      <td>...</td>\n",
              "      <td>...</td>\n",
              "      <td>...</td>\n",
              "      <td>...</td>\n",
              "      <td>...</td>\n",
              "      <td>...</td>\n",
              "      <td>...</td>\n",
              "      <td>...</td>\n",
              "      <td>...</td>\n",
              "      <td>...</td>\n",
              "      <td>...</td>\n",
              "      <td>...</td>\n",
              "      <td>...</td>\n",
              "      <td>...</td>\n",
              "      <td>...</td>\n",
              "      <td>...</td>\n",
              "      <td>...</td>\n",
              "      <td>...</td>\n",
              "      <td>...</td>\n",
              "      <td>...</td>\n",
              "      <td>...</td>\n",
              "      <td>...</td>\n",
              "      <td>...</td>\n",
              "    </tr>\n",
              "    <tr>\n",
              "      <th>49022</th>\n",
              "      <td>04-08-2015 23:20</td>\n",
              "      <td>1428553216</td>\n",
              "      <td>0</td>\n",
              "      <td>3.9</td>\n",
              "      <td>6.75</td>\n",
              "      <td>147</td>\n",
              "      <td>148</td>\n",
              "      <td>7884</td>\n",
              "      <td>1.000000</td>\n",
              "      <td>18</td>\n",
              "      <td>24</td>\n",
              "      <td>29</td>\n",
              "      <td>165</td>\n",
              "      <td>46</td>\n",
              "      <td>46</td>\n",
              "      <td>16</td>\n",
              "      <td>23</td>\n",
              "      <td>28</td>\n",
              "      <td>9</td>\n",
              "      <td>17</td>\n",
              "      <td>27</td>\n",
              "      <td>35</td>\n",
              "      <td>No Fault</td>\n",
              "    </tr>\n",
              "    <tr>\n",
              "      <th>49023</th>\n",
              "      <td>04-08-2015 23:30</td>\n",
              "      <td>1428553856</td>\n",
              "      <td>0</td>\n",
              "      <td>3.9</td>\n",
              "      <td>6.64</td>\n",
              "      <td>128</td>\n",
              "      <td>148</td>\n",
              "      <td>7884</td>\n",
              "      <td>1.000000</td>\n",
              "      <td>18</td>\n",
              "      <td>24</td>\n",
              "      <td>29</td>\n",
              "      <td>165</td>\n",
              "      <td>46</td>\n",
              "      <td>46</td>\n",
              "      <td>16</td>\n",
              "      <td>23</td>\n",
              "      <td>28</td>\n",
              "      <td>9</td>\n",
              "      <td>17</td>\n",
              "      <td>27</td>\n",
              "      <td>35</td>\n",
              "      <td>No Fault</td>\n",
              "    </tr>\n",
              "    <tr>\n",
              "      <th>49024</th>\n",
              "      <td>04-08-2015 23:39</td>\n",
              "      <td>1428554368</td>\n",
              "      <td>0</td>\n",
              "      <td>4.2</td>\n",
              "      <td>7.18</td>\n",
              "      <td>163</td>\n",
              "      <td>149</td>\n",
              "      <td>7884</td>\n",
              "      <td>1.000000</td>\n",
              "      <td>18</td>\n",
              "      <td>24</td>\n",
              "      <td>29</td>\n",
              "      <td>165</td>\n",
              "      <td>46</td>\n",
              "      <td>46</td>\n",
              "      <td>16</td>\n",
              "      <td>23</td>\n",
              "      <td>28</td>\n",
              "      <td>9</td>\n",
              "      <td>18</td>\n",
              "      <td>27</td>\n",
              "      <td>34</td>\n",
              "      <td>No Fault</td>\n",
              "    </tr>\n",
              "    <tr>\n",
              "      <th>49025</th>\n",
              "      <td>04-08-2015 23:50</td>\n",
              "      <td>1428555008</td>\n",
              "      <td>0</td>\n",
              "      <td>4.1</td>\n",
              "      <td>7.02</td>\n",
              "      <td>160</td>\n",
              "      <td>151</td>\n",
              "      <td>7884</td>\n",
              "      <td>1.000000</td>\n",
              "      <td>18</td>\n",
              "      <td>24</td>\n",
              "      <td>30</td>\n",
              "      <td>165</td>\n",
              "      <td>46</td>\n",
              "      <td>46</td>\n",
              "      <td>16</td>\n",
              "      <td>23</td>\n",
              "      <td>28</td>\n",
              "      <td>9</td>\n",
              "      <td>17</td>\n",
              "      <td>27</td>\n",
              "      <td>34</td>\n",
              "      <td>No Fault</td>\n",
              "    </tr>\n",
              "    <tr>\n",
              "      <th>49026</th>\n",
              "      <td>04-09-2015 00:00</td>\n",
              "      <td>1428555648</td>\n",
              "      <td>0</td>\n",
              "      <td>4.8</td>\n",
              "      <td>8.39</td>\n",
              "      <td>284</td>\n",
              "      <td>152</td>\n",
              "      <td>7884</td>\n",
              "      <td>1.000000</td>\n",
              "      <td>18</td>\n",
              "      <td>24</td>\n",
              "      <td>30</td>\n",
              "      <td>165</td>\n",
              "      <td>46</td>\n",
              "      <td>46</td>\n",
              "      <td>16</td>\n",
              "      <td>22</td>\n",
              "      <td>28</td>\n",
              "      <td>9</td>\n",
              "      <td>17</td>\n",
              "      <td>27</td>\n",
              "      <td>34</td>\n",
              "      <td>No Fault</td>\n",
              "    </tr>\n",
              "  </tbody>\n",
              "</table>\n",
              "<p>49027 rows × 23 columns</p>\n",
              "</div>"
            ],
            "text/plain": [
              "               DateTime        Time  ...  Transformer temp.     Fault\n",
              "0      05-01-2014 00:00  1398920448  ...                 34  No Fault\n",
              "1      05-01-2014 00:09  1398920960  ...                 34  No Fault\n",
              "2      05-01-2014 00:20  1398921600  ...                 34  No Fault\n",
              "3      05-01-2014 00:30  1398922240  ...                 34  No Fault\n",
              "4      05-01-2014 00:39  1398922752  ...                 34  No Fault\n",
              "...                 ...         ...  ...                ...       ...\n",
              "49022  04-08-2015 23:20  1428553216  ...                 35  No Fault\n",
              "49023  04-08-2015 23:30  1428553856  ...                 35  No Fault\n",
              "49024  04-08-2015 23:39  1428554368  ...                 34  No Fault\n",
              "49025  04-08-2015 23:50  1428555008  ...                 34  No Fault\n",
              "49026  04-09-2015 00:00  1428555648  ...                 34  No Fault\n",
              "\n",
              "[49027 rows x 23 columns]"
            ]
          },
          "metadata": {
            "tags": []
          },
          "execution_count": 18
        }
      ]
    },
    {
      "cell_type": "code",
      "metadata": {
        "id": "Qv1ZYBzuaDjQ"
      },
      "source": [
        "from sklearn.linear_model import LogisticRegression\n",
        "from sklearn.metrics import classification_report, confusion_matrix\n",
        "from sklearn.model_selection import train_test_split"
      ],
      "execution_count": null,
      "outputs": []
    },
    {
      "cell_type": "code",
      "metadata": {
        "id": "UvLBWVsAaDjU",
        "colab": {
          "base_uri": "https://localhost:8080/",
          "height": 302
        },
        "outputId": "38a0a032-8a41-490c-85fe-70152fe7ea44"
      },
      "source": [
        "sns.countplot(x='Fault',data=df_main)"
      ],
      "execution_count": null,
      "outputs": [
        {
          "output_type": "execute_result",
          "data": {
            "text/plain": [
              "<matplotlib.axes._subplots.AxesSubplot at 0x7f20feb5a898>"
            ]
          },
          "metadata": {
            "tags": []
          },
          "execution_count": 19
        },
        {
          "output_type": "display_data",
          "data": {
            "image/png": "[encoded data removed]",
            "text/plain": [
              "<Figure size 432x288 with 1 Axes>"
            ]
          },
          "metadata": {
            "tags": [],
            "needs_background": "light"
          }
        }
      ]
    },
    {
      "cell_type": "code",
      "metadata": {
        "id": "HWMC242NaDjb",
        "colab": {
          "base_uri": "https://localhost:8080/"
        },
        "outputId": "ec342b46-2ac7-4e43-c979-7bd33de8bf46"
      },
      "source": [
        "df_main.columns"
      ],
      "execution_count": null,
      "outputs": [
        {
          "output_type": "execute_result",
          "data": {
            "text/plain": [
              "Index(['DateTime', 'Time', 'Error', 'WEC: ava. windspeed',\n",
              "       'WEC: ava. Rotation', 'WEC: ava. Power',\n",
              "       'WEC: ava. Nacel position including cable twisting',\n",
              "       'WEC: Operating Hours', 'WEC: ava. blade angle A', 'Spinner temp.',\n",
              "       'Front bearing temp.', 'Rear bearing temp.', 'Blade B temp.',\n",
              "       'Rotor temp. 1', 'Stator temp. 1', 'Nacelle temp.',\n",
              "       'Yaw inverter cabinet temp.', 'Fan inverter cabinet temp.',\n",
              "       'Ambient temp.', 'Tower temp.', 'Control cabinet temp.',\n",
              "       'Transformer temp.', 'Fault'],\n",
              "      dtype='object')"
            ]
          },
          "metadata": {
            "tags": []
          },
          "execution_count": 21
        }
      ]
    },
    {
      "cell_type": "code",
      "metadata": {
        "id": "xcH8iILQaDji"
      },
      "source": [
        "df_main.drop('DateTime',axis=1,inplace=True)\n",
        "df_main.drop('Time',axis=1,inplace=True)\n",
        "df_main.drop('Error',axis=1,inplace=True)"
      ],
      "execution_count": null,
      "outputs": []
    },
    {
      "cell_type": "code",
      "metadata": {
        "id": "44xlp5BbaDjn",
        "colab": {
          "base_uri": "https://localhost:8080/",
          "height": 383
        },
        "outputId": "f41a1b7c-8c91-4a7d-e418-a77b9aec7283"
      },
      "source": [
        "df_main.head()"
      ],
      "execution_count": null,
      "outputs": [
        {
          "output_type": "execute_result",
          "data": {
            "text/html": [
              "<div>\n",
              "<style scoped>\n",
              "    .dataframe tbody tr th:only-of-type {\n",
              "        vertical-align: middle;\n",
              "    }\n",
              "\n",
              "    .dataframe tbody tr th {\n",
              "        vertical-align: top;\n",
              "    }\n",
              "\n",
              "    .dataframe thead th {\n",
              "        text-align: right;\n",
              "    }\n",
              "</style>\n",
              "<table border=\"1\" class=\"dataframe\">\n",
              "  <thead>\n",
              "    <tr style=\"text-align: right;\">\n",
              "      <th></th>\n",
              "      <th>WEC: ava. windspeed</th>\n",
              "      <th>WEC: ava. Rotation</th>\n",
              "      <th>WEC: ava. Power</th>\n",
              "      <th>WEC: ava. Nacel position including cable twisting</th>\n",
              "      <th>WEC: Operating Hours</th>\n",
              "      <th>WEC: ava. blade angle A</th>\n",
              "      <th>Spinner temp.</th>\n",
              "      <th>Front bearing temp.</th>\n",
              "      <th>Rear bearing temp.</th>\n",
              "      <th>Blade B temp.</th>\n",
              "      <th>Rotor temp. 1</th>\n",
              "      <th>Stator temp. 1</th>\n",
              "      <th>Nacelle temp.</th>\n",
              "      <th>Yaw inverter cabinet temp.</th>\n",
              "      <th>Fan inverter cabinet temp.</th>\n",
              "      <th>Ambient temp.</th>\n",
              "      <th>Tower temp.</th>\n",
              "      <th>Control cabinet temp.</th>\n",
              "      <th>Transformer temp.</th>\n",
              "      <th>Fault</th>\n",
              "    </tr>\n",
              "  </thead>\n",
              "  <tbody>\n",
              "    <tr>\n",
              "      <th>0</th>\n",
              "      <td>6.9</td>\n",
              "      <td>0.0</td>\n",
              "      <td>0</td>\n",
              "      <td>640</td>\n",
              "      <td>881</td>\n",
              "      <td>91.959999</td>\n",
              "      <td>13</td>\n",
              "      <td>13</td>\n",
              "      <td>13</td>\n",
              "      <td>166</td>\n",
              "      <td>15</td>\n",
              "      <td>15</td>\n",
              "      <td>14</td>\n",
              "      <td>20</td>\n",
              "      <td>25</td>\n",
              "      <td>12</td>\n",
              "      <td>14</td>\n",
              "      <td>24</td>\n",
              "      <td>34</td>\n",
              "      <td>No Fault</td>\n",
              "    </tr>\n",
              "    <tr>\n",
              "      <th>1</th>\n",
              "      <td>5.3</td>\n",
              "      <td>0.0</td>\n",
              "      <td>0</td>\n",
              "      <td>640</td>\n",
              "      <td>881</td>\n",
              "      <td>91.959999</td>\n",
              "      <td>13</td>\n",
              "      <td>13</td>\n",
              "      <td>13</td>\n",
              "      <td>166</td>\n",
              "      <td>15</td>\n",
              "      <td>15</td>\n",
              "      <td>13</td>\n",
              "      <td>20</td>\n",
              "      <td>25</td>\n",
              "      <td>12</td>\n",
              "      <td>14</td>\n",
              "      <td>24</td>\n",
              "      <td>34</td>\n",
              "      <td>No Fault</td>\n",
              "    </tr>\n",
              "    <tr>\n",
              "      <th>2</th>\n",
              "      <td>5.0</td>\n",
              "      <td>0.0</td>\n",
              "      <td>0</td>\n",
              "      <td>640</td>\n",
              "      <td>881</td>\n",
              "      <td>91.940002</td>\n",
              "      <td>13</td>\n",
              "      <td>13</td>\n",
              "      <td>13</td>\n",
              "      <td>166</td>\n",
              "      <td>15</td>\n",
              "      <td>15</td>\n",
              "      <td>13</td>\n",
              "      <td>20</td>\n",
              "      <td>25</td>\n",
              "      <td>12</td>\n",
              "      <td>14</td>\n",
              "      <td>24</td>\n",
              "      <td>34</td>\n",
              "      <td>No Fault</td>\n",
              "    </tr>\n",
              "    <tr>\n",
              "      <th>3</th>\n",
              "      <td>4.4</td>\n",
              "      <td>0.0</td>\n",
              "      <td>0</td>\n",
              "      <td>641</td>\n",
              "      <td>881</td>\n",
              "      <td>91.949997</td>\n",
              "      <td>13</td>\n",
              "      <td>13</td>\n",
              "      <td>13</td>\n",
              "      <td>166</td>\n",
              "      <td>15</td>\n",
              "      <td>15</td>\n",
              "      <td>13</td>\n",
              "      <td>21</td>\n",
              "      <td>25</td>\n",
              "      <td>12</td>\n",
              "      <td>14</td>\n",
              "      <td>24</td>\n",
              "      <td>34</td>\n",
              "      <td>No Fault</td>\n",
              "    </tr>\n",
              "    <tr>\n",
              "      <th>4</th>\n",
              "      <td>5.7</td>\n",
              "      <td>0.0</td>\n",
              "      <td>0</td>\n",
              "      <td>633</td>\n",
              "      <td>881</td>\n",
              "      <td>91.940002</td>\n",
              "      <td>13</td>\n",
              "      <td>13</td>\n",
              "      <td>13</td>\n",
              "      <td>166</td>\n",
              "      <td>15</td>\n",
              "      <td>15</td>\n",
              "      <td>13</td>\n",
              "      <td>21</td>\n",
              "      <td>25</td>\n",
              "      <td>12</td>\n",
              "      <td>14</td>\n",
              "      <td>23</td>\n",
              "      <td>34</td>\n",
              "      <td>No Fault</td>\n",
              "    </tr>\n",
              "  </tbody>\n",
              "</table>\n",
              "</div>"
            ],
            "text/plain": [
              "   WEC: ava. windspeed  WEC: ava. Rotation  ...  Transformer temp.     Fault\n",
              "0                  6.9                 0.0  ...                 34  No Fault\n",
              "1                  5.3                 0.0  ...                 34  No Fault\n",
              "2                  5.0                 0.0  ...                 34  No Fault\n",
              "3                  4.4                 0.0  ...                 34  No Fault\n",
              "4                  5.7                 0.0  ...                 34  No Fault\n",
              "\n",
              "[5 rows x 20 columns]"
            ]
          },
          "metadata": {
            "tags": []
          },
          "execution_count": 23
        }
      ]
    },
    {
      "cell_type": "code",
      "metadata": {
        "id": "pDs4kW6daDjx"
      },
      "source": [
        "X=df_main.drop('Fault',axis=1)\n",
        "y=df_main['Fault']"
      ],
      "execution_count": null,
      "outputs": []
    },
    {
      "cell_type": "code",
      "metadata": {
        "id": "8RUsm-hJF75-",
        "colab": {
          "base_uri": "https://localhost:8080/"
        },
        "outputId": "42c90691-755c-4c75-c7f5-a4902337a356"
      },
      "source": [
        "y"
      ],
      "execution_count": null,
      "outputs": [
        {
          "output_type": "execute_result",
          "data": {
            "text/plain": [
              "0        No Fault\n",
              "1        No Fault\n",
              "2        No Fault\n",
              "3        No Fault\n",
              "4        No Fault\n",
              "           ...   \n",
              "49022    No Fault\n",
              "49023    No Fault\n",
              "49024    No Fault\n",
              "49025    No Fault\n",
              "49026    No Fault\n",
              "Name: Fault, Length: 49027, dtype: object"
            ]
          },
          "metadata": {
            "tags": []
          },
          "execution_count": 25
        }
      ]
    },
    {
      "cell_type": "code",
      "metadata": {
        "id": "dYK0w2bRaDj2"
      },
      "source": [
        "X_training_features, X_testing_features, y_training_features, y_testing_features = train_test_split(X, y, test_size=0.1, random_state=12)"
      ],
      "execution_count": null,
      "outputs": []
    },
    {
      "cell_type": "markdown",
      "metadata": {
        "id": "X-zyDCFlBVj1"
      },
      "source": [
        "# Logistic Regression(Imbalanced Classes)"
      ]
    },
    {
      "cell_type": "code",
      "metadata": {
        "id": "y8Nafsp8BR3o"
      },
      "source": [
        "log_reg=LogisticRegression(max_iter=1000,solver='saga')"
      ],
      "execution_count": null,
      "outputs": []
    },
    {
      "cell_type": "code",
      "metadata": {
        "id": "zwUVk96YaDj9",
        "colab": {
          "base_uri": "https://localhost:8080/"
        },
        "outputId": "1013c8ce-d95b-42db-bea4-ee0bd946ded6"
      },
      "source": [
        "log_reg.fit(X_train,y_train)"
      ],
      "execution_count": null,
      "outputs": [
        {
          "output_type": "stream",
          "text": [
            "/usr/local/lib/python3.6/dist-packages/sklearn/linear_model/_sag.py:330: ConvergenceWarning: The max_iter was reached which means the coef_ did not converge\n",
            "  \"the coef_ did not converge\", ConvergenceWarning)\n"
          ],
          "name": "stderr"
        },
        {
          "output_type": "execute_result",
          "data": {
            "text/plain": [
              "LogisticRegression(C=1.0, class_weight=None, dual=False, fit_intercept=True,\n",
              "                   intercept_scaling=1, l1_ratio=None, max_iter=1000,\n",
              "                   multi_class='auto', n_jobs=None, penalty='l2',\n",
              "                   random_state=None, solver='saga', tol=0.0001, verbose=0,\n",
              "                   warm_start=False)"
            ]
          },
          "metadata": {
            "tags": []
          },
          "execution_count": 30
        }
      ]
    },
    {
      "cell_type": "code",
      "metadata": {
        "id": "sPGMIG3TaDkC"
      },
      "source": [
        "predictions=log_reg.predict(X_test)"
      ],
      "execution_count": null,
      "outputs": []
    },
    {
      "cell_type": "code",
      "metadata": {
        "id": "iERJgrXyaDkG",
        "colab": {
          "base_uri": "https://localhost:8080/"
        },
        "outputId": "1d51c95c-f892-433f-b9dd-1ff51b12f341"
      },
      "source": [
        "print(pd.crosstab(y_test,predictions))"
      ],
      "execution_count": null,
      "outputs": [
        {
          "output_type": "stream",
          "text": [
            "col_0     FF  No Fault\n",
            "Fault                 \n",
            "AF         0        15\n",
            "EF         0        19\n",
            "FF         2        74\n",
            "GF         0        14\n",
            "MF         0         9\n",
            "No Fault   6     14570\n"
          ],
          "name": "stdout"
        }
      ]
    },
    {
      "cell_type": "code",
      "metadata": {
        "id": "xOOJYBQnaDkM",
        "colab": {
          "base_uri": "https://localhost:8080/"
        },
        "outputId": "a25c25ac-7bd7-4543-c79e-bd5ceb47ac4a"
      },
      "source": [
        "print(classification_report(y_test,predictions))"
      ],
      "execution_count": null,
      "outputs": [
        {
          "output_type": "stream",
          "text": [
            "              precision    recall  f1-score   support\n",
            "\n",
            "          AF       0.00      0.00      0.00        11\n",
            "          EF       0.00      0.00      0.00        14\n",
            "          FF       0.17      0.08      0.11        51\n",
            "          GF       0.00      0.00      0.00        10\n",
            "          MF       0.00      0.00      0.00         5\n",
            "    No Fault       0.99      1.00      0.99      9715\n",
            "\n",
            "    accuracy                           0.99      9806\n",
            "   macro avg       0.19      0.18      0.18      9806\n",
            "weighted avg       0.98      0.99      0.99      9806\n",
            "\n"
          ],
          "name": "stdout"
        },
        {
          "output_type": "stream",
          "text": [
            "/usr/local/lib/python3.6/dist-packages/sklearn/metrics/_classification.py:1272: UndefinedMetricWarning: Precision and F-score are ill-defined and being set to 0.0 in labels with no predicted samples. Use `zero_division` parameter to control this behavior.\n",
            "  _warn_prf(average, modifier, msg_start, len(result))\n"
          ],
          "name": "stderr"
        }
      ]
    },
    {
      "cell_type": "code",
      "metadata": {
        "id": "jUhnVmjxaDkV",
        "colab": {
          "base_uri": "https://localhost:8080/"
        },
        "outputId": "7598a90d-d751-4226-d5df-9615d91b8c73"
      },
      "source": [
        "unique, count = np.unique(y_training_features, return_counts=True)\n",
        "Y_train_dict_value_count = { k:v for (k,v) in zip(unique, count)}\n",
        "Y_train_dict_value_count"
      ],
      "execution_count": null,
      "outputs": [
        {
          "output_type": "execute_result",
          "data": {
            "text/plain": [
              "{'AF': 43, 'EF': 72, 'FF': 230, 'GF': 41, 'MF': 20, 'No Fault': 43718}"
            ]
          },
          "metadata": {
            "tags": []
          },
          "execution_count": 19
        }
      ]
    },
    {
      "cell_type": "markdown",
      "metadata": {
        "id": "wyK14Ml1rHKC"
      },
      "source": [
        "# SMOTE"
      ]
    },
    {
      "cell_type": "code",
      "metadata": {
        "id": "9OtYGD8_2DxA"
      },
      "source": [
        "X_train_res,X_test_res,y_train_res,y_test_res= train_test_split(X_training_features, y_training_features, test_size=0.2, random_state=12)"
      ],
      "execution_count": null,
      "outputs": []
    },
    {
      "cell_type": "code",
      "metadata": {
        "id": "2bcLQunfaDkc",
        "colab": {
          "base_uri": "https://localhost:8080/"
        },
        "outputId": "2be00463-adec-40d2-9362-70cbf8bf5ce5"
      },
      "source": [
        "from imblearn.over_sampling import SMOTE\n",
        "from imblearn.pipeline import make_pipeline"
      ],
      "execution_count": null,
      "outputs": [
        {
          "output_type": "stream",
          "text": [
            "/usr/local/lib/python3.6/dist-packages/sklearn/externals/six.py:31: FutureWarning: The module is deprecated in version 0.21 and will be removed in version 0.23 since we've dropped support for Python 2.7. Please rely on the official version of six (https://pypi.org/project/six/).\n",
            "  \"(https://pypi.org/project/six/).\", FutureWarning)\n",
            "/usr/local/lib/python3.6/dist-packages/sklearn/utils/deprecation.py:144: FutureWarning: The sklearn.neighbors.base module is  deprecated in version 0.22 and will be removed in version 0.24. The corresponding classes / functions should instead be imported from sklearn.neighbors. Anything that cannot be imported from sklearn.neighbors is now part of the private API.\n",
            "  warnings.warn(message, FutureWarning)\n"
          ],
          "name": "stderr"
        }
      ]
    },
    {
      "cell_type": "code",
      "metadata": {
        "scrolled": true,
        "id": "TtmArWBXaDkg",
        "colab": {
          "base_uri": "https://localhost:8080/"
        },
        "outputId": "7893b55a-1687-48c8-c477-b4829dd77205"
      },
      "source": [
        "sm = SMOTE(random_state=12)\n",
        "final_x_train_res, final_y_train_res = sm.fit_sample(X_train_res, y_train_res)"
      ],
      "execution_count": null,
      "outputs": [
        {
          "output_type": "stream",
          "text": [
            "/usr/local/lib/python3.6/dist-packages/sklearn/utils/deprecation.py:87: FutureWarning: Function safe_indexing is deprecated; safe_indexing is deprecated in version 0.22 and will be removed in version 0.24.\n",
            "  warnings.warn(msg, category=FutureWarning)\n",
            "/usr/local/lib/python3.6/dist-packages/sklearn/utils/deprecation.py:87: FutureWarning: Function safe_indexing is deprecated; safe_indexing is deprecated in version 0.22 and will be removed in version 0.24.\n",
            "  warnings.warn(msg, category=FutureWarning)\n",
            "/usr/local/lib/python3.6/dist-packages/sklearn/utils/deprecation.py:87: FutureWarning: Function safe_indexing is deprecated; safe_indexing is deprecated in version 0.22 and will be removed in version 0.24.\n",
            "  warnings.warn(msg, category=FutureWarning)\n",
            "/usr/local/lib/python3.6/dist-packages/sklearn/utils/deprecation.py:87: FutureWarning: Function safe_indexing is deprecated; safe_indexing is deprecated in version 0.22 and will be removed in version 0.24.\n",
            "  warnings.warn(msg, category=FutureWarning)\n",
            "/usr/local/lib/python3.6/dist-packages/sklearn/utils/deprecation.py:87: FutureWarning: Function safe_indexing is deprecated; safe_indexing is deprecated in version 0.22 and will be removed in version 0.24.\n",
            "  warnings.warn(msg, category=FutureWarning)\n"
          ],
          "name": "stderr"
        }
      ]
    },
    {
      "cell_type": "code",
      "metadata": {
        "id": "yyhm0gvAaDkk",
        "colab": {
          "base_uri": "https://localhost:8080/"
        },
        "outputId": "57c40161-e1d3-433a-d56c-3af239f02ce6"
      },
      "source": [
        "unique, count = np.unique(final_y_train_res, return_counts=True)\n",
        "y_train_smote_value_count = { k:v for (k,v) in zip(unique, count)}\n",
        "y_train_smote_value_count"
      ],
      "execution_count": null,
      "outputs": [
        {
          "output_type": "execute_result",
          "data": {
            "text/plain": [
              "{'AF': 34980,\n",
              " 'EF': 34980,\n",
              " 'FF': 34980,\n",
              " 'GF': 34980,\n",
              " 'MF': 34980,\n",
              " 'No Fault': 34980}"
            ]
          },
          "metadata": {
            "tags": []
          },
          "execution_count": 30
        }
      ]
    },
    {
      "cell_type": "markdown",
      "metadata": {
        "id": "S3kQqT0jK9iJ"
      },
      "source": [
        "# Logistic Regression After SMOTE"
      ]
    },
    {
      "cell_type": "code",
      "metadata": {
        "id": "tkSzf8UcCFOu"
      },
      "source": [
        "from sklearn.preprocessing import StandardScaler\n",
        "sc=StandardScaler()\n",
        "log_reg_smote=LogisticRegression(max_iter=1000)"
      ],
      "execution_count": null,
      "outputs": []
    },
    {
      "cell_type": "code",
      "metadata": {
        "id": "kMlYF0CuaDkr",
        "colab": {
          "base_uri": "https://localhost:8080/"
        },
        "outputId": "70e66e09-a20b-43e0-b4e1-e204343b06a5"
      },
      "source": [
        "from sklearn.pipeline import Pipeline\n",
        "pipeline = Pipeline([\n",
        "    ('scaler', StandardScaler()), #Step1 - normalize data\n",
        "    ('clf', LogisticRegression(max_iter=1000)) #step2 - classifier\n",
        "])\n",
        "pipeline.steps"
      ],
      "execution_count": null,
      "outputs": [
        {
          "output_type": "execute_result",
          "data": {
            "text/plain": [
              "[('scaler', StandardScaler(copy=True, with_mean=True, with_std=True)),\n",
              " ('clf',\n",
              "  LogisticRegression(C=1.0, class_weight=None, dual=False, fit_intercept=True,\n",
              "                     intercept_scaling=1, l1_ratio=None, max_iter=1000,\n",
              "                     multi_class='auto', n_jobs=None, penalty='l2',\n",
              "                     random_state=None, solver='lbfgs', tol=0.0001, verbose=0,\n",
              "                     warm_start=False))]"
            ]
          },
          "metadata": {
            "tags": []
          },
          "execution_count": 31
        }
      ]
    },
    {
      "cell_type": "code",
      "metadata": {
        "id": "5rM5KiSmMeM8",
        "colab": {
          "base_uri": "https://localhost:8080/"
        },
        "outputId": "c0f43fcb-14d1-4093-8653-8002db4c7dee"
      },
      "source": [
        "from sklearn.model_selection import cross_validate\n",
        "\n",
        "pipeline.fit(final_x_train_res,final_y_train_res)"
      ],
      "execution_count": null,
      "outputs": [
        {
          "output_type": "execute_result",
          "data": {
            "text/plain": [
              "Pipeline(memory=None,\n",
              "         steps=[('scaler',\n",
              "                 StandardScaler(copy=True, with_mean=True, with_std=True)),\n",
              "                ('clf',\n",
              "                 LogisticRegression(C=1.0, class_weight=None, dual=False,\n",
              "                                    fit_intercept=True, intercept_scaling=1,\n",
              "                                    l1_ratio=None, max_iter=1000,\n",
              "                                    multi_class='auto', n_jobs=None,\n",
              "                                    penalty='l2', random_state=None,\n",
              "                                    solver='lbfgs', tol=0.0001, verbose=0,\n",
              "                                    warm_start=False))],\n",
              "         verbose=False)"
            ]
          },
          "metadata": {
            "tags": []
          },
          "execution_count": 32
        }
      ]
    },
    {
      "cell_type": "code",
      "metadata": {
        "id": "kGJw5GToaDkx",
        "colab": {
          "base_uri": "https://localhost:8080/"
        },
        "outputId": "1b4245f6-33a9-4efa-de2d-ad04639ee6df"
      },
      "source": [
        "predictions=pipeline.predict(X_test_res)\n",
        "print(pd.crosstab(y_test_res,predictions))\n",
        "print(classification_report(y_test_res,predictions))"
      ],
      "execution_count": null,
      "outputs": [
        {
          "output_type": "stream",
          "text": [
            "col_0       AF   EF   FF  GF   MF  No Fault\n",
            "Fault                                      \n",
            "AF           6    0    0   0    2         2\n",
            "EF           0   12    2   0    0         0\n",
            "FF           1    9   40   0    0         4\n",
            "GF           0    0    0   7    0         0\n",
            "MF           0    0    0   0    1         1\n",
            "No Fault  1177  451  613  10  655      5832\n",
            "              precision    recall  f1-score   support\n",
            "\n",
            "          AF       0.01      0.60      0.01        10\n",
            "          EF       0.03      0.86      0.05        14\n",
            "          FF       0.06      0.74      0.11        54\n",
            "          GF       0.41      1.00      0.58         7\n",
            "          MF       0.00      0.50      0.00         2\n",
            "    No Fault       1.00      0.67      0.80      8738\n",
            "\n",
            "    accuracy                           0.67      8825\n",
            "   macro avg       0.25      0.73      0.26      8825\n",
            "weighted avg       0.99      0.67      0.79      8825\n",
            "\n"
          ],
          "name": "stdout"
        }
      ]
    },
    {
      "cell_type": "code",
      "metadata": {
        "id": "uLOjotk84NnV",
        "colab": {
          "base_uri": "https://localhost:8080/"
        },
        "outputId": "a5c1adb7-2d8d-47b3-cb8e-ddc46f38b425"
      },
      "source": [
        "predictions=pipeline.predict(X_testing_features)\n",
        "print(pd.crosstab(y_testing_features,predictions))\n",
        "print(classification_report(y_testing_features,predictions))"
      ],
      "execution_count": null,
      "outputs": [
        {
          "output_type": "stream",
          "text": [
            "col_0      AF   EF   FF  GF   MF  No Fault\n",
            "Fault                                     \n",
            "AF          6    0    0   0    0         1\n",
            "EF          0    6    1   0    0         0\n",
            "FF          0    3   15   0    1         5\n",
            "GF          0    0    0   2    0         0\n",
            "No Fault  654  253  334   8  348      3266\n",
            "              precision    recall  f1-score   support\n",
            "\n",
            "          AF       0.01      0.86      0.02         7\n",
            "          EF       0.02      0.86      0.04         7\n",
            "          FF       0.04      0.62      0.08        24\n",
            "          GF       0.20      1.00      0.33         2\n",
            "          MF       0.00      0.00      0.00         0\n",
            "    No Fault       1.00      0.67      0.80      4863\n",
            "\n",
            "    accuracy                           0.67      4903\n",
            "   macro avg       0.21      0.67      0.21      4903\n",
            "weighted avg       0.99      0.67      0.80      4903\n",
            "\n"
          ],
          "name": "stdout"
        },
        {
          "output_type": "stream",
          "text": [
            "/usr/local/lib/python3.6/dist-packages/sklearn/metrics/_classification.py:1272: UndefinedMetricWarning: Recall and F-score are ill-defined and being set to 0.0 in labels with no true samples. Use `zero_division` parameter to control this behavior.\n",
            "  _warn_prf(average, modifier, msg_start, len(result))\n"
          ],
          "name": "stderr"
        }
      ]
    },
    {
      "cell_type": "markdown",
      "metadata": {
        "id": "k6dZynnaaDlV"
      },
      "source": [
        "# SVM"
      ]
    },
    {
      "cell_type": "code",
      "metadata": {
        "id": "6z1Dfp2v52Bv"
      },
      "source": [
        "from sklearn.svm import SVC"
      ],
      "execution_count": null,
      "outputs": []
    },
    {
      "cell_type": "code",
      "metadata": {
        "id": "4bAmaMpf5r71"
      },
      "source": [
        "pipeline = Pipeline([\n",
        "    ('scaler', StandardScaler()),\n",
        "    ('clf', SVC())\n",
        "])"
      ],
      "execution_count": null,
      "outputs": []
    },
    {
      "cell_type": "code",
      "metadata": {
        "id": "1EV_d7NzaDlW",
        "colab": {
          "base_uri": "https://localhost:8080/"
        },
        "outputId": "14370c1f-f6ca-4b8f-f9e3-642cf851e8a2"
      },
      "source": [
        "pipeline.fit(final_x_train_res,final_y_train_res)"
      ],
      "execution_count": null,
      "outputs": [
        {
          "output_type": "execute_result",
          "data": {
            "text/plain": [
              "Pipeline(memory=None,\n",
              "         steps=[('scaler',\n",
              "                 StandardScaler(copy=True, with_mean=True, with_std=True)),\n",
              "                ('clf',\n",
              "                 SVC(C=1.0, break_ties=False, cache_size=200, class_weight=None,\n",
              "                     coef0=0.0, decision_function_shape='ovr', degree=3,\n",
              "                     gamma='scale', kernel='rbf', max_iter=-1,\n",
              "                     probability=False, random_state=None, shrinking=True,\n",
              "                     tol=0.001, verbose=False))],\n",
              "         verbose=False)"
            ]
          },
          "metadata": {
            "tags": []
          },
          "execution_count": 37
        }
      ]
    },
    {
      "cell_type": "code",
      "metadata": {
        "id": "AdxFC0t-ydp_",
        "colab": {
          "base_uri": "https://localhost:8080/"
        },
        "outputId": "86bbd618-bc10-4a3e-8a94-22d6e32bef9c"
      },
      "source": [
        "predictions=pipeline.predict(X_test_res)\n",
        "print(pd.crosstab(y_test_res,predictions))\n",
        "print(classification_report(y_test_res,predictions))"
      ],
      "execution_count": null,
      "outputs": [
        {
          "output_type": "stream",
          "text": [
            "col_0      AF  EF   FF  GF  MF  No Fault\n",
            "Fault                                   \n",
            "AF          7   0    0   0   2         1\n",
            "EF          0   9    4   0   0         1\n",
            "FF          0   4   50   0   0         0\n",
            "GF          0   0    0   7   0         0\n",
            "MF          2   0    0   0   0         0\n",
            "No Fault  199  99  153   2  69      8216\n",
            "              precision    recall  f1-score   support\n",
            "\n",
            "          AF       0.03      0.70      0.06        10\n",
            "          EF       0.08      0.64      0.14        14\n",
            "          FF       0.24      0.93      0.38        54\n",
            "          GF       0.78      1.00      0.88         7\n",
            "          MF       0.00      0.00      0.00         2\n",
            "    No Fault       1.00      0.94      0.97      8738\n",
            "\n",
            "    accuracy                           0.94      8825\n",
            "   macro avg       0.36      0.70      0.41      8825\n",
            "weighted avg       0.99      0.94      0.96      8825\n",
            "\n"
          ],
          "name": "stdout"
        }
      ]
    },
    {
      "cell_type": "code",
      "metadata": {
        "id": "iaV7et05ztC7",
        "colab": {
          "base_uri": "https://localhost:8080/"
        },
        "outputId": "7da70344-611b-479b-e7f6-8661c70c4191"
      },
      "source": [
        "predictions=pipeline.predict(X_testing_features)\n",
        "print(pd.crosstab(y_testing_features,predictions))\n",
        "print(classification_report(y_testing_features,predictions))"
      ],
      "execution_count": null,
      "outputs": [
        {
          "output_type": "stream",
          "text": [
            "col_0      AF  EF   FF  GF  MF  No Fault\n",
            "Fault                                   \n",
            "AF          6   0    0   0   0         1\n",
            "EF          0   6    1   0   0         0\n",
            "FF          0   1   22   0   0         1\n",
            "GF          0   0    0   2   0         0\n",
            "No Fault  131  63  101   3  44      4521\n",
            "              precision    recall  f1-score   support\n",
            "\n",
            "          AF       0.04      0.86      0.08         7\n",
            "          EF       0.09      0.86      0.16         7\n",
            "          FF       0.18      0.92      0.30        24\n",
            "          GF       0.40      1.00      0.57         2\n",
            "          MF       0.00      0.00      0.00         0\n",
            "    No Fault       1.00      0.93      0.96      4863\n",
            "\n",
            "    accuracy                           0.93      4903\n",
            "   macro avg       0.28      0.76      0.35      4903\n",
            "weighted avg       0.99      0.93      0.96      4903\n",
            "\n"
          ],
          "name": "stdout"
        },
        {
          "output_type": "stream",
          "text": [
            "/usr/local/lib/python3.6/dist-packages/sklearn/metrics/_classification.py:1272: UndefinedMetricWarning: Recall and F-score are ill-defined and being set to 0.0 in labels with no true samples. Use `zero_division` parameter to control this behavior.\n",
            "  _warn_prf(average, modifier, msg_start, len(result))\n"
          ],
          "name": "stderr"
        }
      ]
    },
    {
      "cell_type": "markdown",
      "metadata": {
        "id": "jvBY1eAFGv5X"
      },
      "source": [
        "# KNN"
      ]
    },
    {
      "cell_type": "code",
      "metadata": {
        "id": "W9gMOVuXG9a0"
      },
      "source": [
        "from sklearn.neighbors import KNeighborsClassifier"
      ],
      "execution_count": null,
      "outputs": []
    },
    {
      "cell_type": "code",
      "metadata": {
        "id": "l-VTOtckGss-"
      },
      "source": [
        "pipeline = Pipeline([\n",
        "    ('scaler', StandardScaler()),\n",
        "    ('clf', KNeighborsClassifier(n_neighbors=5))\n",
        "])"
      ],
      "execution_count": null,
      "outputs": []
    },
    {
      "cell_type": "code",
      "metadata": {
        "id": "j1FLxzVwHOcL",
        "colab": {
          "base_uri": "https://localhost:8080/"
        },
        "outputId": "8365aa22-de95-4c07-da72-580b92391b0b"
      },
      "source": [
        "pipeline.fit(final_x_train_res,final_y_train_res)"
      ],
      "execution_count": null,
      "outputs": [
        {
          "output_type": "execute_result",
          "data": {
            "text/plain": [
              "Pipeline(memory=None,\n",
              "         steps=[('scaler',\n",
              "                 StandardScaler(copy=True, with_mean=True, with_std=True)),\n",
              "                ('clf',\n",
              "                 KNeighborsClassifier(algorithm='auto', leaf_size=30,\n",
              "                                      metric='minkowski', metric_params=None,\n",
              "                                      n_jobs=None, n_neighbors=5, p=2,\n",
              "                                      weights='uniform'))],\n",
              "         verbose=False)"
            ]
          },
          "metadata": {
            "tags": []
          },
          "execution_count": 41
        }
      ]
    },
    {
      "cell_type": "code",
      "metadata": {
        "id": "UsS40es-HOv_",
        "colab": {
          "base_uri": "https://localhost:8080/"
        },
        "outputId": "02d619c2-bd53-415d-dd28-96a1d9589a94"
      },
      "source": [
        "predictions=pipeline.predict(X_test_res)\n",
        "print(pd.crosstab(y_test_res,predictions))\n",
        "print(classification_report(y_test_res,predictions))"
      ],
      "execution_count": null,
      "outputs": [
        {
          "output_type": "stream",
          "text": [
            "col_0     AF  EF  FF  GF  MF  No Fault\n",
            "Fault                                 \n",
            "AF         5   0   1   0   3         1\n",
            "EF         0   5   4   0   0         5\n",
            "FF         0   3  41   0   0        10\n",
            "GF         0   0   0   7   0         0\n",
            "MF         2   0   0   0   0         0\n",
            "No Fault  45  17  63   3  15      8595\n",
            "              precision    recall  f1-score   support\n",
            "\n",
            "          AF       0.10      0.50      0.16        10\n",
            "          EF       0.20      0.36      0.26        14\n",
            "          FF       0.38      0.76      0.50        54\n",
            "          GF       0.70      1.00      0.82         7\n",
            "          MF       0.00      0.00      0.00         2\n",
            "    No Fault       1.00      0.98      0.99      8738\n",
            "\n",
            "    accuracy                           0.98      8825\n",
            "   macro avg       0.40      0.60      0.46      8825\n",
            "weighted avg       0.99      0.98      0.99      8825\n",
            "\n"
          ],
          "name": "stdout"
        }
      ]
    },
    {
      "cell_type": "code",
      "metadata": {
        "id": "lwHMTVBqHO7j",
        "colab": {
          "base_uri": "https://localhost:8080/"
        },
        "outputId": "00e94055-8f32-4129-d5f1-181f218c4a90"
      },
      "source": [
        "predictions=pipeline.predict(X_testing_features)\n",
        "print(pd.crosstab(y_testing_features,predictions))\n",
        "print(classification_report(y_testing_features,predictions))"
      ],
      "execution_count": null,
      "outputs": [
        {
          "output_type": "stream",
          "text": [
            "col_0     AF  EF  FF  GF  MF  No Fault\n",
            "Fault                                 \n",
            "AF         5   0   0   0   0         2\n",
            "EF         0   5   1   0   0         1\n",
            "FF         0   1  20   0   0         3\n",
            "GF         0   0   0   2   0         0\n",
            "No Fault  31  25  42   3   5      4757\n",
            "              precision    recall  f1-score   support\n",
            "\n",
            "          AF       0.14      0.71      0.23         7\n",
            "          EF       0.16      0.71      0.26         7\n",
            "          FF       0.32      0.83      0.46        24\n",
            "          GF       0.40      1.00      0.57         2\n",
            "          MF       0.00      0.00      0.00         0\n",
            "    No Fault       1.00      0.98      0.99      4863\n",
            "\n",
            "    accuracy                           0.98      4903\n",
            "   macro avg       0.34      0.71      0.42      4903\n",
            "weighted avg       0.99      0.98      0.98      4903\n",
            "\n"
          ],
          "name": "stdout"
        },
        {
          "output_type": "stream",
          "text": [
            "/usr/local/lib/python3.6/dist-packages/sklearn/metrics/_classification.py:1272: UndefinedMetricWarning: Recall and F-score are ill-defined and being set to 0.0 in labels with no true samples. Use `zero_division` parameter to control this behavior.\n",
            "  _warn_prf(average, modifier, msg_start, len(result))\n"
          ],
          "name": "stderr"
        }
      ]
    },
    {
      "cell_type": "markdown",
      "metadata": {
        "id": "HoPbzH6iRF_O"
      },
      "source": [
        "# Naive Bayes"
      ]
    },
    {
      "cell_type": "code",
      "metadata": {
        "id": "FOHgZc0ARJkp"
      },
      "source": [
        "from sklearn.naive_bayes import GaussianNB \n",
        "gnb = GaussianNB() "
      ],
      "execution_count": null,
      "outputs": []
    },
    {
      "cell_type": "code",
      "metadata": {
        "id": "7l28IvUh8Izg",
        "colab": {
          "base_uri": "https://localhost:8080/"
        },
        "outputId": "91a5f540-a8c9-42d9-e5fc-2364f8893050"
      },
      "source": [
        "gnb.fit(final_x_train_res,final_y_train_res)"
      ],
      "execution_count": null,
      "outputs": [
        {
          "output_type": "execute_result",
          "data": {
            "text/plain": [
              "GaussianNB(priors=None, var_smoothing=1e-09)"
            ]
          },
          "metadata": {
            "tags": []
          },
          "execution_count": 48
        }
      ]
    },
    {
      "cell_type": "code",
      "metadata": {
        "id": "X5aR_wxr8OBU",
        "colab": {
          "base_uri": "https://localhost:8080/"
        },
        "outputId": "eb63ef23-f614-4345-8eb6-cc860890f97c"
      },
      "source": [
        "predictions=gnb.predict(X_test_res)\n",
        "print(pd.crosstab(y_test_res,predictions))\n",
        "print(classification_report(y_test_res,predictions))"
      ],
      "execution_count": null,
      "outputs": [
        {
          "output_type": "stream",
          "text": [
            "col_0       AF   EF    FF   GF   MF  No Fault\n",
            "Fault                                        \n",
            "AF           9    0     1    0    0         0\n",
            "EF           0   13     1    0    0         0\n",
            "FF           3   17    29    4    0         1\n",
            "GF           0    0     0    7    0         0\n",
            "MF           2    0     0    0    0         0\n",
            "No Fault  2674  584  2388  148  990      1954\n",
            "              precision    recall  f1-score   support\n",
            "\n",
            "          AF       0.00      0.90      0.01        10\n",
            "          EF       0.02      0.93      0.04        14\n",
            "          FF       0.01      0.54      0.02        54\n",
            "          GF       0.04      1.00      0.08         7\n",
            "          MF       0.00      0.00      0.00         2\n",
            "    No Fault       1.00      0.22      0.37      8738\n",
            "\n",
            "    accuracy                           0.23      8825\n",
            "   macro avg       0.18      0.60      0.09      8825\n",
            "weighted avg       0.99      0.23      0.36      8825\n",
            "\n"
          ],
          "name": "stdout"
        }
      ]
    },
    {
      "cell_type": "code",
      "metadata": {
        "id": "8FaheHb8RyAW",
        "colab": {
          "base_uri": "https://localhost:8080/"
        },
        "outputId": "4bbcae66-86f1-481a-f611-c4ecfc718526"
      },
      "source": [
        "predictions=gnb.predict(X_testing_features)\n",
        "print(pd.crosstab(y_testing_features,predictions))\n",
        "print(classification_report(y_testing_features,predictions))"
      ],
      "execution_count": null,
      "outputs": [
        {
          "output_type": "stream",
          "text": [
            "col_0       AF   EF    FF  GF   MF  No Fault\n",
            "Fault                                       \n",
            "AF           5    0     1   0    0         1\n",
            "EF           1    6     0   0    0         0\n",
            "FF           1    4    19   0    0         0\n",
            "GF           0    0     0   2    0         0\n",
            "No Fault  1508  344  1311  80  571      1049\n",
            "              precision    recall  f1-score   support\n",
            "\n",
            "          AF       0.00      0.71      0.01         7\n",
            "          EF       0.02      0.86      0.03         7\n",
            "          FF       0.01      0.79      0.03        24\n",
            "          GF       0.02      1.00      0.05         2\n",
            "          MF       0.00      0.00      0.00         0\n",
            "    No Fault       1.00      0.22      0.35      4863\n",
            "\n",
            "    accuracy                           0.22      4903\n",
            "   macro avg       0.18      0.60      0.08      4903\n",
            "weighted avg       0.99      0.22      0.35      4903\n",
            "\n"
          ],
          "name": "stdout"
        },
        {
          "output_type": "stream",
          "text": [
            "/usr/local/lib/python3.6/dist-packages/sklearn/metrics/_classification.py:1272: UndefinedMetricWarning: Recall and F-score are ill-defined and being set to 0.0 in labels with no true samples. Use `zero_division` parameter to control this behavior.\n",
            "  _warn_prf(average, modifier, msg_start, len(result))\n"
          ],
          "name": "stderr"
        }
      ]
    },
    {
      "cell_type": "markdown",
      "metadata": {
        "id": "xRT_dfxUTAmP"
      },
      "source": [
        "# Random Forest"
      ]
    },
    {
      "cell_type": "code",
      "metadata": {
        "id": "2UnQEmXSTC5w",
        "colab": {
          "base_uri": "https://localhost:8080/"
        },
        "outputId": "1bb9377d-64bb-4dc4-9ea9-7b028ff8bfdd"
      },
      "source": [
        "from sklearn.ensemble import RandomForestClassifier\n",
        "\n",
        "rf=RandomForestClassifier(n_estimators=100)\n",
        "\n",
        "rf.fit(final_x_train_res,final_y_train_res)"
      ],
      "execution_count": null,
      "outputs": [
        {
          "output_type": "execute_result",
          "data": {
            "text/plain": [
              "RandomForestClassifier(bootstrap=True, ccp_alpha=0.0, class_weight=None,\n",
              "                       criterion='gini', max_depth=None, max_features='auto',\n",
              "                       max_leaf_nodes=None, max_samples=None,\n",
              "                       min_impurity_decrease=0.0, min_impurity_split=None,\n",
              "                       min_samples_leaf=1, min_samples_split=2,\n",
              "                       min_weight_fraction_leaf=0.0, n_estimators=100,\n",
              "                       n_jobs=None, oob_score=False, random_state=None,\n",
              "                       verbose=0, warm_start=False)"
            ]
          },
          "metadata": {
            "tags": []
          },
          "execution_count": 51
        }
      ]
    },
    {
      "cell_type": "code",
      "metadata": {
        "id": "NhOVh4yNTOYC",
        "colab": {
          "base_uri": "https://localhost:8080/"
        },
        "outputId": "293d146f-813f-4054-d6bf-8fc146ee5f19"
      },
      "source": [
        "predictions=rf.predict(X_test_res)\n",
        "print(pd.crosstab(y_test_res,predictions))\n",
        "print(classification_report(y_test_res,predictions))"
      ],
      "execution_count": null,
      "outputs": [
        {
          "output_type": "stream",
          "text": [
            "col_0     AF  EF  FF  GF  MF  No Fault\n",
            "Fault                                 \n",
            "AF         2   0   0   0   1         7\n",
            "EF         0   2   3   0   0         9\n",
            "FF         0   2  37   0   0        15\n",
            "GF         0   0   0   7   0         0\n",
            "MF         0   0   0   0   0         2\n",
            "No Fault   3   8  17   0   2      8708\n",
            "              precision    recall  f1-score   support\n",
            "\n",
            "          AF       0.40      0.20      0.27        10\n",
            "          EF       0.17      0.14      0.15        14\n",
            "          FF       0.65      0.69      0.67        54\n",
            "          GF       1.00      1.00      1.00         7\n",
            "          MF       0.00      0.00      0.00         2\n",
            "    No Fault       1.00      1.00      1.00      8738\n",
            "\n",
            "    accuracy                           0.99      8825\n",
            "   macro avg       0.54      0.50      0.51      8825\n",
            "weighted avg       0.99      0.99      0.99      8825\n",
            "\n"
          ],
          "name": "stdout"
        }
      ]
    },
    {
      "cell_type": "code",
      "metadata": {
        "id": "CPiEoDIzTxpc",
        "colab": {
          "base_uri": "https://localhost:8080/"
        },
        "outputId": "593de4b9-2abc-4526-9aaa-a9137bd3d1ce"
      },
      "source": [
        "predictions=rf.predict(X_testing_features)\n",
        "print(pd.crosstab(y_testing_features,predictions))\n",
        "print(classification_report(y_testing_features,predictions))"
      ],
      "execution_count": null,
      "outputs": [
        {
          "output_type": "stream",
          "text": [
            "col_0     AF  EF  FF  GF  No Fault\n",
            "Fault                             \n",
            "AF         2   0   0   0         5\n",
            "EF         0   2   1   0         4\n",
            "FF         0   0  20   0         4\n",
            "GF         0   0   0   2         0\n",
            "No Fault   0   5  10   1      4847\n",
            "              precision    recall  f1-score   support\n",
            "\n",
            "          AF       1.00      0.29      0.44         7\n",
            "          EF       0.29      0.29      0.29         7\n",
            "          FF       0.65      0.83      0.73        24\n",
            "          GF       0.67      1.00      0.80         2\n",
            "    No Fault       1.00      1.00      1.00      4863\n",
            "\n",
            "    accuracy                           0.99      4903\n",
            "   macro avg       0.72      0.68      0.65      4903\n",
            "weighted avg       0.99      0.99      0.99      4903\n",
            "\n"
          ],
          "name": "stdout"
        }
      ]
    },
    {
      "cell_type": "code",
      "metadata": {
        "id": "JP1KmVVxT5UH",
        "colab": {
          "base_uri": "https://localhost:8080/"
        },
        "outputId": "3b317886-3e3a-4363-9940-9f86652ff4e1"
      },
      "source": [
        "cf_matrix = confusion_matrix(y_testing_features, predictions)\n",
        "print(cf_matrix)"
      ],
      "execution_count": null,
      "outputs": [
        {
          "output_type": "stream",
          "text": [
            "[[   2    0    0    0    5]\n",
            " [   0    2    1    0    4]\n",
            " [   0    0   20    0    4]\n",
            " [   0    0    0    2    0]\n",
            " [   0    5   10    1 4847]]\n"
          ],
          "name": "stdout"
        }
      ]
    },
    {
      "cell_type": "code",
      "metadata": {
        "id": "C0S3GziUWM6h",
        "colab": {
          "base_uri": "https://localhost:8080/",
          "height": 285
        },
        "outputId": "9cc47898-2ed9-4d8e-bc19-d834a7ddb5db"
      },
      "source": [
        "import seaborn as sns\n",
        "sns.heatmap(cf_matrix, annot=True)"
      ],
      "execution_count": null,
      "outputs": [
        {
          "output_type": "execute_result",
          "data": {
            "text/plain": [
              "<matplotlib.axes._subplots.AxesSubplot at 0x7f24acadc828>"
            ]
          },
          "metadata": {
            "tags": []
          },
          "execution_count": 55
        },
        {
          "output_type": "display_data",
          "data": {
            "image/png": "[encoded data removed]",
            "text/plain": [
              "<Figure size 432x288 with 2 Axes>"
            ]
          },
          "metadata": {
            "tags": [],
            "needs_background": "light"
          }
        }
      ]
    },
    {
      "cell_type": "markdown",
      "metadata": {
        "id": "P2RM0chxXGiz"
      },
      "source": [
        "# Gradient Boosting"
      ]
    },
    {
      "cell_type": "code",
      "metadata": {
        "id": "y647XknyXITH",
        "colab": {
          "base_uri": "https://localhost:8080/"
        },
        "outputId": "ffc5be61-1b26-4f8b-f6fb-ff7b5e3bb111"
      },
      "source": [
        "import xgboost \n",
        "xgb = xgboost.XGBClassifier() \n",
        "xgb.fit(final_x_train_res, final_y_train_res) "
      ],
      "execution_count": null,
      "outputs": [
        {
          "output_type": "execute_result",
          "data": {
            "text/plain": [
              "XGBClassifier(base_score=0.5, booster='gbtree', colsample_bylevel=1,\n",
              "              colsample_bynode=1, colsample_bytree=1, gamma=0,\n",
              "              learning_rate=0.1, max_delta_step=0, max_depth=3,\n",
              "              min_child_weight=1, missing=None, n_estimators=100, n_jobs=1,\n",
              "              nthread=None, objective='multi:softprob', random_state=0,\n",
              "              reg_alpha=0, reg_lambda=1, scale_pos_weight=1, seed=None,\n",
              "              silent=None, subsample=1, verbosity=1)"
            ]
          },
          "metadata": {
            "tags": []
          },
          "execution_count": 56
        }
      ]
    },
    {
      "cell_type": "code",
      "metadata": {
        "id": "JQp6BkxV-5K8",
        "colab": {
          "base_uri": "https://localhost:8080/"
        },
        "outputId": "c910acb5-d3ea-4871-dfcd-bb347ef30304"
      },
      "source": [
        "predictions=xgb.predict(X_test_res.values)\n",
        "print(pd.crosstab(y_test_res,predictions))\n",
        "print(classification_report(y_test_res,predictions))"
      ],
      "execution_count": null,
      "outputs": [
        {
          "output_type": "stream",
          "text": [
            "col_0      AF  EF   FF  GF  MF  No Fault\n",
            "Fault                                   \n",
            "AF          6   0    1   0   1         2\n",
            "EF          0  10    4   0   0         0\n",
            "FF          0   2   48   0   0         4\n",
            "GF          0   0    0   7   0         0\n",
            "MF          0   0    0   0   0         2\n",
            "No Fault  183  74  136   2  54      8289\n",
            "              precision    recall  f1-score   support\n",
            "\n",
            "          AF       0.03      0.60      0.06        10\n",
            "          EF       0.12      0.71      0.20        14\n",
            "          FF       0.25      0.89      0.40        54\n",
            "          GF       0.78      1.00      0.88         7\n",
            "          MF       0.00      0.00      0.00         2\n",
            "    No Fault       1.00      0.95      0.97      8738\n",
            "\n",
            "    accuracy                           0.95      8825\n",
            "   macro avg       0.36      0.69      0.42      8825\n",
            "weighted avg       0.99      0.95      0.97      8825\n",
            "\n"
          ],
          "name": "stdout"
        }
      ]
    },
    {
      "cell_type": "code",
      "metadata": {
        "id": "Lm12AZ5OXRSJ",
        "colab": {
          "base_uri": "https://localhost:8080/"
        },
        "outputId": "6af6608c-9826-42ea-d078-b48bca8c7d7f"
      },
      "source": [
        "predictions=xgb.predict(X_testing_features.values)\n",
        "print(pd.crosstab(y_testing_features,predictions))\n",
        "print(classification_report(y_testing_features,predictions))"
      ],
      "execution_count": null,
      "outputs": [
        {
          "output_type": "stream",
          "text": [
            "col_0      AF  EF  FF  GF  MF  No Fault\n",
            "Fault                                  \n",
            "AF          4   0   0   0   0         3\n",
            "EF          0   5   2   0   0         0\n",
            "FF          0   0  22   0   0         2\n",
            "GF          0   0   0   2   0         0\n",
            "No Fault  134  46  90   4  41      4548\n",
            "              precision    recall  f1-score   support\n",
            "\n",
            "          AF       0.03      0.57      0.06         7\n",
            "          EF       0.10      0.71      0.17         7\n",
            "          FF       0.19      0.92      0.32        24\n",
            "          GF       0.33      1.00      0.50         2\n",
            "          MF       0.00      0.00      0.00         0\n",
            "    No Fault       1.00      0.94      0.97      4863\n",
            "\n",
            "    accuracy                           0.93      4903\n",
            "   macro avg       0.28      0.69      0.34      4903\n",
            "weighted avg       0.99      0.93      0.96      4903\n",
            "\n"
          ],
          "name": "stdout"
        },
        {
          "output_type": "stream",
          "text": [
            "/usr/local/lib/python3.6/dist-packages/sklearn/metrics/_classification.py:1272: UndefinedMetricWarning: Recall and F-score are ill-defined and being set to 0.0 in labels with no true samples. Use `zero_division` parameter to control this behavior.\n",
            "  _warn_prf(average, modifier, msg_start, len(result))\n"
          ],
          "name": "stderr"
        }
      ]
    },
    {
      "cell_type": "code",
      "metadata": {
        "id": "WFs3bvevX-d9",
        "colab": {
          "base_uri": "https://localhost:8080/"
        },
        "outputId": "4c3a9261-a1e6-4371-dd96-489a76b57df0"
      },
      "source": [
        "cf_matrix = confusion_matrix(y_testing_features, predictions)\n",
        "print(cf_matrix)"
      ],
      "execution_count": null,
      "outputs": [
        {
          "output_type": "stream",
          "text": [
            "[[   4    0    0    0    0    3]\n",
            " [   0    5    2    0    0    0]\n",
            " [   0    0   22    0    0    2]\n",
            " [   0    0    0    2    0    0]\n",
            " [   0    0    0    0    0    0]\n",
            " [ 134   46   90    4   41 4548]]\n"
          ],
          "name": "stdout"
        }
      ]
    },
    {
      "cell_type": "code",
      "metadata": {
        "id": "TP3-OmLCc2KN",
        "colab": {
          "base_uri": "https://localhost:8080/",
          "height": 285
        },
        "outputId": "b7570b16-c2e8-4594-f0c2-a508510a8403"
      },
      "source": [
        "import seaborn as sns\n",
        "sns.heatmap(cf_matrix, annot=True)"
      ],
      "execution_count": null,
      "outputs": [
        {
          "output_type": "execute_result",
          "data": {
            "text/plain": [
              "<matplotlib.axes._subplots.AxesSubplot at 0x7f24a3cd4518>"
            ]
          },
          "metadata": {
            "tags": []
          },
          "execution_count": 60
        },
        {
          "output_type": "display_data",
          "data": {
            "image/png": "[encoded data removed]",
            "text/plain": [
              "<Figure size 432x288 with 2 Axes>"
            ]
          },
          "metadata": {
            "tags": [],
            "needs_background": "light"
          }
        }
      ]
    },
    {
      "cell_type": "markdown",
      "metadata": {
        "id": "FiEoioKYh8tj"
      },
      "source": [
        "# Decision Tree"
      ]
    },
    {
      "cell_type": "code",
      "metadata": {
        "id": "OKXGbW51h-n0",
        "colab": {
          "base_uri": "https://localhost:8080/"
        },
        "outputId": "d28ff711-ef07-49dd-e42f-ad1b894e581a"
      },
      "source": [
        "from sklearn.tree import DecisionTreeClassifier\n",
        "dt = DecisionTreeClassifier(random_state=0)\n",
        "\n",
        "dt.fit(final_x_train_res,final_y_train_res)"
      ],
      "execution_count": null,
      "outputs": [
        {
          "output_type": "execute_result",
          "data": {
            "text/plain": [
              "DecisionTreeClassifier(ccp_alpha=0.0, class_weight=None, criterion='gini',\n",
              "                       max_depth=None, max_features=None, max_leaf_nodes=None,\n",
              "                       min_impurity_decrease=0.0, min_impurity_split=None,\n",
              "                       min_samples_leaf=1, min_samples_split=2,\n",
              "                       min_weight_fraction_leaf=0.0, presort='deprecated',\n",
              "                       random_state=0, splitter='best')"
            ]
          },
          "metadata": {
            "tags": []
          },
          "execution_count": 61
        }
      ]
    },
    {
      "cell_type": "code",
      "metadata": {
        "id": "8A1UJluji02g",
        "colab": {
          "base_uri": "https://localhost:8080/"
        },
        "outputId": "2acb66fb-cc86-4797-f375-9a72e1d1aa15"
      },
      "source": [
        "predictions=dt.predict(X_test_res)\n",
        "print(pd.crosstab(y_test_res,predictions))\n",
        "print(classification_report(y_test_res,predictions))"
      ],
      "execution_count": null,
      "outputs": [
        {
          "output_type": "stream",
          "text": [
            "col_0     AF  EF  FF  GF  MF  No Fault\n",
            "Fault                                 \n",
            "AF         1   0   0   0   2         7\n",
            "EF         0   1   0   0   0        13\n",
            "FF         0   1  35   0   0        18\n",
            "GF         0   0   0   6   0         1\n",
            "MF         1   0   0   0   0         1\n",
            "No Fault  23  16  35   0   6      8658\n",
            "              precision    recall  f1-score   support\n",
            "\n",
            "          AF       0.04      0.10      0.06        10\n",
            "          EF       0.06      0.07      0.06        14\n",
            "          FF       0.50      0.65      0.56        54\n",
            "          GF       1.00      0.86      0.92         7\n",
            "          MF       0.00      0.00      0.00         2\n",
            "    No Fault       1.00      0.99      0.99      8738\n",
            "\n",
            "    accuracy                           0.99      8825\n",
            "   macro avg       0.43      0.44      0.43      8825\n",
            "weighted avg       0.99      0.99      0.99      8825\n",
            "\n"
          ],
          "name": "stdout"
        }
      ]
    },
    {
      "cell_type": "code",
      "metadata": {
        "id": "JCmoX722i_lp",
        "colab": {
          "base_uri": "https://localhost:8080/"
        },
        "outputId": "15b78f79-794e-407a-c003-4fbbfdf632c3"
      },
      "source": [
        "predictions=dt.predict(X_testing_features)\n",
        "print(pd.crosstab(y_testing_features,predictions))\n",
        "print(classification_report(y_testing_features,predictions))"
      ],
      "execution_count": null,
      "outputs": [
        {
          "output_type": "stream",
          "text": [
            "col_0     AF  EF  FF  GF  MF  No Fault\n",
            "Fault                                 \n",
            "AF         3   0   0   0   0         4\n",
            "EF         0   1   0   0   0         6\n",
            "FF         0   1  17   0   0         6\n",
            "GF         0   0   0   2   0         0\n",
            "No Fault  12   6  19   2  11      4813\n",
            "              precision    recall  f1-score   support\n",
            "\n",
            "          AF       0.20      0.43      0.27         7\n",
            "          EF       0.12      0.14      0.13         7\n",
            "          FF       0.47      0.71      0.57        24\n",
            "          GF       0.50      1.00      0.67         2\n",
            "          MF       0.00      0.00      0.00         0\n",
            "    No Fault       1.00      0.99      0.99      4863\n",
            "\n",
            "    accuracy                           0.99      4903\n",
            "   macro avg       0.38      0.54      0.44      4903\n",
            "weighted avg       0.99      0.99      0.99      4903\n",
            "\n"
          ],
          "name": "stdout"
        },
        {
          "output_type": "stream",
          "text": [
            "/usr/local/lib/python3.6/dist-packages/sklearn/metrics/_classification.py:1272: UndefinedMetricWarning: Recall and F-score are ill-defined and being set to 0.0 in labels with no true samples. Use `zero_division` parameter to control this behavior.\n",
            "  _warn_prf(average, modifier, msg_start, len(result))\n"
          ],
          "name": "stderr"
        }
      ]
    },
    {
      "cell_type": "code",
      "metadata": {
        "id": "d78rINkijP-X",
        "colab": {
          "base_uri": "https://localhost:8080/"
        },
        "outputId": "66ed1eb6-6ed4-4929-ea20-f78dfa18959c"
      },
      "source": [
        "cf_matrix = confusion_matrix(y_testing_features, predictions)\n",
        "print(cf_matrix)"
      ],
      "execution_count": null,
      "outputs": [
        {
          "output_type": "stream",
          "text": [
            "[[   3    0    0    0    0    4]\n",
            " [   0    1    0    0    0    6]\n",
            " [   0    1   17    0    0    6]\n",
            " [   0    0    0    2    0    0]\n",
            " [   0    0    0    0    0    0]\n",
            " [  12    6   19    2   11 4813]]\n"
          ],
          "name": "stdout"
        }
      ]
    },
    {
      "cell_type": "code",
      "metadata": {
        "id": "4xDTkpo2jUJ-",
        "colab": {
          "base_uri": "https://localhost:8080/",
          "height": 285
        },
        "outputId": "8cb5f516-fbb1-4731-899a-977561489f8d"
      },
      "source": [
        "import seaborn as sns\n",
        "sns.heatmap(cf_matrix, annot=True)"
      ],
      "execution_count": null,
      "outputs": [
        {
          "output_type": "execute_result",
          "data": {
            "text/plain": [
              "<matplotlib.axes._subplots.AxesSubplot at 0x7f24a3c2e4a8>"
            ]
          },
          "metadata": {
            "tags": []
          },
          "execution_count": 65
        },
        {
          "output_type": "display_data",
          "data": {
            "image/png": "[encoded data removed]",
            "text/plain": [
              "<Figure size 432x288 with 2 Axes>"
            ]
          },
          "metadata": {
            "tags": [],
            "needs_background": "light"
          }
        }
      ]
    },
    {
      "cell_type": "markdown",
      "metadata": {
        "id": "Ut8IOVO2D106"
      },
      "source": [
        "# Random Forest HyperParameter Tuning"
      ]
    },
    {
      "cell_type": "code",
      "metadata": {
        "id": "IXIdL59yGFX4"
      },
      "source": [
        "del dict"
      ],
      "execution_count": null,
      "outputs": []
    },
    {
      "cell_type": "code",
      "metadata": {
        "id": "x6t3rFrND5Uz"
      },
      "source": [
        "from sklearn.model_selection import GridSearchCV\n",
        "from sklearn.ensemble import RandomForestClassifier"
      ],
      "execution_count": null,
      "outputs": []
    },
    {
      "cell_type": "code",
      "metadata": {
        "id": "qwi7LB6AE0f5"
      },
      "source": [
        "rf2 = RandomForestClassifier()"
      ],
      "execution_count": null,
      "outputs": []
    },
    {
      "cell_type": "code",
      "metadata": {
        "id": "Sa51-dpyEfnc"
      },
      "source": [
        "n_estimators = [10, 100, 500]\n",
        "max_depth = [3,5]"
      ],
      "execution_count": null,
      "outputs": []
    },
    {
      "cell_type": "code",
      "metadata": {
        "id": "G2I7DGNpEmqO"
      },
      "source": [
        "grid = dict(n_estimators=n_estimators,max_depth=max_depth)\n",
        "grid_search = GridSearchCV(rf2, grid, n_jobs=-1, scoring='accuracy',error_score=0)"
      ],
      "execution_count": null,
      "outputs": []
    },
    {
      "cell_type": "code",
      "metadata": {
        "id": "oiGdEsv7FEwL",
        "colab": {
          "base_uri": "https://localhost:8080/",
          "height": 303
        },
        "outputId": "710cdeef-9cdc-45fd-e245-7622c4005466"
      },
      "source": [
        "grid_result = grid_search.fit(final_x_train_res, final_y_train_res)"
      ],
      "execution_count": null,
      "outputs": [
        {
          "output_type": "error",
          "ename": "KeyboardInterrupt",
          "evalue": "ignored",
          "traceback": [
            "\u001b[0;31m---------------------------------------------------------------------------\u001b[0m",
            "\u001b[0;31mKeyboardInterrupt\u001b[0m                         Traceback (most recent call last)",
            "\u001b[0;32m<ipython-input-97-257edc97a98c>\u001b[0m in \u001b[0;36m<module>\u001b[0;34m()\u001b[0m\n\u001b[0;32m----> 1\u001b[0;31m \u001b[0mgrid_result\u001b[0m \u001b[0;34m=\u001b[0m \u001b[0mgrid_search\u001b[0m\u001b[0;34m.\u001b[0m\u001b[0mfit\u001b[0m\u001b[0;34m(\u001b[0m\u001b[0mfinal_x_train_res\u001b[0m\u001b[0;34m,\u001b[0m \u001b[0mfinal_y_train_res\u001b[0m\u001b[0;34m)\u001b[0m\u001b[0;34m\u001b[0m\u001b[0;34m\u001b[0m\u001b[0m\n\u001b[0m",
            "\u001b[0;32m/usr/local/lib/python3.6/dist-packages/sklearn/model_selection/_search.py\u001b[0m in \u001b[0;36mfit\u001b[0;34m(self, X, y, groups, **fit_params)\u001b[0m\n\u001b[1;32m    708\u001b[0m                 \u001b[0;32mreturn\u001b[0m \u001b[0mresults\u001b[0m\u001b[0;34m\u001b[0m\u001b[0;34m\u001b[0m\u001b[0m\n\u001b[1;32m    709\u001b[0m \u001b[0;34m\u001b[0m\u001b[0m\n\u001b[0;32m--> 710\u001b[0;31m             \u001b[0mself\u001b[0m\u001b[0;34m.\u001b[0m\u001b[0m_run_search\u001b[0m\u001b[0;34m(\u001b[0m\u001b[0mevaluate_candidates\u001b[0m\u001b[0;34m)\u001b[0m\u001b[0;34m\u001b[0m\u001b[0;34m\u001b[0m\u001b[0m\n\u001b[0m\u001b[1;32m    711\u001b[0m \u001b[0;34m\u001b[0m\u001b[0m\n\u001b[1;32m    712\u001b[0m         \u001b[0;31m# For multi-metric evaluation, store the best_index_, best_params_ and\u001b[0m\u001b[0;34m\u001b[0m\u001b[0;34m\u001b[0m\u001b[0;34m\u001b[0m\u001b[0m\n",
            "\u001b[0;32m/usr/local/lib/python3.6/dist-packages/sklearn/model_selection/_search.py\u001b[0m in \u001b[0;36m_run_search\u001b[0;34m(self, evaluate_candidates)\u001b[0m\n\u001b[1;32m   1149\u001b[0m     \u001b[0;32mdef\u001b[0m \u001b[0m_run_search\u001b[0m\u001b[0;34m(\u001b[0m\u001b[0mself\u001b[0m\u001b[0;34m,\u001b[0m \u001b[0mevaluate_candidates\u001b[0m\u001b[0;34m)\u001b[0m\u001b[0;34m:\u001b[0m\u001b[0;34m\u001b[0m\u001b[0;34m\u001b[0m\u001b[0m\n\u001b[1;32m   1150\u001b[0m         \u001b[0;34m\"\"\"Search all candidates in param_grid\"\"\"\u001b[0m\u001b[0;34m\u001b[0m\u001b[0;34m\u001b[0m\u001b[0m\n\u001b[0;32m-> 1151\u001b[0;31m         \u001b[0mevaluate_candidates\u001b[0m\u001b[0;34m(\u001b[0m\u001b[0mParameterGrid\u001b[0m\u001b[0;34m(\u001b[0m\u001b[0mself\u001b[0m\u001b[0;34m.\u001b[0m\u001b[0mparam_grid\u001b[0m\u001b[0;34m)\u001b[0m\u001b[0;34m)\u001b[0m\u001b[0;34m\u001b[0m\u001b[0;34m\u001b[0m\u001b[0m\n\u001b[0m\u001b[1;32m   1152\u001b[0m \u001b[0;34m\u001b[0m\u001b[0m\n\u001b[1;32m   1153\u001b[0m \u001b[0;34m\u001b[0m\u001b[0m\n",
            "\u001b[0;32m/usr/local/lib/python3.6/dist-packages/sklearn/model_selection/_search.py\u001b[0m in \u001b[0;36mevaluate_candidates\u001b[0;34m(candidate_params)\u001b[0m\n\u001b[1;32m    687\u001b[0m                                \u001b[0;32mfor\u001b[0m \u001b[0mparameters\u001b[0m\u001b[0;34m,\u001b[0m \u001b[0;34m(\u001b[0m\u001b[0mtrain\u001b[0m\u001b[0;34m,\u001b[0m \u001b[0mtest\u001b[0m\u001b[0;34m)\u001b[0m\u001b[0;34m\u001b[0m\u001b[0;34m\u001b[0m\u001b[0m\n\u001b[1;32m    688\u001b[0m                                in product(candidate_params,\n\u001b[0;32m--> 689\u001b[0;31m                                           cv.split(X, y, groups)))\n\u001b[0m\u001b[1;32m    690\u001b[0m \u001b[0;34m\u001b[0m\u001b[0m\n\u001b[1;32m    691\u001b[0m                 \u001b[0;32mif\u001b[0m \u001b[0mlen\u001b[0m\u001b[0;34m(\u001b[0m\u001b[0mout\u001b[0m\u001b[0;34m)\u001b[0m \u001b[0;34m<\u001b[0m \u001b[0;36m1\u001b[0m\u001b[0;34m:\u001b[0m\u001b[0;34m\u001b[0m\u001b[0;34m\u001b[0m\u001b[0m\n",
            "\u001b[0;32m/usr/local/lib/python3.6/dist-packages/joblib/parallel.py\u001b[0m in \u001b[0;36m__call__\u001b[0;34m(self, iterable)\u001b[0m\n\u001b[1;32m   1059\u001b[0m \u001b[0;34m\u001b[0m\u001b[0m\n\u001b[1;32m   1060\u001b[0m             \u001b[0;32mwith\u001b[0m \u001b[0mself\u001b[0m\u001b[0;34m.\u001b[0m\u001b[0m_backend\u001b[0m\u001b[0;34m.\u001b[0m\u001b[0mretrieval_context\u001b[0m\u001b[0;34m(\u001b[0m\u001b[0;34m)\u001b[0m\u001b[0;34m:\u001b[0m\u001b[0;34m\u001b[0m\u001b[0;34m\u001b[0m\u001b[0m\n\u001b[0;32m-> 1061\u001b[0;31m                 \u001b[0mself\u001b[0m\u001b[0;34m.\u001b[0m\u001b[0mretrieve\u001b[0m\u001b[0;34m(\u001b[0m\u001b[0;34m)\u001b[0m\u001b[0;34m\u001b[0m\u001b[0;34m\u001b[0m\u001b[0m\n\u001b[0m\u001b[1;32m   1062\u001b[0m             \u001b[0;31m# Make sure that we get a last message telling us we are done\u001b[0m\u001b[0;34m\u001b[0m\u001b[0;34m\u001b[0m\u001b[0;34m\u001b[0m\u001b[0m\n\u001b[1;32m   1063\u001b[0m             \u001b[0melapsed_time\u001b[0m \u001b[0;34m=\u001b[0m \u001b[0mtime\u001b[0m\u001b[0;34m.\u001b[0m\u001b[0mtime\u001b[0m\u001b[0;34m(\u001b[0m\u001b[0;34m)\u001b[0m \u001b[0;34m-\u001b[0m \u001b[0mself\u001b[0m\u001b[0;34m.\u001b[0m\u001b[0m_start_time\u001b[0m\u001b[0;34m\u001b[0m\u001b[0;34m\u001b[0m\u001b[0m\n",
            "\u001b[0;32m/usr/local/lib/python3.6/dist-packages/joblib/parallel.py\u001b[0m in \u001b[0;36mretrieve\u001b[0;34m(self)\u001b[0m\n\u001b[1;32m    938\u001b[0m             \u001b[0;32mtry\u001b[0m\u001b[0;34m:\u001b[0m\u001b[0;34m\u001b[0m\u001b[0;34m\u001b[0m\u001b[0m\n\u001b[1;32m    939\u001b[0m                 \u001b[0;32mif\u001b[0m \u001b[0mgetattr\u001b[0m\u001b[0;34m(\u001b[0m\u001b[0mself\u001b[0m\u001b[0;34m.\u001b[0m\u001b[0m_backend\u001b[0m\u001b[0;34m,\u001b[0m \u001b[0;34m'supports_timeout'\u001b[0m\u001b[0;34m,\u001b[0m \u001b[0;32mFalse\u001b[0m\u001b[0;34m)\u001b[0m\u001b[0;34m:\u001b[0m\u001b[0;34m\u001b[0m\u001b[0;34m\u001b[0m\u001b[0m\n\u001b[0;32m--> 940\u001b[0;31m                     \u001b[0mself\u001b[0m\u001b[0;34m.\u001b[0m\u001b[0m_output\u001b[0m\u001b[0;34m.\u001b[0m\u001b[0mextend\u001b[0m\u001b[0;34m(\u001b[0m\u001b[0mjob\u001b[0m\u001b[0;34m.\u001b[0m\u001b[0mget\u001b[0m\u001b[0;34m(\u001b[0m\u001b[0mtimeout\u001b[0m\u001b[0;34m=\u001b[0m\u001b[0mself\u001b[0m\u001b[0;34m.\u001b[0m\u001b[0mtimeout\u001b[0m\u001b[0;34m)\u001b[0m\u001b[0;34m)\u001b[0m\u001b[0;34m\u001b[0m\u001b[0;34m\u001b[0m\u001b[0m\n\u001b[0m\u001b[1;32m    941\u001b[0m                 \u001b[0;32melse\u001b[0m\u001b[0;34m:\u001b[0m\u001b[0;34m\u001b[0m\u001b[0;34m\u001b[0m\u001b[0m\n\u001b[1;32m    942\u001b[0m                     \u001b[0mself\u001b[0m\u001b[0;34m.\u001b[0m\u001b[0m_output\u001b[0m\u001b[0;34m.\u001b[0m\u001b[0mextend\u001b[0m\u001b[0;34m(\u001b[0m\u001b[0mjob\u001b[0m\u001b[0;34m.\u001b[0m\u001b[0mget\u001b[0m\u001b[0;34m(\u001b[0m\u001b[0;34m)\u001b[0m\u001b[0;34m)\u001b[0m\u001b[0;34m\u001b[0m\u001b[0;34m\u001b[0m\u001b[0m\n",
            "\u001b[0;32m/usr/local/lib/python3.6/dist-packages/joblib/_parallel_backends.py\u001b[0m in \u001b[0;36mwrap_future_result\u001b[0;34m(future, timeout)\u001b[0m\n\u001b[1;32m    540\u001b[0m         AsyncResults.get from multiprocessing.\"\"\"\n\u001b[1;32m    541\u001b[0m         \u001b[0;32mtry\u001b[0m\u001b[0;34m:\u001b[0m\u001b[0;34m\u001b[0m\u001b[0;34m\u001b[0m\u001b[0m\n\u001b[0;32m--> 542\u001b[0;31m             \u001b[0;32mreturn\u001b[0m \u001b[0mfuture\u001b[0m\u001b[0;34m.\u001b[0m\u001b[0mresult\u001b[0m\u001b[0;34m(\u001b[0m\u001b[0mtimeout\u001b[0m\u001b[0;34m=\u001b[0m\u001b[0mtimeout\u001b[0m\u001b[0;34m)\u001b[0m\u001b[0;34m\u001b[0m\u001b[0;34m\u001b[0m\u001b[0m\n\u001b[0m\u001b[1;32m    543\u001b[0m         \u001b[0;32mexcept\u001b[0m \u001b[0mCfTimeoutError\u001b[0m \u001b[0;32mas\u001b[0m \u001b[0me\u001b[0m\u001b[0;34m:\u001b[0m\u001b[0;34m\u001b[0m\u001b[0;34m\u001b[0m\u001b[0m\n\u001b[1;32m    544\u001b[0m             \u001b[0;32mraise\u001b[0m \u001b[0mTimeoutError\u001b[0m \u001b[0;32mfrom\u001b[0m \u001b[0me\u001b[0m\u001b[0;34m\u001b[0m\u001b[0;34m\u001b[0m\u001b[0m\n",
            "\u001b[0;32m/usr/lib/python3.6/concurrent/futures/_base.py\u001b[0m in \u001b[0;36mresult\u001b[0;34m(self, timeout)\u001b[0m\n\u001b[1;32m    425\u001b[0m                 \u001b[0;32mreturn\u001b[0m \u001b[0mself\u001b[0m\u001b[0;34m.\u001b[0m\u001b[0m__get_result\u001b[0m\u001b[0;34m(\u001b[0m\u001b[0;34m)\u001b[0m\u001b[0;34m\u001b[0m\u001b[0;34m\u001b[0m\u001b[0m\n\u001b[1;32m    426\u001b[0m \u001b[0;34m\u001b[0m\u001b[0m\n\u001b[0;32m--> 427\u001b[0;31m             \u001b[0mself\u001b[0m\u001b[0;34m.\u001b[0m\u001b[0m_condition\u001b[0m\u001b[0;34m.\u001b[0m\u001b[0mwait\u001b[0m\u001b[0;34m(\u001b[0m\u001b[0mtimeout\u001b[0m\u001b[0;34m)\u001b[0m\u001b[0;34m\u001b[0m\u001b[0;34m\u001b[0m\u001b[0m\n\u001b[0m\u001b[1;32m    428\u001b[0m \u001b[0;34m\u001b[0m\u001b[0m\n\u001b[1;32m    429\u001b[0m             \u001b[0;32mif\u001b[0m \u001b[0mself\u001b[0m\u001b[0;34m.\u001b[0m\u001b[0m_state\u001b[0m \u001b[0;32min\u001b[0m \u001b[0;34m[\u001b[0m\u001b[0mCANCELLED\u001b[0m\u001b[0;34m,\u001b[0m \u001b[0mCANCELLED_AND_NOTIFIED\u001b[0m\u001b[0;34m]\u001b[0m\u001b[0;34m:\u001b[0m\u001b[0;34m\u001b[0m\u001b[0;34m\u001b[0m\u001b[0m\n",
            "\u001b[0;32m/usr/lib/python3.6/threading.py\u001b[0m in \u001b[0;36mwait\u001b[0;34m(self, timeout)\u001b[0m\n\u001b[1;32m    293\u001b[0m         \u001b[0;32mtry\u001b[0m\u001b[0;34m:\u001b[0m    \u001b[0;31m# restore state no matter what (e.g., KeyboardInterrupt)\u001b[0m\u001b[0;34m\u001b[0m\u001b[0;34m\u001b[0m\u001b[0m\n\u001b[1;32m    294\u001b[0m             \u001b[0;32mif\u001b[0m \u001b[0mtimeout\u001b[0m \u001b[0;32mis\u001b[0m \u001b[0;32mNone\u001b[0m\u001b[0;34m:\u001b[0m\u001b[0;34m\u001b[0m\u001b[0;34m\u001b[0m\u001b[0m\n\u001b[0;32m--> 295\u001b[0;31m                 \u001b[0mwaiter\u001b[0m\u001b[0;34m.\u001b[0m\u001b[0macquire\u001b[0m\u001b[0;34m(\u001b[0m\u001b[0;34m)\u001b[0m\u001b[0;34m\u001b[0m\u001b[0;34m\u001b[0m\u001b[0m\n\u001b[0m\u001b[1;32m    296\u001b[0m                 \u001b[0mgotit\u001b[0m \u001b[0;34m=\u001b[0m \u001b[0;32mTrue\u001b[0m\u001b[0;34m\u001b[0m\u001b[0;34m\u001b[0m\u001b[0m\n\u001b[1;32m    297\u001b[0m             \u001b[0;32melse\u001b[0m\u001b[0;34m:\u001b[0m\u001b[0;34m\u001b[0m\u001b[0;34m\u001b[0m\u001b[0m\n",
            "\u001b[0;31mKeyboardInterrupt\u001b[0m: "
          ]
        }
      ]
    },
    {
      "cell_type": "code",
      "metadata": {
        "id": "RLya3MGIGQG5"
      },
      "source": [
        "grid_result.best_params_"
      ],
      "execution_count": null,
      "outputs": []
    },
    {
      "cell_type": "markdown",
      "metadata": {
        "id": "LvIjM8gi5yCJ"
      },
      "source": [
        "# Neural networks"
      ]
    },
    {
      "cell_type": "code",
      "metadata": {
        "id": "D6JrQAJE50gN"
      },
      "source": [
        "from keras.models import Sequential\n",
        "from keras.layers import BatchNormalization\n",
        "from keras.layers import  Dense, Flatten\n",
        "from keras.utils import normalize, to_categorical"
      ],
      "execution_count": null,
      "outputs": []
    },
    {
      "cell_type": "code",
      "metadata": {
        "colab": {
          "base_uri": "https://localhost:8080/"
        },
        "id": "C6GeMlMd6Ljw",
        "outputId": "e76462f5-d527-48c3-e491-0d1807d21b50"
      },
      "source": [
        "print(final_x_train_res.shape)\n",
        "print(final_y_train_res.shape)\n",
        "print(X_test_res.shape)\n",
        "print(y_test_res.shape)\n"
      ],
      "execution_count": null,
      "outputs": [
        {
          "output_type": "stream",
          "text": [
            "(209880, 19)\n",
            "(209880,)\n",
            "(8825, 19)\n",
            "(8825,)\n"
          ],
          "name": "stdout"
        }
      ]
    },
    {
      "cell_type": "code",
      "metadata": {
        "id": "9nHtLXtW6Pl1"
      },
      "source": [
        "nn_final_x_train_res = normalize(final_x_train_res, axis=1)\n",
        "nn_X_test = normalize(X_test_res, axis=1)"
      ],
      "execution_count": null,
      "outputs": []
    },
    {
      "cell_type": "code",
      "metadata": {
        "id": "nPHSLWJ96_WX"
      },
      "source": [
        "activation = 'sigmoid'\n",
        "model = Sequential()\n",
        "model.add(BatchNormalization())\n",
        "\n",
        "model.add(Conv2D(32, 3, activation = activation, padding = 'same', kernel_initializer = 'he_uniform'))\n",
        "model.add(BatchNormalization())\n",
        "\n",
        "model.add(Conv2D(64, 3, activation = activation, padding = 'same', kernel_initializer = 'he_uniform'))\n",
        "model.add(BatchNormalization())\n",
        "\n",
        "model.add(Conv2D(64, 3, activation = activation, padding = 'same', kernel_initializer = 'he_uniform'))\n",
        "model.add(BatchNormalization()) \n",
        "\n",
        "model.add(Flatten())\n",
        "model.add(Dense(128, activation = activation, kernel_initializer = 'he_uniform'))\n",
        "model.add(Dense(10, activation = 'softmax'))"
      ],
      "execution_count": null,
      "outputs": []
    }
  ]
}