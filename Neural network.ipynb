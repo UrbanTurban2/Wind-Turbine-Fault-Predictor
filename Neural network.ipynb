{
  "nbformat": 4,
  "nbformat_minor": 0,
  "metadata": {
    "kernelspec": {
      "display_name": "Python 3",
      "language": "python",
      "name": "python3"
    },
    "language_info": {
      "codemirror_mode": {
        "name": "ipython",
        "version": 3
      },
      "file_extension": ".py",
      "mimetype": "text/x-python",
      "name": "python",
      "nbconvert_exporter": "python",
      "pygments_lexer": "ipython3",
      "version": "3.7.6"
    },
    "colab": {
      "name": "Untitled2.ipynb",
      "provenance": [],
      "collapsed_sections": []
    }
  },
  "cells": [
    {
      "cell_type": "code",
      "metadata": {
        "id": "WrliPrpqr8YR"
      },
      "source": [
        "import numpy as np\n",
        "import pandas as pd \n",
        "import matplotlib.pyplot as plt\n",
        "import seaborn as sns\n",
        "sns.set(rc={'figure.figsize':(20,20)})\n",
        "import random \n",
        "from datetime import datetime, timedelta\n",
        "from bisect import *\n",
        "\n",
        "%matplotlib inline"
      ],
      "execution_count": null,
      "outputs": []
    },
    {
      "cell_type": "code",
      "metadata": {
        "colab": {
          "base_uri": "https://localhost:8080/"
        },
        "id": "LsXiFJmQsdZC",
        "outputId": "762970bb-ba93-48cb-e93d-775b114df913"
      },
      "source": [
        "from google.colab import drive\n",
        "drive.mount('/content/drive')"
      ],
      "execution_count": null,
      "outputs": [
        {
          "output_type": "stream",
          "text": [
            "Mounted at /content/drive\n"
          ],
          "name": "stdout"
        }
      ]
    },
    {
      "cell_type": "code",
      "metadata": {
        "id": "8FFHeBxhr8Yw"
      },
      "source": [
        "df_fault_data = pd.read_csv('/content/drive/My Drive/fault_data.csv')\n",
        "df_scada_data = pd.read_csv('/content/drive/My Drive/scada_data.csv')\n",
        "# df_fault_data = pd.read_csv('fault_data.csv')\n",
        "# df_scada_data = pd.read_csv('scada_data.csv')"
      ],
      "execution_count": null,
      "outputs": []
    },
    {
      "cell_type": "code",
      "metadata": {
        "id": "hJwKCm6yr8Yy"
      },
      "source": [
        "df_scada_data.drop(['WEC: Production minutes', 'Pitch cabinet blade A temp.', 'Pitch cabinet blade B temp.',\n",
        "       'Pitch cabinet blade C temp.', 'Main carrier temp.',\n",
        "       'Rectifier cabinet temp.', ],axis=1,inplace=True)\n",
        "df_scada_data.drop('WEC: max. windspeed',axis=1,inplace=True)\n",
        "df_scada_data.drop('WEC: min. windspeed',axis=1,inplace=True)\n",
        "df_scada_data.drop('WEC: max. Rotation',axis=1,inplace=True)\n",
        "df_scada_data.drop('WEC: min. Rotation',axis=1,inplace=True)\n",
        "df_scada_data.drop('WEC: max. Power',axis=1,inplace=True)\n",
        "df_scada_data.drop('WEC: min. Power',axis=1,inplace=True)\n",
        "df_scada_data.drop('WEC: Production kWh',axis=1,inplace=True)\n",
        "df_scada_data.drop(['WEC: ava. reactive Power',\n",
        "       'WEC: max. reactive Power', 'WEC: min. reactive Power',\n",
        "       'WEC: ava. available P from wind',\n",
        "       'WEC: ava. available P technical reasons',\n",
        "       'WEC: ava. Available P force majeure reasons',\n",
        "       'WEC: ava. Available P force external reasons'],axis=1,inplace=True)\n",
        "df_scada_data.drop(['Sys 1 inverter 1 cabinet temp.',\n",
        "       'Sys 1 inverter 2 cabinet temp.', 'Sys 1 inverter 3 cabinet temp.',\n",
        "       'Sys 1 inverter 4 cabinet temp.', 'Sys 1 inverter 5 cabinet temp.',\n",
        "       'Sys 1 inverter 6 cabinet temp.', 'Sys 1 inverter 7 cabinet temp.',\n",
        "       'Sys 2 inverter 1 cabinet temp.', 'Sys 2 inverter 2 cabinet temp.',\n",
        "       'Sys 2 inverter 3 cabinet temp.', 'Sys 2 inverter 4 cabinet temp.',\n",
        "       'Sys 2 inverter 5 cabinet temp.', 'Sys 2 inverter 6 cabinet temp.',\n",
        "       'Sys 2 inverter 7 cabinet temp.'],axis=1,inplace=True)\n",
        "df_scada_data.drop([ 'Blade A temp.', 'Blade C temp.', 'Rotor temp. 2',\n",
        "       'Stator temp. 2', 'Nacelle ambient temp. 1', 'Nacelle ambient temp. 2',\n",
        "       'Nacelle cabinet temp.', 'RTU: ava. Setpoint 1',\n",
        "       'Inverter averages', 'Inverter std dev'],axis=1,inplace=True)"
      ],
      "execution_count": null,
      "outputs": []
    },
    {
      "cell_type": "code",
      "metadata": {
        "colab": {
          "base_uri": "https://localhost:8080/"
        },
        "id": "sYRwkep4r8Yz",
        "outputId": "feb15c6a-b99f-4ea4-f257-d1f15ea8d31a"
      },
      "source": [
        "df_scada_data.columns"
      ],
      "execution_count": null,
      "outputs": [
        {
          "output_type": "execute_result",
          "data": {
            "text/plain": [
              "Index(['DateTime', 'Time', 'Error', 'WEC: ava. windspeed',\n",
              "       'WEC: ava. Rotation', 'WEC: ava. Power',\n",
              "       'WEC: ava. Nacel position including cable twisting',\n",
              "       'WEC: Operating Hours', 'WEC: ava. blade angle A', 'Spinner temp.',\n",
              "       'Front bearing temp.', 'Rear bearing temp.', 'Blade B temp.',\n",
              "       'Rotor temp. 1', 'Stator temp. 1', 'Nacelle temp.',\n",
              "       'Yaw inverter cabinet temp.', 'Fan inverter cabinet temp.',\n",
              "       'Ambient temp.', 'Tower temp.', 'Control cabinet temp.',\n",
              "       'Transformer temp.'],\n",
              "      dtype='object')"
            ]
          },
          "metadata": {
            "tags": []
          },
          "execution_count": 6
        }
      ]
    },
    {
      "cell_type": "code",
      "metadata": {
        "colab": {
          "base_uri": "https://localhost:8080/",
          "height": 842
        },
        "id": "P8fHIjA5r8Y0",
        "outputId": "34922348-25d5-46b6-8570-cddf7fa57136"
      },
      "source": [
        "df_main = pd.merge(df_scada_data, df_fault_data, how='left')\n",
        "df_main"
      ],
      "execution_count": null,
      "outputs": [
        {
          "output_type": "execute_result",
          "data": {
            "text/html": [
              "<div>\n",
              "<style scoped>\n",
              "    .dataframe tbody tr th:only-of-type {\n",
              "        vertical-align: middle;\n",
              "    }\n",
              "\n",
              "    .dataframe tbody tr th {\n",
              "        vertical-align: top;\n",
              "    }\n",
              "\n",
              "    .dataframe thead th {\n",
              "        text-align: right;\n",
              "    }\n",
              "</style>\n",
              "<table border=\"1\" class=\"dataframe\">\n",
              "  <thead>\n",
              "    <tr style=\"text-align: right;\">\n",
              "      <th></th>\n",
              "      <th>DateTime</th>\n",
              "      <th>Time</th>\n",
              "      <th>Error</th>\n",
              "      <th>WEC: ava. windspeed</th>\n",
              "      <th>WEC: ava. Rotation</th>\n",
              "      <th>WEC: ava. Power</th>\n",
              "      <th>WEC: ava. Nacel position including cable twisting</th>\n",
              "      <th>WEC: Operating Hours</th>\n",
              "      <th>WEC: ava. blade angle A</th>\n",
              "      <th>Spinner temp.</th>\n",
              "      <th>Front bearing temp.</th>\n",
              "      <th>Rear bearing temp.</th>\n",
              "      <th>Blade B temp.</th>\n",
              "      <th>Rotor temp. 1</th>\n",
              "      <th>Stator temp. 1</th>\n",
              "      <th>Nacelle temp.</th>\n",
              "      <th>Yaw inverter cabinet temp.</th>\n",
              "      <th>Fan inverter cabinet temp.</th>\n",
              "      <th>Ambient temp.</th>\n",
              "      <th>Tower temp.</th>\n",
              "      <th>Control cabinet temp.</th>\n",
              "      <th>Transformer temp.</th>\n",
              "      <th>Fault</th>\n",
              "    </tr>\n",
              "  </thead>\n",
              "  <tbody>\n",
              "    <tr>\n",
              "      <th>0</th>\n",
              "      <td>05-01-2014 00:00</td>\n",
              "      <td>1398920448</td>\n",
              "      <td>0</td>\n",
              "      <td>6.9</td>\n",
              "      <td>0.00</td>\n",
              "      <td>0</td>\n",
              "      <td>640</td>\n",
              "      <td>881</td>\n",
              "      <td>91.959999</td>\n",
              "      <td>13</td>\n",
              "      <td>13</td>\n",
              "      <td>13</td>\n",
              "      <td>166</td>\n",
              "      <td>15</td>\n",
              "      <td>15</td>\n",
              "      <td>14</td>\n",
              "      <td>20</td>\n",
              "      <td>25</td>\n",
              "      <td>12</td>\n",
              "      <td>14</td>\n",
              "      <td>24</td>\n",
              "      <td>34</td>\n",
              "      <td>NaN</td>\n",
              "    </tr>\n",
              "    <tr>\n",
              "      <th>1</th>\n",
              "      <td>05-01-2014 00:09</td>\n",
              "      <td>1398920960</td>\n",
              "      <td>0</td>\n",
              "      <td>5.3</td>\n",
              "      <td>0.00</td>\n",
              "      <td>0</td>\n",
              "      <td>640</td>\n",
              "      <td>881</td>\n",
              "      <td>91.959999</td>\n",
              "      <td>13</td>\n",
              "      <td>13</td>\n",
              "      <td>13</td>\n",
              "      <td>166</td>\n",
              "      <td>15</td>\n",
              "      <td>15</td>\n",
              "      <td>13</td>\n",
              "      <td>20</td>\n",
              "      <td>25</td>\n",
              "      <td>12</td>\n",
              "      <td>14</td>\n",
              "      <td>24</td>\n",
              "      <td>34</td>\n",
              "      <td>NaN</td>\n",
              "    </tr>\n",
              "    <tr>\n",
              "      <th>2</th>\n",
              "      <td>05-01-2014 00:20</td>\n",
              "      <td>1398921600</td>\n",
              "      <td>0</td>\n",
              "      <td>5.0</td>\n",
              "      <td>0.00</td>\n",
              "      <td>0</td>\n",
              "      <td>640</td>\n",
              "      <td>881</td>\n",
              "      <td>91.940002</td>\n",
              "      <td>13</td>\n",
              "      <td>13</td>\n",
              "      <td>13</td>\n",
              "      <td>166</td>\n",
              "      <td>15</td>\n",
              "      <td>15</td>\n",
              "      <td>13</td>\n",
              "      <td>20</td>\n",
              "      <td>25</td>\n",
              "      <td>12</td>\n",
              "      <td>14</td>\n",
              "      <td>24</td>\n",
              "      <td>34</td>\n",
              "      <td>NaN</td>\n",
              "    </tr>\n",
              "    <tr>\n",
              "      <th>3</th>\n",
              "      <td>05-01-2014 00:30</td>\n",
              "      <td>1398922240</td>\n",
              "      <td>0</td>\n",
              "      <td>4.4</td>\n",
              "      <td>0.00</td>\n",
              "      <td>0</td>\n",
              "      <td>641</td>\n",
              "      <td>881</td>\n",
              "      <td>91.949997</td>\n",
              "      <td>13</td>\n",
              "      <td>13</td>\n",
              "      <td>13</td>\n",
              "      <td>166</td>\n",
              "      <td>15</td>\n",
              "      <td>15</td>\n",
              "      <td>13</td>\n",
              "      <td>21</td>\n",
              "      <td>25</td>\n",
              "      <td>12</td>\n",
              "      <td>14</td>\n",
              "      <td>24</td>\n",
              "      <td>34</td>\n",
              "      <td>NaN</td>\n",
              "    </tr>\n",
              "    <tr>\n",
              "      <th>4</th>\n",
              "      <td>05-01-2014 00:39</td>\n",
              "      <td>1398922752</td>\n",
              "      <td>0</td>\n",
              "      <td>5.7</td>\n",
              "      <td>0.00</td>\n",
              "      <td>0</td>\n",
              "      <td>633</td>\n",
              "      <td>881</td>\n",
              "      <td>91.940002</td>\n",
              "      <td>13</td>\n",
              "      <td>13</td>\n",
              "      <td>13</td>\n",
              "      <td>166</td>\n",
              "      <td>15</td>\n",
              "      <td>15</td>\n",
              "      <td>13</td>\n",
              "      <td>21</td>\n",
              "      <td>25</td>\n",
              "      <td>12</td>\n",
              "      <td>14</td>\n",
              "      <td>23</td>\n",
              "      <td>34</td>\n",
              "      <td>NaN</td>\n",
              "    </tr>\n",
              "    <tr>\n",
              "      <th>...</th>\n",
              "      <td>...</td>\n",
              "      <td>...</td>\n",
              "      <td>...</td>\n",
              "      <td>...</td>\n",
              "      <td>...</td>\n",
              "      <td>...</td>\n",
              "      <td>...</td>\n",
              "      <td>...</td>\n",
              "      <td>...</td>\n",
              "      <td>...</td>\n",
              "      <td>...</td>\n",
              "      <td>...</td>\n",
              "      <td>...</td>\n",
              "      <td>...</td>\n",
              "      <td>...</td>\n",
              "      <td>...</td>\n",
              "      <td>...</td>\n",
              "      <td>...</td>\n",
              "      <td>...</td>\n",
              "      <td>...</td>\n",
              "      <td>...</td>\n",
              "      <td>...</td>\n",
              "      <td>...</td>\n",
              "    </tr>\n",
              "    <tr>\n",
              "      <th>49022</th>\n",
              "      <td>04-08-2015 23:20</td>\n",
              "      <td>1428553216</td>\n",
              "      <td>0</td>\n",
              "      <td>3.9</td>\n",
              "      <td>6.75</td>\n",
              "      <td>147</td>\n",
              "      <td>148</td>\n",
              "      <td>7884</td>\n",
              "      <td>1.000000</td>\n",
              "      <td>18</td>\n",
              "      <td>24</td>\n",
              "      <td>29</td>\n",
              "      <td>165</td>\n",
              "      <td>46</td>\n",
              "      <td>46</td>\n",
              "      <td>16</td>\n",
              "      <td>23</td>\n",
              "      <td>28</td>\n",
              "      <td>9</td>\n",
              "      <td>17</td>\n",
              "      <td>27</td>\n",
              "      <td>35</td>\n",
              "      <td>NaN</td>\n",
              "    </tr>\n",
              "    <tr>\n",
              "      <th>49023</th>\n",
              "      <td>04-08-2015 23:30</td>\n",
              "      <td>1428553856</td>\n",
              "      <td>0</td>\n",
              "      <td>3.9</td>\n",
              "      <td>6.64</td>\n",
              "      <td>128</td>\n",
              "      <td>148</td>\n",
              "      <td>7884</td>\n",
              "      <td>1.000000</td>\n",
              "      <td>18</td>\n",
              "      <td>24</td>\n",
              "      <td>29</td>\n",
              "      <td>165</td>\n",
              "      <td>46</td>\n",
              "      <td>46</td>\n",
              "      <td>16</td>\n",
              "      <td>23</td>\n",
              "      <td>28</td>\n",
              "      <td>9</td>\n",
              "      <td>17</td>\n",
              "      <td>27</td>\n",
              "      <td>35</td>\n",
              "      <td>NaN</td>\n",
              "    </tr>\n",
              "    <tr>\n",
              "      <th>49024</th>\n",
              "      <td>04-08-2015 23:39</td>\n",
              "      <td>1428554368</td>\n",
              "      <td>0</td>\n",
              "      <td>4.2</td>\n",
              "      <td>7.18</td>\n",
              "      <td>163</td>\n",
              "      <td>149</td>\n",
              "      <td>7884</td>\n",
              "      <td>1.000000</td>\n",
              "      <td>18</td>\n",
              "      <td>24</td>\n",
              "      <td>29</td>\n",
              "      <td>165</td>\n",
              "      <td>46</td>\n",
              "      <td>46</td>\n",
              "      <td>16</td>\n",
              "      <td>23</td>\n",
              "      <td>28</td>\n",
              "      <td>9</td>\n",
              "      <td>18</td>\n",
              "      <td>27</td>\n",
              "      <td>34</td>\n",
              "      <td>NaN</td>\n",
              "    </tr>\n",
              "    <tr>\n",
              "      <th>49025</th>\n",
              "      <td>04-08-2015 23:50</td>\n",
              "      <td>1428555008</td>\n",
              "      <td>0</td>\n",
              "      <td>4.1</td>\n",
              "      <td>7.02</td>\n",
              "      <td>160</td>\n",
              "      <td>151</td>\n",
              "      <td>7884</td>\n",
              "      <td>1.000000</td>\n",
              "      <td>18</td>\n",
              "      <td>24</td>\n",
              "      <td>30</td>\n",
              "      <td>165</td>\n",
              "      <td>46</td>\n",
              "      <td>46</td>\n",
              "      <td>16</td>\n",
              "      <td>23</td>\n",
              "      <td>28</td>\n",
              "      <td>9</td>\n",
              "      <td>17</td>\n",
              "      <td>27</td>\n",
              "      <td>34</td>\n",
              "      <td>NaN</td>\n",
              "    </tr>\n",
              "    <tr>\n",
              "      <th>49026</th>\n",
              "      <td>04-09-2015 00:00</td>\n",
              "      <td>1428555648</td>\n",
              "      <td>0</td>\n",
              "      <td>4.8</td>\n",
              "      <td>8.39</td>\n",
              "      <td>284</td>\n",
              "      <td>152</td>\n",
              "      <td>7884</td>\n",
              "      <td>1.000000</td>\n",
              "      <td>18</td>\n",
              "      <td>24</td>\n",
              "      <td>30</td>\n",
              "      <td>165</td>\n",
              "      <td>46</td>\n",
              "      <td>46</td>\n",
              "      <td>16</td>\n",
              "      <td>22</td>\n",
              "      <td>28</td>\n",
              "      <td>9</td>\n",
              "      <td>17</td>\n",
              "      <td>27</td>\n",
              "      <td>34</td>\n",
              "      <td>NaN</td>\n",
              "    </tr>\n",
              "  </tbody>\n",
              "</table>\n",
              "<p>49027 rows × 23 columns</p>\n",
              "</div>"
            ],
            "text/plain": [
              "               DateTime        Time  ...  Transformer temp.  Fault\n",
              "0      05-01-2014 00:00  1398920448  ...                 34    NaN\n",
              "1      05-01-2014 00:09  1398920960  ...                 34    NaN\n",
              "2      05-01-2014 00:20  1398921600  ...                 34    NaN\n",
              "3      05-01-2014 00:30  1398922240  ...                 34    NaN\n",
              "4      05-01-2014 00:39  1398922752  ...                 34    NaN\n",
              "...                 ...         ...  ...                ...    ...\n",
              "49022  04-08-2015 23:20  1428553216  ...                 35    NaN\n",
              "49023  04-08-2015 23:30  1428553856  ...                 35    NaN\n",
              "49024  04-08-2015 23:39  1428554368  ...                 34    NaN\n",
              "49025  04-08-2015 23:50  1428555008  ...                 34    NaN\n",
              "49026  04-09-2015 00:00  1428555648  ...                 34    NaN\n",
              "\n",
              "[49027 rows x 23 columns]"
            ]
          },
          "metadata": {
            "tags": []
          },
          "execution_count": 7
        }
      ]
    },
    {
      "cell_type": "code",
      "metadata": {
        "id": "9KUFS0tdr8Y1"
      },
      "source": [
        "dict2=pd.Series(df_fault_data.Fault.values,index=df_fault_data.Time).to_dict()"
      ],
      "execution_count": null,
      "outputs": []
    },
    {
      "cell_type": "code",
      "metadata": {
        "id": "yaXbSwxnr8Y2"
      },
      "source": [
        "for time in dict2:\n",
        "    df_main.loc[df_main['Time']==time, 'Fault'] = dict2[time]"
      ],
      "execution_count": null,
      "outputs": []
    },
    {
      "cell_type": "code",
      "metadata": {
        "colab": {
          "base_uri": "https://localhost:8080/",
          "height": 842
        },
        "id": "vsGd2mGir8Y3",
        "outputId": "aadb09f4-8035-4517-d0f9-02304ea05285"
      },
      "source": [
        "df_main['Fault']=df_main['Fault'].fillna(\"No Fault\")\n",
        "df_main"
      ],
      "execution_count": null,
      "outputs": [
        {
          "output_type": "execute_result",
          "data": {
            "text/html": [
              "<div>\n",
              "<style scoped>\n",
              "    .dataframe tbody tr th:only-of-type {\n",
              "        vertical-align: middle;\n",
              "    }\n",
              "\n",
              "    .dataframe tbody tr th {\n",
              "        vertical-align: top;\n",
              "    }\n",
              "\n",
              "    .dataframe thead th {\n",
              "        text-align: right;\n",
              "    }\n",
              "</style>\n",
              "<table border=\"1\" class=\"dataframe\">\n",
              "  <thead>\n",
              "    <tr style=\"text-align: right;\">\n",
              "      <th></th>\n",
              "      <th>DateTime</th>\n",
              "      <th>Time</th>\n",
              "      <th>Error</th>\n",
              "      <th>WEC: ava. windspeed</th>\n",
              "      <th>WEC: ava. Rotation</th>\n",
              "      <th>WEC: ava. Power</th>\n",
              "      <th>WEC: ava. Nacel position including cable twisting</th>\n",
              "      <th>WEC: Operating Hours</th>\n",
              "      <th>WEC: ava. blade angle A</th>\n",
              "      <th>Spinner temp.</th>\n",
              "      <th>Front bearing temp.</th>\n",
              "      <th>Rear bearing temp.</th>\n",
              "      <th>Blade B temp.</th>\n",
              "      <th>Rotor temp. 1</th>\n",
              "      <th>Stator temp. 1</th>\n",
              "      <th>Nacelle temp.</th>\n",
              "      <th>Yaw inverter cabinet temp.</th>\n",
              "      <th>Fan inverter cabinet temp.</th>\n",
              "      <th>Ambient temp.</th>\n",
              "      <th>Tower temp.</th>\n",
              "      <th>Control cabinet temp.</th>\n",
              "      <th>Transformer temp.</th>\n",
              "      <th>Fault</th>\n",
              "    </tr>\n",
              "  </thead>\n",
              "  <tbody>\n",
              "    <tr>\n",
              "      <th>0</th>\n",
              "      <td>05-01-2014 00:00</td>\n",
              "      <td>1398920448</td>\n",
              "      <td>0</td>\n",
              "      <td>6.9</td>\n",
              "      <td>0.00</td>\n",
              "      <td>0</td>\n",
              "      <td>640</td>\n",
              "      <td>881</td>\n",
              "      <td>91.959999</td>\n",
              "      <td>13</td>\n",
              "      <td>13</td>\n",
              "      <td>13</td>\n",
              "      <td>166</td>\n",
              "      <td>15</td>\n",
              "      <td>15</td>\n",
              "      <td>14</td>\n",
              "      <td>20</td>\n",
              "      <td>25</td>\n",
              "      <td>12</td>\n",
              "      <td>14</td>\n",
              "      <td>24</td>\n",
              "      <td>34</td>\n",
              "      <td>No Fault</td>\n",
              "    </tr>\n",
              "    <tr>\n",
              "      <th>1</th>\n",
              "      <td>05-01-2014 00:09</td>\n",
              "      <td>1398920960</td>\n",
              "      <td>0</td>\n",
              "      <td>5.3</td>\n",
              "      <td>0.00</td>\n",
              "      <td>0</td>\n",
              "      <td>640</td>\n",
              "      <td>881</td>\n",
              "      <td>91.959999</td>\n",
              "      <td>13</td>\n",
              "      <td>13</td>\n",
              "      <td>13</td>\n",
              "      <td>166</td>\n",
              "      <td>15</td>\n",
              "      <td>15</td>\n",
              "      <td>13</td>\n",
              "      <td>20</td>\n",
              "      <td>25</td>\n",
              "      <td>12</td>\n",
              "      <td>14</td>\n",
              "      <td>24</td>\n",
              "      <td>34</td>\n",
              "      <td>No Fault</td>\n",
              "    </tr>\n",
              "    <tr>\n",
              "      <th>2</th>\n",
              "      <td>05-01-2014 00:20</td>\n",
              "      <td>1398921600</td>\n",
              "      <td>0</td>\n",
              "      <td>5.0</td>\n",
              "      <td>0.00</td>\n",
              "      <td>0</td>\n",
              "      <td>640</td>\n",
              "      <td>881</td>\n",
              "      <td>91.940002</td>\n",
              "      <td>13</td>\n",
              "      <td>13</td>\n",
              "      <td>13</td>\n",
              "      <td>166</td>\n",
              "      <td>15</td>\n",
              "      <td>15</td>\n",
              "      <td>13</td>\n",
              "      <td>20</td>\n",
              "      <td>25</td>\n",
              "      <td>12</td>\n",
              "      <td>14</td>\n",
              "      <td>24</td>\n",
              "      <td>34</td>\n",
              "      <td>No Fault</td>\n",
              "    </tr>\n",
              "    <tr>\n",
              "      <th>3</th>\n",
              "      <td>05-01-2014 00:30</td>\n",
              "      <td>1398922240</td>\n",
              "      <td>0</td>\n",
              "      <td>4.4</td>\n",
              "      <td>0.00</td>\n",
              "      <td>0</td>\n",
              "      <td>641</td>\n",
              "      <td>881</td>\n",
              "      <td>91.949997</td>\n",
              "      <td>13</td>\n",
              "      <td>13</td>\n",
              "      <td>13</td>\n",
              "      <td>166</td>\n",
              "      <td>15</td>\n",
              "      <td>15</td>\n",
              "      <td>13</td>\n",
              "      <td>21</td>\n",
              "      <td>25</td>\n",
              "      <td>12</td>\n",
              "      <td>14</td>\n",
              "      <td>24</td>\n",
              "      <td>34</td>\n",
              "      <td>No Fault</td>\n",
              "    </tr>\n",
              "    <tr>\n",
              "      <th>4</th>\n",
              "      <td>05-01-2014 00:39</td>\n",
              "      <td>1398922752</td>\n",
              "      <td>0</td>\n",
              "      <td>5.7</td>\n",
              "      <td>0.00</td>\n",
              "      <td>0</td>\n",
              "      <td>633</td>\n",
              "      <td>881</td>\n",
              "      <td>91.940002</td>\n",
              "      <td>13</td>\n",
              "      <td>13</td>\n",
              "      <td>13</td>\n",
              "      <td>166</td>\n",
              "      <td>15</td>\n",
              "      <td>15</td>\n",
              "      <td>13</td>\n",
              "      <td>21</td>\n",
              "      <td>25</td>\n",
              "      <td>12</td>\n",
              "      <td>14</td>\n",
              "      <td>23</td>\n",
              "      <td>34</td>\n",
              "      <td>No Fault</td>\n",
              "    </tr>\n",
              "    <tr>\n",
              "      <th>...</th>\n",
              "      <td>...</td>\n",
              "      <td>...</td>\n",
              "      <td>...</td>\n",
              "      <td>...</td>\n",
              "      <td>...</td>\n",
              "      <td>...</td>\n",
              "      <td>...</td>\n",
              "      <td>...</td>\n",
              "      <td>...</td>\n",
              "      <td>...</td>\n",
              "      <td>...</td>\n",
              "      <td>...</td>\n",
              "      <td>...</td>\n",
              "      <td>...</td>\n",
              "      <td>...</td>\n",
              "      <td>...</td>\n",
              "      <td>...</td>\n",
              "      <td>...</td>\n",
              "      <td>...</td>\n",
              "      <td>...</td>\n",
              "      <td>...</td>\n",
              "      <td>...</td>\n",
              "      <td>...</td>\n",
              "    </tr>\n",
              "    <tr>\n",
              "      <th>49022</th>\n",
              "      <td>04-08-2015 23:20</td>\n",
              "      <td>1428553216</td>\n",
              "      <td>0</td>\n",
              "      <td>3.9</td>\n",
              "      <td>6.75</td>\n",
              "      <td>147</td>\n",
              "      <td>148</td>\n",
              "      <td>7884</td>\n",
              "      <td>1.000000</td>\n",
              "      <td>18</td>\n",
              "      <td>24</td>\n",
              "      <td>29</td>\n",
              "      <td>165</td>\n",
              "      <td>46</td>\n",
              "      <td>46</td>\n",
              "      <td>16</td>\n",
              "      <td>23</td>\n",
              "      <td>28</td>\n",
              "      <td>9</td>\n",
              "      <td>17</td>\n",
              "      <td>27</td>\n",
              "      <td>35</td>\n",
              "      <td>No Fault</td>\n",
              "    </tr>\n",
              "    <tr>\n",
              "      <th>49023</th>\n",
              "      <td>04-08-2015 23:30</td>\n",
              "      <td>1428553856</td>\n",
              "      <td>0</td>\n",
              "      <td>3.9</td>\n",
              "      <td>6.64</td>\n",
              "      <td>128</td>\n",
              "      <td>148</td>\n",
              "      <td>7884</td>\n",
              "      <td>1.000000</td>\n",
              "      <td>18</td>\n",
              "      <td>24</td>\n",
              "      <td>29</td>\n",
              "      <td>165</td>\n",
              "      <td>46</td>\n",
              "      <td>46</td>\n",
              "      <td>16</td>\n",
              "      <td>23</td>\n",
              "      <td>28</td>\n",
              "      <td>9</td>\n",
              "      <td>17</td>\n",
              "      <td>27</td>\n",
              "      <td>35</td>\n",
              "      <td>No Fault</td>\n",
              "    </tr>\n",
              "    <tr>\n",
              "      <th>49024</th>\n",
              "      <td>04-08-2015 23:39</td>\n",
              "      <td>1428554368</td>\n",
              "      <td>0</td>\n",
              "      <td>4.2</td>\n",
              "      <td>7.18</td>\n",
              "      <td>163</td>\n",
              "      <td>149</td>\n",
              "      <td>7884</td>\n",
              "      <td>1.000000</td>\n",
              "      <td>18</td>\n",
              "      <td>24</td>\n",
              "      <td>29</td>\n",
              "      <td>165</td>\n",
              "      <td>46</td>\n",
              "      <td>46</td>\n",
              "      <td>16</td>\n",
              "      <td>23</td>\n",
              "      <td>28</td>\n",
              "      <td>9</td>\n",
              "      <td>18</td>\n",
              "      <td>27</td>\n",
              "      <td>34</td>\n",
              "      <td>No Fault</td>\n",
              "    </tr>\n",
              "    <tr>\n",
              "      <th>49025</th>\n",
              "      <td>04-08-2015 23:50</td>\n",
              "      <td>1428555008</td>\n",
              "      <td>0</td>\n",
              "      <td>4.1</td>\n",
              "      <td>7.02</td>\n",
              "      <td>160</td>\n",
              "      <td>151</td>\n",
              "      <td>7884</td>\n",
              "      <td>1.000000</td>\n",
              "      <td>18</td>\n",
              "      <td>24</td>\n",
              "      <td>30</td>\n",
              "      <td>165</td>\n",
              "      <td>46</td>\n",
              "      <td>46</td>\n",
              "      <td>16</td>\n",
              "      <td>23</td>\n",
              "      <td>28</td>\n",
              "      <td>9</td>\n",
              "      <td>17</td>\n",
              "      <td>27</td>\n",
              "      <td>34</td>\n",
              "      <td>No Fault</td>\n",
              "    </tr>\n",
              "    <tr>\n",
              "      <th>49026</th>\n",
              "      <td>04-09-2015 00:00</td>\n",
              "      <td>1428555648</td>\n",
              "      <td>0</td>\n",
              "      <td>4.8</td>\n",
              "      <td>8.39</td>\n",
              "      <td>284</td>\n",
              "      <td>152</td>\n",
              "      <td>7884</td>\n",
              "      <td>1.000000</td>\n",
              "      <td>18</td>\n",
              "      <td>24</td>\n",
              "      <td>30</td>\n",
              "      <td>165</td>\n",
              "      <td>46</td>\n",
              "      <td>46</td>\n",
              "      <td>16</td>\n",
              "      <td>22</td>\n",
              "      <td>28</td>\n",
              "      <td>9</td>\n",
              "      <td>17</td>\n",
              "      <td>27</td>\n",
              "      <td>34</td>\n",
              "      <td>No Fault</td>\n",
              "    </tr>\n",
              "  </tbody>\n",
              "</table>\n",
              "<p>49027 rows × 23 columns</p>\n",
              "</div>"
            ],
            "text/plain": [
              "               DateTime        Time  ...  Transformer temp.     Fault\n",
              "0      05-01-2014 00:00  1398920448  ...                 34  No Fault\n",
              "1      05-01-2014 00:09  1398920960  ...                 34  No Fault\n",
              "2      05-01-2014 00:20  1398921600  ...                 34  No Fault\n",
              "3      05-01-2014 00:30  1398922240  ...                 34  No Fault\n",
              "4      05-01-2014 00:39  1398922752  ...                 34  No Fault\n",
              "...                 ...         ...  ...                ...       ...\n",
              "49022  04-08-2015 23:20  1428553216  ...                 35  No Fault\n",
              "49023  04-08-2015 23:30  1428553856  ...                 35  No Fault\n",
              "49024  04-08-2015 23:39  1428554368  ...                 34  No Fault\n",
              "49025  04-08-2015 23:50  1428555008  ...                 34  No Fault\n",
              "49026  04-09-2015 00:00  1428555648  ...                 34  No Fault\n",
              "\n",
              "[49027 rows x 23 columns]"
            ]
          },
          "metadata": {
            "tags": []
          },
          "execution_count": 10
        }
      ]
    },
    {
      "cell_type": "code",
      "metadata": {
        "id": "eQABQMDBr8Y4"
      },
      "source": [
        "from sklearn.metrics import classification_report, confusion_matrix\n",
        "from sklearn.model_selection import train_test_split"
      ],
      "execution_count": null,
      "outputs": []
    },
    {
      "cell_type": "code",
      "metadata": {
        "id": "NXOELH4ur8Y4"
      },
      "source": [
        "df_main.drop('DateTime',axis=1,inplace=True)\n",
        "df_main.drop('Time',axis=1,inplace=True)\n",
        "df_main.drop('Error',axis=1,inplace=True)"
      ],
      "execution_count": null,
      "outputs": []
    },
    {
      "cell_type": "code",
      "metadata": {
        "colab": {
          "base_uri": "https://localhost:8080/",
          "height": 674
        },
        "id": "Bqxua3fQr8Y5",
        "outputId": "a5504f59-a35b-45a9-e517-2e29562ba185"
      },
      "source": [
        "df_main"
      ],
      "execution_count": null,
      "outputs": [
        {
          "output_type": "execute_result",
          "data": {
            "text/html": [
              "<div>\n",
              "<style scoped>\n",
              "    .dataframe tbody tr th:only-of-type {\n",
              "        vertical-align: middle;\n",
              "    }\n",
              "\n",
              "    .dataframe tbody tr th {\n",
              "        vertical-align: top;\n",
              "    }\n",
              "\n",
              "    .dataframe thead th {\n",
              "        text-align: right;\n",
              "    }\n",
              "</style>\n",
              "<table border=\"1\" class=\"dataframe\">\n",
              "  <thead>\n",
              "    <tr style=\"text-align: right;\">\n",
              "      <th></th>\n",
              "      <th>WEC: ava. windspeed</th>\n",
              "      <th>WEC: ava. Rotation</th>\n",
              "      <th>WEC: ava. Power</th>\n",
              "      <th>WEC: ava. Nacel position including cable twisting</th>\n",
              "      <th>WEC: Operating Hours</th>\n",
              "      <th>WEC: ava. blade angle A</th>\n",
              "      <th>Spinner temp.</th>\n",
              "      <th>Front bearing temp.</th>\n",
              "      <th>Rear bearing temp.</th>\n",
              "      <th>Blade B temp.</th>\n",
              "      <th>Rotor temp. 1</th>\n",
              "      <th>Stator temp. 1</th>\n",
              "      <th>Nacelle temp.</th>\n",
              "      <th>Yaw inverter cabinet temp.</th>\n",
              "      <th>Fan inverter cabinet temp.</th>\n",
              "      <th>Ambient temp.</th>\n",
              "      <th>Tower temp.</th>\n",
              "      <th>Control cabinet temp.</th>\n",
              "      <th>Transformer temp.</th>\n",
              "      <th>Fault</th>\n",
              "    </tr>\n",
              "  </thead>\n",
              "  <tbody>\n",
              "    <tr>\n",
              "      <th>0</th>\n",
              "      <td>6.9</td>\n",
              "      <td>0.00</td>\n",
              "      <td>0</td>\n",
              "      <td>640</td>\n",
              "      <td>881</td>\n",
              "      <td>91.959999</td>\n",
              "      <td>13</td>\n",
              "      <td>13</td>\n",
              "      <td>13</td>\n",
              "      <td>166</td>\n",
              "      <td>15</td>\n",
              "      <td>15</td>\n",
              "      <td>14</td>\n",
              "      <td>20</td>\n",
              "      <td>25</td>\n",
              "      <td>12</td>\n",
              "      <td>14</td>\n",
              "      <td>24</td>\n",
              "      <td>34</td>\n",
              "      <td>No Fault</td>\n",
              "    </tr>\n",
              "    <tr>\n",
              "      <th>1</th>\n",
              "      <td>5.3</td>\n",
              "      <td>0.00</td>\n",
              "      <td>0</td>\n",
              "      <td>640</td>\n",
              "      <td>881</td>\n",
              "      <td>91.959999</td>\n",
              "      <td>13</td>\n",
              "      <td>13</td>\n",
              "      <td>13</td>\n",
              "      <td>166</td>\n",
              "      <td>15</td>\n",
              "      <td>15</td>\n",
              "      <td>13</td>\n",
              "      <td>20</td>\n",
              "      <td>25</td>\n",
              "      <td>12</td>\n",
              "      <td>14</td>\n",
              "      <td>24</td>\n",
              "      <td>34</td>\n",
              "      <td>No Fault</td>\n",
              "    </tr>\n",
              "    <tr>\n",
              "      <th>2</th>\n",
              "      <td>5.0</td>\n",
              "      <td>0.00</td>\n",
              "      <td>0</td>\n",
              "      <td>640</td>\n",
              "      <td>881</td>\n",
              "      <td>91.940002</td>\n",
              "      <td>13</td>\n",
              "      <td>13</td>\n",
              "      <td>13</td>\n",
              "      <td>166</td>\n",
              "      <td>15</td>\n",
              "      <td>15</td>\n",
              "      <td>13</td>\n",
              "      <td>20</td>\n",
              "      <td>25</td>\n",
              "      <td>12</td>\n",
              "      <td>14</td>\n",
              "      <td>24</td>\n",
              "      <td>34</td>\n",
              "      <td>No Fault</td>\n",
              "    </tr>\n",
              "    <tr>\n",
              "      <th>3</th>\n",
              "      <td>4.4</td>\n",
              "      <td>0.00</td>\n",
              "      <td>0</td>\n",
              "      <td>641</td>\n",
              "      <td>881</td>\n",
              "      <td>91.949997</td>\n",
              "      <td>13</td>\n",
              "      <td>13</td>\n",
              "      <td>13</td>\n",
              "      <td>166</td>\n",
              "      <td>15</td>\n",
              "      <td>15</td>\n",
              "      <td>13</td>\n",
              "      <td>21</td>\n",
              "      <td>25</td>\n",
              "      <td>12</td>\n",
              "      <td>14</td>\n",
              "      <td>24</td>\n",
              "      <td>34</td>\n",
              "      <td>No Fault</td>\n",
              "    </tr>\n",
              "    <tr>\n",
              "      <th>4</th>\n",
              "      <td>5.7</td>\n",
              "      <td>0.00</td>\n",
              "      <td>0</td>\n",
              "      <td>633</td>\n",
              "      <td>881</td>\n",
              "      <td>91.940002</td>\n",
              "      <td>13</td>\n",
              "      <td>13</td>\n",
              "      <td>13</td>\n",
              "      <td>166</td>\n",
              "      <td>15</td>\n",
              "      <td>15</td>\n",
              "      <td>13</td>\n",
              "      <td>21</td>\n",
              "      <td>25</td>\n",
              "      <td>12</td>\n",
              "      <td>14</td>\n",
              "      <td>23</td>\n",
              "      <td>34</td>\n",
              "      <td>No Fault</td>\n",
              "    </tr>\n",
              "    <tr>\n",
              "      <th>...</th>\n",
              "      <td>...</td>\n",
              "      <td>...</td>\n",
              "      <td>...</td>\n",
              "      <td>...</td>\n",
              "      <td>...</td>\n",
              "      <td>...</td>\n",
              "      <td>...</td>\n",
              "      <td>...</td>\n",
              "      <td>...</td>\n",
              "      <td>...</td>\n",
              "      <td>...</td>\n",
              "      <td>...</td>\n",
              "      <td>...</td>\n",
              "      <td>...</td>\n",
              "      <td>...</td>\n",
              "      <td>...</td>\n",
              "      <td>...</td>\n",
              "      <td>...</td>\n",
              "      <td>...</td>\n",
              "      <td>...</td>\n",
              "    </tr>\n",
              "    <tr>\n",
              "      <th>49022</th>\n",
              "      <td>3.9</td>\n",
              "      <td>6.75</td>\n",
              "      <td>147</td>\n",
              "      <td>148</td>\n",
              "      <td>7884</td>\n",
              "      <td>1.000000</td>\n",
              "      <td>18</td>\n",
              "      <td>24</td>\n",
              "      <td>29</td>\n",
              "      <td>165</td>\n",
              "      <td>46</td>\n",
              "      <td>46</td>\n",
              "      <td>16</td>\n",
              "      <td>23</td>\n",
              "      <td>28</td>\n",
              "      <td>9</td>\n",
              "      <td>17</td>\n",
              "      <td>27</td>\n",
              "      <td>35</td>\n",
              "      <td>No Fault</td>\n",
              "    </tr>\n",
              "    <tr>\n",
              "      <th>49023</th>\n",
              "      <td>3.9</td>\n",
              "      <td>6.64</td>\n",
              "      <td>128</td>\n",
              "      <td>148</td>\n",
              "      <td>7884</td>\n",
              "      <td>1.000000</td>\n",
              "      <td>18</td>\n",
              "      <td>24</td>\n",
              "      <td>29</td>\n",
              "      <td>165</td>\n",
              "      <td>46</td>\n",
              "      <td>46</td>\n",
              "      <td>16</td>\n",
              "      <td>23</td>\n",
              "      <td>28</td>\n",
              "      <td>9</td>\n",
              "      <td>17</td>\n",
              "      <td>27</td>\n",
              "      <td>35</td>\n",
              "      <td>No Fault</td>\n",
              "    </tr>\n",
              "    <tr>\n",
              "      <th>49024</th>\n",
              "      <td>4.2</td>\n",
              "      <td>7.18</td>\n",
              "      <td>163</td>\n",
              "      <td>149</td>\n",
              "      <td>7884</td>\n",
              "      <td>1.000000</td>\n",
              "      <td>18</td>\n",
              "      <td>24</td>\n",
              "      <td>29</td>\n",
              "      <td>165</td>\n",
              "      <td>46</td>\n",
              "      <td>46</td>\n",
              "      <td>16</td>\n",
              "      <td>23</td>\n",
              "      <td>28</td>\n",
              "      <td>9</td>\n",
              "      <td>18</td>\n",
              "      <td>27</td>\n",
              "      <td>34</td>\n",
              "      <td>No Fault</td>\n",
              "    </tr>\n",
              "    <tr>\n",
              "      <th>49025</th>\n",
              "      <td>4.1</td>\n",
              "      <td>7.02</td>\n",
              "      <td>160</td>\n",
              "      <td>151</td>\n",
              "      <td>7884</td>\n",
              "      <td>1.000000</td>\n",
              "      <td>18</td>\n",
              "      <td>24</td>\n",
              "      <td>30</td>\n",
              "      <td>165</td>\n",
              "      <td>46</td>\n",
              "      <td>46</td>\n",
              "      <td>16</td>\n",
              "      <td>23</td>\n",
              "      <td>28</td>\n",
              "      <td>9</td>\n",
              "      <td>17</td>\n",
              "      <td>27</td>\n",
              "      <td>34</td>\n",
              "      <td>No Fault</td>\n",
              "    </tr>\n",
              "    <tr>\n",
              "      <th>49026</th>\n",
              "      <td>4.8</td>\n",
              "      <td>8.39</td>\n",
              "      <td>284</td>\n",
              "      <td>152</td>\n",
              "      <td>7884</td>\n",
              "      <td>1.000000</td>\n",
              "      <td>18</td>\n",
              "      <td>24</td>\n",
              "      <td>30</td>\n",
              "      <td>165</td>\n",
              "      <td>46</td>\n",
              "      <td>46</td>\n",
              "      <td>16</td>\n",
              "      <td>22</td>\n",
              "      <td>28</td>\n",
              "      <td>9</td>\n",
              "      <td>17</td>\n",
              "      <td>27</td>\n",
              "      <td>34</td>\n",
              "      <td>No Fault</td>\n",
              "    </tr>\n",
              "  </tbody>\n",
              "</table>\n",
              "<p>49027 rows × 20 columns</p>\n",
              "</div>"
            ],
            "text/plain": [
              "       WEC: ava. windspeed  WEC: ava. Rotation  ...  Transformer temp.     Fault\n",
              "0                      6.9                0.00  ...                 34  No Fault\n",
              "1                      5.3                0.00  ...                 34  No Fault\n",
              "2                      5.0                0.00  ...                 34  No Fault\n",
              "3                      4.4                0.00  ...                 34  No Fault\n",
              "4                      5.7                0.00  ...                 34  No Fault\n",
              "...                    ...                 ...  ...                ...       ...\n",
              "49022                  3.9                6.75  ...                 35  No Fault\n",
              "49023                  3.9                6.64  ...                 35  No Fault\n",
              "49024                  4.2                7.18  ...                 34  No Fault\n",
              "49025                  4.1                7.02  ...                 34  No Fault\n",
              "49026                  4.8                8.39  ...                 34  No Fault\n",
              "\n",
              "[49027 rows x 20 columns]"
            ]
          },
          "metadata": {
            "tags": []
          },
          "execution_count": 13
        }
      ]
    },
    {
      "cell_type": "code",
      "metadata": {
        "id": "JFXOF9cTr8Y7"
      },
      "source": [
        "df_main['Fault'].unique()"
      ],
      "execution_count": null,
      "outputs": []
    },
    {
      "cell_type": "code",
      "metadata": {
        "id": "AK3z67sQr8Y7"
      },
      "source": [
        "X=df_main.drop('Fault',axis=1)\n",
        "y=df_main['Fault']"
      ],
      "execution_count": null,
      "outputs": []
    },
    {
      "cell_type": "markdown",
      "metadata": {
        "id": "1zEFbmF2r8Y8"
      },
      "source": [
        "# Feature Selection"
      ]
    },
    {
      "cell_type": "code",
      "metadata": {
        "id": "hYaymePfr8Y8"
      },
      "source": [
        "from sklearn.feature_selection import SelectKBest\n",
        "from sklearn.feature_selection import f_classif"
      ],
      "execution_count": null,
      "outputs": []
    },
    {
      "cell_type": "code",
      "metadata": {
        "id": "YX3pQPA9r8Y9"
      },
      "source": [
        ""
      ],
      "execution_count": null,
      "outputs": []
    },
    {
      "cell_type": "code",
      "metadata": {
        "id": "WQaYvyEmr8Y9"
      },
      "source": [
        ""
      ],
      "execution_count": null,
      "outputs": []
    },
    {
      "cell_type": "code",
      "metadata": {
        "colab": {
          "base_uri": "https://localhost:8080/"
        },
        "id": "WYxjc5Qxr8Y9",
        "outputId": "33ef8400-2746-44ec-c3ea-7d62034ad723"
      },
      "source": [
        "from imblearn.over_sampling import SMOTE\n",
        "from imblearn.pipeline import make_pipeline"
      ],
      "execution_count": null,
      "outputs": [
        {
          "output_type": "stream",
          "text": [
            "/usr/local/lib/python3.6/dist-packages/sklearn/externals/six.py:31: FutureWarning: The module is deprecated in version 0.21 and will be removed in version 0.23 since we've dropped support for Python 2.7. Please rely on the official version of six (https://pypi.org/project/six/).\n",
            "  \"(https://pypi.org/project/six/).\", FutureWarning)\n",
            "/usr/local/lib/python3.6/dist-packages/sklearn/utils/deprecation.py:144: FutureWarning: The sklearn.neighbors.base module is  deprecated in version 0.22 and will be removed in version 0.24. The corresponding classes / functions should instead be imported from sklearn.neighbors. Anything that cannot be imported from sklearn.neighbors is now part of the private API.\n",
            "  warnings.warn(message, FutureWarning)\n"
          ],
          "name": "stderr"
        }
      ]
    },
    {
      "cell_type": "code",
      "metadata": {
        "colab": {
          "base_uri": "https://localhost:8080/"
        },
        "id": "lKH1Hp6nr8Y-",
        "outputId": "0258f87e-4487-404f-fc33-a99f32adf3a5"
      },
      "source": [
        "sm = SMOTE(random_state=42)\n",
        "X_smote, y_smote = sm.fit_sample(X, y)"
      ],
      "execution_count": null,
      "outputs": [
        {
          "output_type": "stream",
          "text": [
            "/usr/local/lib/python3.6/dist-packages/sklearn/utils/deprecation.py:87: FutureWarning: Function safe_indexing is deprecated; safe_indexing is deprecated in version 0.22 and will be removed in version 0.24.\n",
            "  warnings.warn(msg, category=FutureWarning)\n",
            "/usr/local/lib/python3.6/dist-packages/sklearn/utils/deprecation.py:87: FutureWarning: Function safe_indexing is deprecated; safe_indexing is deprecated in version 0.22 and will be removed in version 0.24.\n",
            "  warnings.warn(msg, category=FutureWarning)\n",
            "/usr/local/lib/python3.6/dist-packages/sklearn/utils/deprecation.py:87: FutureWarning: Function safe_indexing is deprecated; safe_indexing is deprecated in version 0.22 and will be removed in version 0.24.\n",
            "  warnings.warn(msg, category=FutureWarning)\n",
            "/usr/local/lib/python3.6/dist-packages/sklearn/utils/deprecation.py:87: FutureWarning: Function safe_indexing is deprecated; safe_indexing is deprecated in version 0.22 and will be removed in version 0.24.\n",
            "  warnings.warn(msg, category=FutureWarning)\n",
            "/usr/local/lib/python3.6/dist-packages/sklearn/utils/deprecation.py:87: FutureWarning: Function safe_indexing is deprecated; safe_indexing is deprecated in version 0.22 and will be removed in version 0.24.\n",
            "  warnings.warn(msg, category=FutureWarning)\n"
          ],
          "name": "stderr"
        }
      ]
    },
    {
      "cell_type": "code",
      "metadata": {
        "colab": {
          "base_uri": "https://localhost:8080/"
        },
        "id": "cpUPExW9r8Y-",
        "outputId": "14e0cab1-36af-4056-e500-61c7f895b687"
      },
      "source": [
        "unique, count = np.unique(y_smote, return_counts=True)\n",
        "y_train_smote_value_count = { k:v for (k,v) in zip(unique, count)}\n",
        "y_train_smote_value_count"
      ],
      "execution_count": null,
      "outputs": [
        {
          "output_type": "execute_result",
          "data": {
            "text/plain": [
              "{'AF': 48581,\n",
              " 'EF': 48581,\n",
              " 'FF': 48581,\n",
              " 'GF': 48581,\n",
              " 'MF': 48581,\n",
              " 'No Fault': 48581}"
            ]
          },
          "metadata": {
            "tags": []
          },
          "execution_count": 18
        }
      ]
    },
    {
      "cell_type": "code",
      "metadata": {
        "colab": {
          "base_uri": "https://localhost:8080/"
        },
        "id": "jqaMjPOIr8ZB",
        "outputId": "6b40937d-fde3-4f13-b874-a0a0a9a44161"
      },
      "source": [
        "X_smote.shape"
      ],
      "execution_count": null,
      "outputs": [
        {
          "output_type": "execute_result",
          "data": {
            "text/plain": [
              "(291486, 19)"
            ]
          },
          "metadata": {
            "tags": []
          },
          "execution_count": 19
        }
      ]
    },
    {
      "cell_type": "code",
      "metadata": {
        "colab": {
          "base_uri": "https://localhost:8080/"
        },
        "id": "cC15fi0tr8ZC",
        "outputId": "ca418c8d-fa62-4d0b-e4d8-bbafc85654bb"
      },
      "source": [
        "y_smote.shape"
      ],
      "execution_count": null,
      "outputs": [
        {
          "output_type": "execute_result",
          "data": {
            "text/plain": [
              "(291486,)"
            ]
          },
          "metadata": {
            "tags": []
          },
          "execution_count": 29
        }
      ]
    },
    {
      "cell_type": "code",
      "metadata": {
        "id": "zgNH1Ailr8ZD"
      },
      "source": [
        "fs = SelectKBest(score_func=f_classif, k=8)\n",
        "# apply feature selection\n",
        "selector = fs.fit(X_smote, y_smote)"
      ],
      "execution_count": null,
      "outputs": []
    },
    {
      "cell_type": "code",
      "metadata": {
        "colab": {
          "base_uri": "https://localhost:8080/"
        },
        "id": "vcpS8xj5r8ZD",
        "outputId": "041b4790-e60d-4834-cf13-10503d2c5b03"
      },
      "source": [
        "cols = selector.get_support(indices=True)\n",
        "cols"
      ],
      "execution_count": null,
      "outputs": [
        {
          "output_type": "execute_result",
          "data": {
            "text/plain": [
              "array([ 0,  2,  7,  8, 10, 11, 17, 18])"
            ]
          },
          "metadata": {
            "tags": []
          },
          "execution_count": 26
        }
      ]
    },
    {
      "cell_type": "code",
      "metadata": {
        "id": "xRTZ7yErr8ZD"
      },
      "source": [
        "new_X = pd.DataFrame(X_smote)\n",
        "new_X = new_X.iloc[:,cols]"
      ],
      "execution_count": null,
      "outputs": []
    },
    {
      "cell_type": "code",
      "metadata": {
        "colab": {
          "base_uri": "https://localhost:8080/"
        },
        "id": "PIfMPXDtr8ZE",
        "outputId": "277b537a-0b65-445a-9542-660273dfc296"
      },
      "source": [
        "new_X.columns"
      ],
      "execution_count": null,
      "outputs": [
        {
          "output_type": "execute_result",
          "data": {
            "text/plain": [
              "Int64Index([0, 2, 7, 8, 10, 11, 17, 18], dtype='int64')"
            ]
          },
          "metadata": {
            "tags": []
          },
          "execution_count": 37
        }
      ]
    },
    {
      "cell_type": "markdown",
      "metadata": {
        "id": "y-66gPwSr8ZE"
      },
      "source": [
        "# Neural networks"
      ]
    },
    {
      "cell_type": "code",
      "metadata": {
        "scrolled": true,
        "id": "cac-h45yr8ZE"
      },
      "source": [
        "from keras.models import Sequential\n",
        "from keras.layers import Dense, Activation, Dropout"
      ],
      "execution_count": null,
      "outputs": []
    },
    {
      "cell_type": "code",
      "metadata": {
        "id": "CDKD_ORgr8ZF"
      },
      "source": [
        "from sklearn.preprocessing import MinMaxScaler\n",
        "scaler = MinMaxScaler()\n",
        "scaler.fit(new_X)\n",
        "new_X = scaler.transform(new_X)"
      ],
      "execution_count": null,
      "outputs": []
    },
    {
      "cell_type": "code",
      "metadata": {
        "id": "kl169AM4r8ZF"
      },
      "source": [
        "X_train, X_test, y_train, y_test = train_test_split(new_X, y_smote, test_size=0.2, random_state=42)"
      ],
      "execution_count": null,
      "outputs": []
    },
    {
      "cell_type": "code",
      "metadata": {
        "id": "zZBCaemar8ZG"
      },
      "source": [
        "from sklearn.preprocessing import LabelEncoder\n",
        "from keras.utils import to_categorical\n",
        "label_encoder = LabelEncoder() \n",
        "\n",
        "#Fit label encoder and return encoded labels as a vector\n",
        "vector_train = label_encoder.fit_transform(y_train) #create a vector\n",
        "vector_test = label_encoder.fit_transform(y_test)\n",
        "\n",
        "#Convert to categorical\n",
        "y_train = to_categorical(vector_train)\n",
        "y_test = to_categorical(vector_test)"
      ],
      "execution_count": null,
      "outputs": []
    },
    {
      "cell_type": "code",
      "metadata": {
        "colab": {
          "base_uri": "https://localhost:8080/"
        },
        "id": "g6OWIU2Wr8ZG",
        "outputId": "2eefb5eb-cd3a-417b-91f0-105fbda1b501"
      },
      "source": [
        "print(y_train)\n",
        "print()\n",
        "print(y_test)"
      ],
      "execution_count": null,
      "outputs": [
        {
          "output_type": "stream",
          "text": [
            "[[1. 0. 0. 0. 0. 0.]\n",
            " [1. 0. 0. 0. 0. 0.]\n",
            " [1. 0. 0. 0. 0. 0.]\n",
            " ...\n",
            " [0. 1. 0. 0. 0. 0.]\n",
            " [0. 0. 1. 0. 0. 0.]\n",
            " [0. 1. 0. 0. 0. 0.]]\n",
            "\n",
            "[[0. 0. 1. 0. 0. 0.]\n",
            " [1. 0. 0. 0. 0. 0.]\n",
            " [0. 0. 1. 0. 0. 0.]\n",
            " ...\n",
            " [0. 0. 0. 0. 0. 1.]\n",
            " [0. 0. 0. 0. 0. 1.]\n",
            " [0. 0. 0. 1. 0. 0.]]\n"
          ],
          "name": "stdout"
        }
      ]
    },
    {
      "cell_type": "code",
      "metadata": {
        "id": "X4yCT33lr8ZH",
        "outputId": "765fe69e-3f96-4b4f-8870-474083e786f9"
      },
      "source": [
        "model = Sequential()\n",
        "model.add(Dense(24, input_dim=8, activation='relu')) \n",
        "model.add(Dropout(0.2))\n",
        "\n",
        "model.add(Dense(15, activation='relu')) \n",
        "model.add(Dropout(0.2))\n",
        "\n",
        "model.add(Dense(12, activation='relu')) \n",
        "\n",
        "model.add(Dense(6, activation='softmax'))   \n",
        "\n",
        "model.compile(optimizer = 'rmsprop',loss = 'categorical_crossentropy', metrics = ['accuracy'])\n",
        "print(model.summary()) \n",
        "\n"
      ],
      "execution_count": null,
      "outputs": [
        {
          "output_type": "stream",
          "text": [
            "Model: \"sequential_1\"\n",
            "_________________________________________________________________\n",
            "Layer (type)                 Output Shape              Param #   \n",
            "=================================================================\n",
            "dense_1 (Dense)              (None, 24)                216       \n",
            "_________________________________________________________________\n",
            "dropout_1 (Dropout)          (None, 24)                0         \n",
            "_________________________________________________________________\n",
            "dense_2 (Dense)              (None, 15)                375       \n",
            "_________________________________________________________________\n",
            "dropout_2 (Dropout)          (None, 15)                0         \n",
            "_________________________________________________________________\n",
            "dense_3 (Dense)              (None, 12)                192       \n",
            "_________________________________________________________________\n",
            "dense_4 (Dense)              (None, 6)                 78        \n",
            "=================================================================\n",
            "Total params: 861\n",
            "Trainable params: 861\n",
            "Non-trainable params: 0\n",
            "_________________________________________________________________\n",
            "None\n"
          ],
          "name": "stdout"
        }
      ]
    },
    {
      "cell_type": "code",
      "metadata": {
        "id": "hz1mwyk7r8ZI",
        "outputId": "5cbbc6b7-15c3-4375-841f-3574dcf98ed5"
      },
      "source": [
        "history = model.fit(X_train, y_train ,verbose=1, epochs=100, batch_size=64,\n",
        "                    validation_data=(X_test, y_test))"
      ],
      "execution_count": null,
      "outputs": [
        {
          "output_type": "stream",
          "text": [
            "WARNING:tensorflow:From C:\\Users\\lenovo\\anaconda3\\lib\\site-packages\\keras\\backend\\tensorflow_backend.py:422: The name tf.global_variables is deprecated. Please use tf.compat.v1.global_variables instead.\n",
            "\n",
            "Train on 233188 samples, validate on 58298 samples\n",
            "Epoch 1/100\n",
            "233188/233188 [==============================] - 12s 51us/step - loss: 0.9930 - accuracy: 0.5888 - val_loss: 0.6496 - val_accuracy: 0.7477\n",
            "Epoch 2/100\n",
            "233188/233188 [==============================] - 10s 44us/step - loss: 0.6871 - accuracy: 0.7214 - val_loss: 0.5221 - val_accuracy: 0.7867\n",
            "Epoch 3/100\n",
            "233188/233188 [==============================] - 10s 44us/step - loss: 0.6114 - accuracy: 0.7538 - val_loss: 0.4628 - val_accuracy: 0.8095\n",
            "Epoch 4/100\n",
            "233188/233188 [==============================] - 13s 56us/step - loss: 0.5701 - accuracy: 0.7675 - val_loss: 0.4398 - val_accuracy: 0.8107\n",
            "Epoch 5/100\n",
            "233188/233188 [==============================] - 14s 58us/step - loss: 0.5467 - accuracy: 0.7755 - val_loss: 0.4202 - val_accuracy: 0.8237\n",
            "Epoch 6/100\n",
            "233188/233188 [==============================] - 13s 57us/step - loss: 0.5314 - accuracy: 0.7817 - val_loss: 0.4168 - val_accuracy: 0.8202\n",
            "Epoch 7/100\n",
            "233188/233188 [==============================] - 13s 54us/step - loss: 0.5153 - accuracy: 0.7884 - val_loss: 0.4071 - val_accuracy: 0.8314\n",
            "Epoch 8/100\n",
            "233188/233188 [==============================] - 11s 48us/step - loss: 0.5051 - accuracy: 0.7929 - val_loss: 0.3932 - val_accuracy: 0.8320\n",
            "Epoch 9/100\n",
            "233188/233188 [==============================] - 11s 48us/step - loss: 0.4944 - accuracy: 0.7992 - val_loss: 0.3963 - val_accuracy: 0.8305\n",
            "Epoch 10/100\n",
            "233188/233188 [==============================] - 10s 45us/step - loss: 0.4848 - accuracy: 0.8043 - val_loss: 0.3684 - val_accuracy: 0.8407\n",
            "Epoch 11/100\n",
            "233188/233188 [==============================] - 11s 47us/step - loss: 0.4772 - accuracy: 0.8083 - val_loss: 0.3978 - val_accuracy: 0.8366\n",
            "Epoch 12/100\n",
            "233188/233188 [==============================] - 13s 54us/step - loss: 0.4710 - accuracy: 0.8111 - val_loss: 0.3670 - val_accuracy: 0.8432\n",
            "Epoch 13/100\n",
            "233188/233188 [==============================] - 14s 58us/step - loss: 0.4648 - accuracy: 0.8147 - val_loss: 0.3524 - val_accuracy: 0.8490\n",
            "Epoch 14/100\n",
            "233188/233188 [==============================] - 11s 47us/step - loss: 0.4605 - accuracy: 0.8169 - val_loss: 0.3423 - val_accuracy: 0.8653\n",
            "Epoch 15/100\n",
            "233188/233188 [==============================] - 11s 46us/step - loss: 0.4559 - accuracy: 0.8207 - val_loss: 0.3603 - val_accuracy: 0.8584\n",
            "Epoch 16/100\n",
            "233188/233188 [==============================] - 12s 53us/step - loss: 0.4529 - accuracy: 0.8221 - val_loss: 0.3495 - val_accuracy: 0.8567\n",
            "Epoch 17/100\n",
            "233188/233188 [==============================] - 11s 49us/step - loss: 0.4503 - accuracy: 0.8235 - val_loss: 0.3644 - val_accuracy: 0.8623\n",
            "Epoch 18/100\n",
            "233188/233188 [==============================] - 12s 51us/step - loss: 0.4454 - accuracy: 0.8260 - val_loss: 0.3470 - val_accuracy: 0.8547\n",
            "Epoch 19/100\n",
            "233188/233188 [==============================] - 11s 48us/step - loss: 0.4434 - accuracy: 0.8269 - val_loss: 0.3722 - val_accuracy: 0.8458\n",
            "Epoch 20/100\n",
            "233188/233188 [==============================] - 11s 46us/step - loss: 0.4400 - accuracy: 0.8289 - val_loss: 0.3574 - val_accuracy: 0.8518\n",
            "Epoch 21/100\n",
            "233188/233188 [==============================] - 11s 47us/step - loss: 0.4402 - accuracy: 0.8291 - val_loss: 0.3312 - val_accuracy: 0.8654\n",
            "Epoch 22/100\n",
            "233188/233188 [==============================] - 10s 44us/step - loss: 0.4380 - accuracy: 0.8305 - val_loss: 0.3565 - val_accuracy: 0.8606\n",
            "Epoch 23/100\n",
            "233188/233188 [==============================] - 13s 57us/step - loss: 0.4361 - accuracy: 0.8308 - val_loss: 0.3381 - val_accuracy: 0.8621\n",
            "Epoch 24/100\n",
            "233188/233188 [==============================] - 12s 53us/step - loss: 0.4370 - accuracy: 0.8318 - val_loss: 0.3329 - val_accuracy: 0.8659\n",
            "Epoch 25/100\n",
            "233188/233188 [==============================] - 11s 48us/step - loss: 0.4335 - accuracy: 0.8326 - val_loss: 0.3764 - val_accuracy: 0.8489\n",
            "Epoch 26/100\n",
            "233188/233188 [==============================] - 12s 51us/step - loss: 0.4338 - accuracy: 0.8330 - val_loss: 0.3556 - val_accuracy: 0.8609\n",
            "Epoch 27/100\n",
            "233188/233188 [==============================] - 10s 44us/step - loss: 0.4319 - accuracy: 0.8331 - val_loss: 0.3359 - val_accuracy: 0.8655\n",
            "Epoch 28/100\n",
            "233188/233188 [==============================] - 10s 44us/step - loss: 0.4317 - accuracy: 0.8336 - val_loss: 0.3227 - val_accuracy: 0.8717\n",
            "Epoch 29/100\n",
            "233188/233188 [==============================] - 10s 45us/step - loss: 0.4316 - accuracy: 0.8337 - val_loss: 0.3462 - val_accuracy: 0.8551\n",
            "Epoch 30/100\n",
            "233188/233188 [==============================] - 11s 46us/step - loss: 0.4308 - accuracy: 0.8349 - val_loss: 0.3227 - val_accuracy: 0.8774\n",
            "Epoch 31/100\n",
            "233188/233188 [==============================] - 11s 48us/step - loss: 0.4293 - accuracy: 0.8352 - val_loss: 0.3459 - val_accuracy: 0.8538\n",
            "Epoch 32/100\n",
            "233188/233188 [==============================] - 13s 54us/step - loss: 0.4281 - accuracy: 0.8359 - val_loss: 0.3311 - val_accuracy: 0.8617\n",
            "Epoch 33/100\n",
            "233188/233188 [==============================] - 12s 50us/step - loss: 0.4269 - accuracy: 0.8368 - val_loss: 0.3728 - val_accuracy: 0.8490\n",
            "Epoch 34/100\n",
            "233188/233188 [==============================] - 15s 65us/step - loss: 0.4266 - accuracy: 0.8366 - val_loss: 0.3420 - val_accuracy: 0.8618\n",
            "Epoch 35/100\n",
            "233188/233188 [==============================] - 11s 48us/step - loss: 0.4232 - accuracy: 0.8384 - val_loss: 0.3554 - val_accuracy: 0.8626\n",
            "Epoch 36/100\n",
            "233188/233188 [==============================] - 11s 47us/step - loss: 0.4201 - accuracy: 0.8386 - val_loss: 0.3511 - val_accuracy: 0.8582\n",
            "Epoch 37/100\n",
            "233188/233188 [==============================] - 12s 53us/step - loss: 0.4245 - accuracy: 0.8379 - val_loss: 0.3217 - val_accuracy: 0.8697\n",
            "Epoch 38/100\n",
            "233188/233188 [==============================] - 16s 68us/step - loss: 0.4196 - accuracy: 0.8396 - val_loss: 0.3445 - val_accuracy: 0.8623\n",
            "Epoch 39/100\n",
            "233188/233188 [==============================] - 12s 53us/step - loss: 0.4177 - accuracy: 0.8412 - val_loss: 0.3241 - val_accuracy: 0.8715\n",
            "Epoch 40/100\n",
            "233188/233188 [==============================] - 12s 53us/step - loss: 0.4179 - accuracy: 0.8400 - val_loss: 0.3332 - val_accuracy: 0.8639\n",
            "Epoch 41/100\n",
            "233188/233188 [==============================] - 13s 56us/step - loss: 0.4175 - accuracy: 0.8414 - val_loss: 0.3517 - val_accuracy: 0.8635\n",
            "Epoch 42/100\n",
            "233188/233188 [==============================] - 11s 47us/step - loss: 0.4157 - accuracy: 0.8417 - val_loss: 0.3371 - val_accuracy: 0.8702\n",
            "Epoch 43/100\n",
            "233188/233188 [==============================] - 11s 47us/step - loss: 0.4137 - accuracy: 0.8412 - val_loss: 0.3207 - val_accuracy: 0.8765\n",
            "Epoch 44/100\n",
            "233188/233188 [==============================] - 11s 46us/step - loss: 0.4154 - accuracy: 0.8425 - val_loss: 0.3331 - val_accuracy: 0.8728\n",
            "Epoch 45/100\n",
            "233188/233188 [==============================] - 11s 49us/step - loss: 0.4134 - accuracy: 0.8428 - val_loss: 0.3175 - val_accuracy: 0.8729\n",
            "Epoch 46/100\n",
            "233188/233188 [==============================] - 14s 61us/step - loss: 0.4140 - accuracy: 0.8424 - val_loss: 0.3263 - val_accuracy: 0.8758\n",
            "Epoch 47/100\n",
            "233188/233188 [==============================] - 14s 59us/step - loss: 0.4130 - accuracy: 0.8426 - val_loss: 0.3087 - val_accuracy: 0.8815\n",
            "Epoch 48/100\n",
            "233188/233188 [==============================] - 12s 50us/step - loss: 0.4154 - accuracy: 0.8425 - val_loss: 0.3450 - val_accuracy: 0.8609\n",
            "Epoch 49/100\n",
            "233188/233188 [==============================] - 12s 49us/step - loss: 0.4114 - accuracy: 0.8444 - val_loss: 0.3273 - val_accuracy: 0.8721\n",
            "Epoch 50/100\n",
            "233188/233188 [==============================] - 11s 46us/step - loss: 0.4135 - accuracy: 0.8433 - val_loss: 0.3017 - val_accuracy: 0.8812\n",
            "Epoch 51/100\n",
            "233188/233188 [==============================] - 11s 46us/step - loss: 0.4138 - accuracy: 0.8437 - val_loss: 0.3247 - val_accuracy: 0.8707\n",
            "Epoch 52/100\n",
            "233188/233188 [==============================] - 11s 48us/step - loss: 0.4120 - accuracy: 0.8443 - val_loss: 0.3060 - val_accuracy: 0.8830\n",
            "Epoch 53/100\n",
            "233188/233188 [==============================] - 11s 48us/step - loss: 0.4134 - accuracy: 0.8438 - val_loss: 0.3307 - val_accuracy: 0.8716\n",
            "Epoch 54/100\n",
            "233188/233188 [==============================] - 12s 51us/step - loss: 0.4150 - accuracy: 0.8436 - val_loss: 0.3163 - val_accuracy: 0.8722\n",
            "Epoch 55/100\n",
            "233188/233188 [==============================] - 12s 53us/step - loss: 0.4134 - accuracy: 0.8449 - val_loss: 0.3384 - val_accuracy: 0.8709\n",
            "Epoch 56/100\n",
            "233188/233188 [==============================] - 11s 47us/step - loss: 0.4132 - accuracy: 0.8447 - val_loss: 0.3095 - val_accuracy: 0.8812\n",
            "Epoch 57/100\n",
            "233188/233188 [==============================] - 11s 48us/step - loss: 0.4109 - accuracy: 0.8448 - val_loss: 0.3307 - val_accuracy: 0.8727\n",
            "Epoch 58/100\n",
            "233188/233188 [==============================] - 12s 53us/step - loss: 0.4106 - accuracy: 0.8448 - val_loss: 0.3461 - val_accuracy: 0.8593\n",
            "Epoch 59/100\n",
            "233188/233188 [==============================] - 12s 53us/step - loss: 0.4090 - accuracy: 0.8459 - val_loss: 0.3098 - val_accuracy: 0.8734\n",
            "Epoch 60/100\n",
            "233188/233188 [==============================] - 11s 48us/step - loss: 0.4231 - accuracy: 0.8417 - val_loss: 0.3054 - val_accuracy: 0.8775\n",
            "Epoch 61/100\n",
            "233188/233188 [==============================] - 10s 45us/step - loss: 0.4205 - accuracy: 0.8415 - val_loss: 0.3250 - val_accuracy: 0.8688\n",
            "Epoch 62/100\n",
            "233188/233188 [==============================] - 11s 45us/step - loss: 0.4198 - accuracy: 0.8408 - val_loss: 0.2976 - val_accuracy: 0.8791\n",
            "Epoch 63/100\n",
            "233188/233188 [==============================] - 11s 49us/step - loss: 0.4189 - accuracy: 0.8416 - val_loss: 0.3275 - val_accuracy: 0.8743\n",
            "Epoch 64/100\n",
            "233188/233188 [==============================] - 12s 49us/step - loss: 0.4183 - accuracy: 0.8414 - val_loss: 0.3309 - val_accuracy: 0.8657\n",
            "Epoch 65/100\n",
            "233188/233188 [==============================] - 13s 54us/step - loss: 0.4161 - accuracy: 0.8425 - val_loss: 0.3317 - val_accuracy: 0.8627\n",
            "Epoch 66/100\n",
            "233188/233188 [==============================] - 13s 56us/step - loss: 0.4133 - accuracy: 0.8424 - val_loss: 0.3349 - val_accuracy: 0.8641\n",
            "Epoch 67/100\n",
            "233188/233188 [==============================] - 12s 53us/step - loss: 0.4172 - accuracy: 0.8421 - val_loss: 0.3217 - val_accuracy: 0.8715\n",
            "Epoch 68/100\n",
            "233188/233188 [==============================] - 11s 45us/step - loss: 0.4153 - accuracy: 0.8426 - val_loss: 0.3288 - val_accuracy: 0.8668\n",
            "Epoch 69/100\n",
            "233188/233188 [==============================] - 11s 45us/step - loss: 0.4135 - accuracy: 0.8429 - val_loss: 0.3179 - val_accuracy: 0.8734\n",
            "Epoch 70/100\n",
            "233188/233188 [==============================] - 12s 51us/step - loss: 0.4124 - accuracy: 0.8436 - val_loss: 0.3204 - val_accuracy: 0.8722\n",
            "Epoch 71/100\n",
            "233188/233188 [==============================] - 11s 47us/step - loss: 0.4135 - accuracy: 0.8435 - val_loss: 0.3031 - val_accuracy: 0.8787\n",
            "Epoch 72/100\n",
            "233188/233188 [==============================] - 11s 47us/step - loss: 0.4141 - accuracy: 0.8431 - val_loss: 0.3250 - val_accuracy: 0.8716\n",
            "Epoch 73/100\n",
            "233188/233188 [==============================] - 12s 51us/step - loss: 0.4130 - accuracy: 0.8436 - val_loss: 0.3199 - val_accuracy: 0.8696\n",
            "Epoch 74/100\n",
            "233188/233188 [==============================] - 10s 44us/step - loss: 0.4138 - accuracy: 0.8423 - val_loss: 0.3091 - val_accuracy: 0.8746\n",
            "Epoch 75/100\n",
            "233188/233188 [==============================] - 11s 46us/step - loss: 0.4131 - accuracy: 0.8439 - val_loss: 0.3668 - val_accuracy: 0.8555\n",
            "Epoch 76/100\n",
            "233188/233188 [==============================] - 12s 51us/step - loss: 0.4133 - accuracy: 0.8444 - val_loss: 0.3181 - val_accuracy: 0.8760\n",
            "Epoch 77/100\n",
            "233188/233188 [==============================] - 11s 47us/step - loss: 0.4141 - accuracy: 0.8437 - val_loss: 0.3287 - val_accuracy: 0.8714\n",
            "Epoch 78/100\n",
            "233188/233188 [==============================] - 11s 47us/step - loss: 0.4126 - accuracy: 0.8444 - val_loss: 0.3455 - val_accuracy: 0.8698\n",
            "Epoch 79/100\n",
            "233188/233188 [==============================] - 11s 46us/step - loss: 0.4134 - accuracy: 0.8436 - val_loss: 0.3068 - val_accuracy: 0.8819\n",
            "Epoch 80/100\n",
            "233188/233188 [==============================] - 12s 52us/step - loss: 0.4120 - accuracy: 0.8448 - val_loss: 0.3296 - val_accuracy: 0.8689\n",
            "Epoch 81/100\n",
            "233188/233188 [==============================] - 11s 46us/step - loss: 0.4111 - accuracy: 0.8449 - val_loss: 0.3035 - val_accuracy: 0.8798\n",
            "Epoch 82/100\n",
            "233188/233188 [==============================] - 11s 45us/step - loss: 0.4129 - accuracy: 0.8443 - val_loss: 0.3086 - val_accuracy: 0.8774\n",
            "Epoch 83/100\n",
            "233188/233188 [==============================] - 10s 45us/step - loss: 0.4142 - accuracy: 0.8439 - val_loss: 0.3162 - val_accuracy: 0.8747\n",
            "Epoch 84/100\n",
            "233188/233188 [==============================] - 11s 46us/step - loss: 0.4130 - accuracy: 0.8453 - val_loss: 0.3231 - val_accuracy: 0.8753\n",
            "Epoch 85/100\n",
            "233188/233188 [==============================] - 11s 47us/step - loss: 0.4128 - accuracy: 0.8446 - val_loss: 0.3206 - val_accuracy: 0.8667\n",
            "Epoch 86/100\n",
            "233188/233188 [==============================] - 11s 48us/step - loss: 0.4139 - accuracy: 0.8450 - val_loss: 0.3520 - val_accuracy: 0.8611\n",
            "Epoch 87/100\n",
            "233188/233188 [==============================] - 11s 47us/step - loss: 0.4122 - accuracy: 0.8447 - val_loss: 0.3576 - val_accuracy: 0.8621\n",
            "Epoch 88/100\n",
            "233188/233188 [==============================] - 12s 50us/step - loss: 0.4124 - accuracy: 0.8447 - val_loss: 0.3117 - val_accuracy: 0.8720\n",
            "Epoch 89/100\n",
            "233188/233188 [==============================] - 10s 45us/step - loss: 0.4131 - accuracy: 0.8458 - val_loss: 0.3249 - val_accuracy: 0.8653\n",
            "Epoch 90/100\n",
            "233188/233188 [==============================] - 10s 44us/step - loss: 0.4127 - accuracy: 0.8452 - val_loss: 0.3268 - val_accuracy: 0.8638\n",
            "Epoch 91/100\n",
            "233188/233188 [==============================] - 13s 57us/step - loss: 0.4106 - accuracy: 0.8472 - val_loss: 0.3169 - val_accuracy: 0.8689\n",
            "Epoch 92/100\n",
            "233188/233188 [==============================] - 11s 47us/step - loss: 0.4130 - accuracy: 0.8454 - val_loss: 0.3191 - val_accuracy: 0.8709\n",
            "Epoch 93/100\n",
            "233188/233188 [==============================] - 12s 50us/step - loss: 0.4121 - accuracy: 0.8458 - val_loss: 0.3393 - val_accuracy: 0.8661\n",
            "Epoch 94/100\n",
            "233188/233188 [==============================] - 10s 45us/step - loss: 0.4089 - accuracy: 0.8462 - val_loss: 0.3404 - val_accuracy: 0.8572\n",
            "Epoch 95/100\n",
            "233188/233188 [==============================] - 10s 45us/step - loss: 0.4094 - accuracy: 0.8467 - val_loss: 0.3018 - val_accuracy: 0.8775\n",
            "Epoch 96/100\n",
            "233188/233188 [==============================] - 11s 46us/step - loss: 0.4125 - accuracy: 0.8454 - val_loss: 0.3265 - val_accuracy: 0.8689\n",
            "Epoch 97/100\n",
            "233188/233188 [==============================] - 10s 45us/step - loss: 0.4121 - accuracy: 0.8460 - val_loss: 0.3335 - val_accuracy: 0.8763\n",
            "Epoch 98/100\n",
            "233188/233188 [==============================] - 10s 45us/step - loss: 0.4110 - accuracy: 0.8470 - val_loss: 0.3300 - val_accuracy: 0.8709\n",
            "Epoch 99/100\n",
            "233188/233188 [==============================] - 11s 46us/step - loss: 0.4094 - accuracy: 0.8468 - val_loss: 0.3138 - val_accuracy: 0.8759\n",
            "Epoch 100/100\n",
            "233188/233188 [==============================] - 10s 45us/step - loss: 0.4100 - accuracy: 0.8471 - val_loss: 0.3099 - val_accuracy: 0.8727\n"
          ],
          "name": "stdout"
        }
      ]
    },
    {
      "cell_type": "code",
      "metadata": {
        "id": "BiMVSTkJr8ZI",
        "outputId": "6635472a-f7e9-4841-8ff3-950da4ee357f"
      },
      "source": [
        "loss = history.history['loss']\n",
        "val_loss = history.history['val_loss']\n",
        "epochs = range(1, len(loss) + 1)\n",
        "plt.plot(epochs, loss, 'y', label='Training loss')\n",
        "plt.plot(epochs, val_loss, 'r', label='Validation loss')\n",
        "plt.title('Training and validation loss')\n",
        "plt.xlabel('Epochs')\n",
        "plt.ylabel('Loss')\n",
        "plt.legend()\n",
        "plt.show()"
      ],
      "execution_count": null,
      "outputs": [
        {
          "output_type": "display_data",
          "data": {
            "image/png": "[encoded data removed]",
            "text/plain": [
              "<Figure size 432x288 with 1 Axes>"
            ]
          },
          "metadata": {
            "tags": [],
            "needs_background": "light"
          }
        }
      ]
    },
    {
      "cell_type": "code",
      "metadata": {
        "id": "pCVB102Br8ZJ",
        "outputId": "474fe2a6-e53e-44ad-f392-f9acc75e28bc"
      },
      "source": [
        "acc = history.history['accuracy']\n",
        "val_acc = history.history['val_accuracy']\n",
        "plt.plot(epochs, acc, 'y', label='Training acc')\n",
        "plt.plot(epochs, val_acc, 'r', label='Validation acc')\n",
        "plt.title('Training and validation accuracy')\n",
        "plt.xlabel('Epochs')\n",
        "plt.ylabel('Accuracy')\n",
        "plt.legend()\n",
        "plt.show()"
      ],
      "execution_count": null,
      "outputs": [
        {
          "output_type": "display_data",
          "data": {
            "image/png": "[encoded data removed]",
            "text/plain": [
              "<Figure size 432x288 with 1 Axes>"
            ]
          },
          "metadata": {
            "tags": [],
            "needs_background": "light"
          }
        }
      ]
    },
    {
      "cell_type": "markdown",
      "metadata": {
        "id": "tcwbD8a7r8ZK"
      },
      "source": [
        "# Neural network Hypertuning"
      ]
    },
    {
      "cell_type": "code",
      "metadata": {
        "id": "qC4VJ1QPr8ZL"
      },
      "source": [
        "from keras.wrappers.scikit_learn import KerasClassifier\n",
        "from sklearn.model_selection import GridSearchCV"
      ],
      "execution_count": null,
      "outputs": []
    },
    {
      "cell_type": "code",
      "metadata": {
        "id": "LTXQ9bb9r8ZM"
      },
      "source": [
        "from keras.models import Sequential\n",
        "from keras.layers import Dense, Activation, Embedding, Flatten, LeakyReLU, BatchNormalization, Dropout\n",
        "from keras.activations import relu, sigmoid"
      ],
      "execution_count": null,
      "outputs": []
    },
    {
      "cell_type": "code",
      "metadata": {
        "id": "QleDiIFDr8ZM"
      },
      "source": [
        "def create_model(layers, activation):\n",
        "    model = Sequential()\n",
        "    for i, nodes in enumerate(layers):\n",
        "        if i==0:\n",
        "            model.add(Dense(nodes,input_dim=8))\n",
        "            model.add(Activation(activation))\n",
        "            model.add(Dropout(0.2))\n",
        "        else:\n",
        "            model.add(Dense(nodes))\n",
        "            model.add(Activation(activation))\n",
        "            model.add(Dropout(0.2))\n",
        "            \n",
        "    model.add(Dense(6, activation='softmax')) \n",
        "    \n",
        "    model.compile(optimizer = 'rmsprop',loss = 'categorical_crossentropy', metrics = ['accuracy'])\n",
        "    return model\n",
        "    \n",
        "model = KerasClassifier(build_fn=create_model, verbose=0)"
      ],
      "execution_count": null,
      "outputs": []
    },
    {
      "cell_type": "code",
      "metadata": {
        "id": "OOYHAEXbr8ZN"
      },
      "source": [
        "\n",
        "layers = [(20,), (16, 16), (32, 16, 16)]\n",
        "activations = ['relu']\n",
        "param_grid = dict(layers=layers, activation=activations, batch_size = (64, 128), epochs=[30])\n",
        "grid = GridSearchCV(estimator=model, param_grid=param_grid,cv=3)"
      ],
      "execution_count": null,
      "outputs": []
    },
    {
      "cell_type": "code",
      "metadata": {
        "id": "Jf0Yag3Yr8ZN"
      },
      "source": [
        "grid_result = grid.fit(X_train, y_train)"
      ],
      "execution_count": null,
      "outputs": []
    },
    {
      "cell_type": "code",
      "metadata": {
        "colab": {
          "base_uri": "https://localhost:8080/"
        },
        "id": "idvQUYrnr8ZO",
        "outputId": "aea42521-3042-4e73-9d6f-a7d0a61bcc5d"
      },
      "source": [
        "[grid_result.best_score_,grid_result.best_params_]"
      ],
      "execution_count": null,
      "outputs": [
        {
          "output_type": "execute_result",
          "data": {
            "text/plain": [
              "[0.8258228500684103,\n",
              " {'activation': 'relu',\n",
              "  'batch_size': 64,\n",
              "  'epochs': 30,\n",
              "  'layers': (32, 16, 16)}]"
            ]
          },
          "metadata": {
            "tags": []
          },
          "execution_count": 55
        }
      ]
    },
    {
      "cell_type": "code",
      "metadata": {
        "id": "3x79Lnn83xLA"
      },
      "source": [
        ""
      ],
      "execution_count": null,
      "outputs": []
    }
  ]
}